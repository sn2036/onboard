{
 "cells": [
  {
   "cell_type": "code",
   "execution_count": 1,
   "metadata": {
    "editable": true,
    "slideshow": {
     "slide_type": "skip"
    },
    "tags": []
   },
   "outputs": [],
   "source": [
    "import pandas as pd"
   ]
  },
  {
   "cell_type": "markdown",
   "metadata": {
    "editable": true,
    "slideshow": {
     "slide_type": "slide"
    },
    "tags": []
   },
   "source": [
    "# Wranglin' – Corralling Unruly Data\n",
    "One bit at a time\n",
    "***\n",
    "\n",
    "**Version 0.1**\n",
    "\n",
    "By AA Miller  \n",
    "2025 Sep 9"
   ]
  },
  {
   "cell_type": "markdown",
   "metadata": {
    "editable": true,
    "slideshow": {
     "slide_type": "skip"
    },
    "tags": []
   },
   "source": [
    "For this exercise you will need some pre-prepared text files. They have been compiled into a tarball that you should [download](https://arch.library.northwestern.edu/downloads/8g84mm66j?locale=en) and unpack in the same directory as this notebook. "
   ]
  },
  {
   "cell_type": "markdown",
   "metadata": {
    "editable": true,
    "slideshow": {
     "slide_type": "slide"
    },
    "tags": []
   },
   "source": [
    "Webster's Dictionary$^\\ast$ defines wrangler as:\n",
    "\n",
    "**wrangler** noun\n",
    "\n",
    "wran·gler | raŋ-g(ə-)lər\n",
    "\n",
    "(short for horse-wrangler, probably partial translation of Mexican Spanish caballerango groom): a ranch hand who takes care of the saddle horses broadly : cowboy "
   ]
  },
  {
   "cell_type": "markdown",
   "metadata": {
    "editable": true,
    "slideshow": {
     "slide_type": "subslide"
    },
    "tags": []
   },
   "source": [
    "$^\\ast$actually https://www.merriam-webster.com/dictionary/ - Webster's didn't define wrangler in the way I wanted"
   ]
  },
  {
   "cell_type": "markdown",
   "metadata": {
    "editable": true,
    "slideshow": {
     "slide_type": "slide"
    },
    "tags": []
   },
   "source": [
    "How then, as physicts and astronomers, are we all like cowhands?\n",
    "\n",
    "Data are often like horses in that: they all differ, rarely conform to a single standard set of behavior, and they love to eat hay.$^\\dagger$"
   ]
  },
  {
   "cell_type": "markdown",
   "metadata": {
    "editable": true,
    "slideshow": {
     "slide_type": "subslide"
    },
    "tags": []
   },
   "source": [
    "$^\\dagger$I made that last one up."
   ]
  },
  {
   "cell_type": "markdown",
   "metadata": {
    "editable": true,
    "slideshow": {
     "slide_type": "slide"
    },
    "tags": []
   },
   "source": [
    "Thus, in our efforts to better understand the Universe, we must often manipulate, coax, and, in some cases, force our data to \"behave.\" This involves a variety of tasks, such as: gathering, cleaning, matching, restructuring, transforming, filtering, combining, merging, verifying, and fixing data."
   ]
  },
  {
   "cell_type": "markdown",
   "metadata": {
    "editable": true,
    "slideshow": {
     "slide_type": "slide"
    },
    "tags": []
   },
   "source": [
    "Here is a brief and unfortunate truth, there isn't a single person in the entire world that would organize data in *exactly* the same way that you would."
   ]
  },
  {
   "cell_type": "markdown",
   "metadata": {
    "editable": true,
    "slideshow": {
     "slide_type": "slide"
    },
    "tags": []
   },
   "source": [
    "As a result, you may find that data that are useful to you are not organized in an optimal fashion for use in your workflow/software.\n",
    "\n",
    "Hence: the need to wrangle."
   ]
  },
  {
   "cell_type": "markdown",
   "metadata": {
    "editable": true,
    "slideshow": {
     "slide_type": "slide"
    },
    "tags": []
   },
   "source": [
    "There is one important and significant way in which our lives as physicists are much better than the average data scientist: virtually all of it is numbers."
   ]
  },
  {
   "cell_type": "markdown",
   "metadata": {
    "editable": true,
    "slideshow": {
     "slide_type": "slide"
    },
    "tags": []
   },
   "source": [
    "Furthermore, I contend that more often than not your data can easily be organized into a simple tabular structure."
   ]
  },
  {
   "cell_type": "markdown",
   "metadata": {
    "editable": true,
    "slideshow": {
     "slide_type": "slide"
    },
    "tags": []
   },
   "source": [
    "Nevertheless, as you will see during the exercises, even with relatively simple, small numerical data sets there is a need for wrangling.\n",
    "\n",
    "And wrangling brings up a lot of issues..."
   ]
  },
  {
   "cell_type": "markdown",
   "metadata": {
    "editable": true,
    "slideshow": {
     "slide_type": "slide"
    },
    "tags": []
   },
   "source": [
    "Consider the following data set that contains the street names for my best friends from childhood:\n",
    "\n",
    "    ['Ewing', 'Isabella', 'Reese', 'Isabella', \n",
    "     'Thayer', 'Reese', 'Reese', 'Ewing', 'Reece']\n",
    "\n",
    "Do you notice anything interesting?"
   ]
  },
  {
   "cell_type": "markdown",
   "metadata": {
    "editable": true,
    "slideshow": {
     "slide_type": "slide"
    },
    "tags": []
   },
   "source": [
    "Either my hometown has a street named \"Reese\"  and a street named \"Reece\", or the last entry was input incorrectly. \n",
    "\n",
    "If the later is true, then we have to raise the question of: what should we do?"
   ]
  },
  {
   "cell_type": "markdown",
   "metadata": {
    "editable": true,
    "slideshow": {
     "slide_type": "slide"
    },
    "tags": []
   },
   "source": [
    "For this particular data set, it would be possible to create a verification procedure to test for similar errors.\n",
    "\n",
    "1. Collect every street name in the city (from post office?)\n",
    "2. Confirm every data entry has a counterpart.\n",
    "\n",
    "For any instances where this isn't the case, one could then intervene with a correction. "
   ]
  },
  {
   "cell_type": "markdown",
   "metadata": {
    "editable": true,
    "slideshow": {
     "slide_type": "slide"
    },
    "tags": []
   },
   "source": [
    "This particular verification catches this street name error, but it doesn't correct for the possibility that the person doing the data entry may have been reading addresses really quickly and the third \"Reese\" entry should have actually said \"Lawndale.\"\n",
    "\n",
    "(verification is really hard)"
   ]
  },
  {
   "cell_type": "markdown",
   "metadata": {
    "editable": true,
    "slideshow": {
     "slide_type": "slide"
    },
    "tags": []
   },
   "source": [
    "Data provenance – a historical record of the data and its origins – is really really hard."
   ]
  },
  {
   "cell_type": "markdown",
   "metadata": {
    "editable": true,
    "slideshow": {
     "slide_type": "slide"
    },
    "tags": []
   },
   "source": [
    "If you are making \"corrections\" to the data, then each and every one of those corrections should be reported (for databases this is called \"logging\"). Ideally, these reports would live with the data so others could understand how things have changed."
   ]
  },
  {
   "cell_type": "markdown",
   "metadata": {
    "slideshow": {
     "slide_type": "slide"
    }
   },
   "source": [
    "If you did change \"Reece\" to \"Reese\", anyone working with the data should be able to confirm those changes."
   ]
  },
  {
   "cell_type": "markdown",
   "metadata": {
    "slideshow": {
     "slide_type": "slide"
    }
   },
   "source": [
    "Suppose now you wanted to use the same street name data set to estimate which street I lived on while growing up. "
   ]
  },
  {
   "cell_type": "markdown",
   "metadata": {
    "editable": true,
    "slideshow": {
     "slide_type": "slide"
    },
    "tags": []
   },
   "source": [
    "One way to mathematically approach this problem would be to convert the streets in the data set to GPS coordinates, and then perform an average for the coordinates of where I lived. \n",
    "\n",
    "This too is a form of wrangling, because the data you have (street names) are not the data you need (coordinates). "
   ]
  },
  {
   "cell_type": "markdown",
   "metadata": {
    "editable": true,
    "slideshow": {
     "slide_type": "slide"
    },
    "tags": []
   },
   "source": [
    "Why harp on this? \n",
    "\n",
    "In practice, data scientists (including physicists) spend an unreasonable amount of time manipulating and quality checking data (some indsutry experts estimate that up to 80% of their time is spent warnglin')."
   ]
  },
  {
   "cell_type": "markdown",
   "metadata": {
    "editable": true,
    "slideshow": {
     "slide_type": "slide"
    },
    "tags": []
   },
   "source": [
    "Today, we will work through several examples that require wrangling, while, hopefully, building some strategies to minimize the amount of time you spend on these tasks in the future."
   ]
  },
  {
   "cell_type": "markdown",
   "metadata": {
    "editable": true,
    "slideshow": {
     "slide_type": "slide"
    },
    "tags": []
   },
   "source": [
    "For completeness, I will mention that there is a famous canonical paper about [data wrangling](http://vis.stanford.edu/files/2011-Wrangler-CHI.pdf), which introduces the [`Wrangler`](http://vis.stanford.edu/wrangler/), a tool specifically designed to take heterogeneous (text) data, and provide a set of suggested operations/manipulations to  create a homogenous table amenable to standard statistical analysis."
   ]
  },
  {
   "cell_type": "markdown",
   "metadata": {
    "editable": true,
    "slideshow": {
     "slide_type": "slide"
    },
    "tags": []
   },
   "source": [
    "One extremely nice property of the `Wrangler` is that it records every operation performed on the data, ensuring high-fidelity reporting on the data provenance. We should do a better job of this (certainly for astronomy, possibly in your field as well)."
   ]
  },
  {
   "cell_type": "markdown",
   "metadata": {
    "editable": true,
    "slideshow": {
     "slide_type": "slide"
    },
    "tags": []
   },
   "source": [
    "Today, we are going to focus on `python` solutions to some specific data sets (drawn from astronomy, but the specifics will not matter).\n",
    "\n",
    "Hopefully you learn some tricks to make your work easier in the future."
   ]
  },
  {
   "cell_type": "markdown",
   "metadata": {
    "editable": true,
    "slideshow": {
     "slide_type": "slide"
    },
    "tags": []
   },
   "source": [
    "## Problem 0) An (Incomplete) Introduction to Pandas DataFrames"
   ]
  },
  {
   "cell_type": "markdown",
   "metadata": {
    "editable": true,
    "slideshow": {
     "slide_type": "slide"
    },
    "tags": []
   },
   "source": [
    "[`Pandas`](https://pandas.pydata.org/) is a powerful open-source Python library designed for data analysis and manipulation. \n",
    "\n",
    "There are two primary data structures: \n",
    "\n",
    "1. `Series` (for one-dimensional data)\n",
    "2. `DataFrame` (for two-dimensional, tabular data)."
   ]
  },
  {
   "cell_type": "markdown",
   "metadata": {
    "editable": true,
    "slideshow": {
     "slide_type": "slide"
    },
    "tags": []
   },
   "source": [
    "If you need to load, clean, transform, and/or analyze a data set, `pandas` makes this very easy. \n",
    "\n",
    "It also natively knows about many of the most common data formats (e.g., CSV, Excel, SQL databases, etc), which significantly streamlines the data reading process. For example: \n",
    "\n",
    "`astro_df = pd.read_csv('star_table1.csv')`"
   ]
  },
  {
   "cell_type": "markdown",
   "metadata": {
    "editable": true,
    "slideshow": {
     "slide_type": "slide"
    },
    "tags": []
   },
   "source": [
    "`pandas` is highly intuitive with a relatively minimal learning curve. It includes many built-in methods for aggregate analysis, missing values, filtering, and data grouping. \n",
    "\n",
    "Its intuitive syntax and rich functionality allow users to handle missing values, filter rows, group data, and perform complex operations efficiently."
   ]
  },
  {
   "cell_type": "markdown",
   "metadata": {
    "editable": true,
    "slideshow": {
     "slide_type": "subslide"
    },
    "tags": []
   },
   "source": [
    "(I am worried that the lectures have become painfully dry as I slowly discuss software syntax, so I inclue several useful and basic examples below but will not present these as slides)"
   ]
  },
  {
   "cell_type": "markdown",
   "metadata": {
    "editable": true,
    "slideshow": {
     "slide_type": "skip"
    },
    "tags": []
   },
   "source": [
    "To create a pandas `Series` and inspect the basic attributes:"
   ]
  },
  {
   "cell_type": "code",
   "execution_count": 2,
   "metadata": {
    "editable": true,
    "slideshow": {
     "slide_type": "skip"
    },
    "tags": []
   },
   "outputs": [
    {
     "name": "stdout",
     "output_type": "stream",
     "text": [
      "Values: [1.  2.5 3.3]\n",
      "Index: ['x', 'y', 'z']\n",
      "Dtype: float64\n",
      "Shape: (3,)\n",
      "Name: example\n",
      "\n"
     ]
    }
   ],
   "source": [
    "s = pd.Series([1.0, 2.5, 3.3], index=['x', 'y', 'z'], name='example')\n",
    "\n",
    "print(f\"Values: {s.values}\")\n",
    "print(f\"Index: {list(s.index)}\")\n",
    "print(f\"Dtype: {s.dtype}\")\n",
    "print(f\"Shape: {s.shape}\")\n",
    "print(f\"Name: {s.name}\\n\")"
   ]
  },
  {
   "cell_type": "markdown",
   "metadata": {
    "editable": true,
    "slideshow": {
     "slide_type": "skip"
    },
    "tags": []
   },
   "source": [
    "To select data based on a slice or a mask:"
   ]
  },
  {
   "cell_type": "code",
   "execution_count": 3,
   "metadata": {
    "editable": true,
    "slideshow": {
     "slide_type": "skip"
    },
    "tags": []
   },
   "outputs": [
    {
     "name": "stdout",
     "output_type": "stream",
     "text": [
      "Position 1: 2.5\n",
      "\n",
      "Slice by positions [1:3):\n",
      "y    2.5\n",
      "z    3.3\n",
      "Name: example, dtype: float64\n",
      "\n",
      "Mask s > 3:\n",
      "x    False\n",
      "y    False\n",
      "z     True\n",
      "Name: example, dtype: bool\n",
      "\n",
      "Filtered (s > 3):\n",
      "z    3.3\n",
      "Name: example, dtype: float64\n",
      "\n"
     ]
    }
   ],
   "source": [
    "print(f\"Position 1: {s.iloc[1]}\\n\")\n",
    "\n",
    "print(f\"Slice by positions [1:3):\\n{s.iloc[1:3]}\\n\")\n",
    "\n",
    "mask = s > 3\n",
    "print(f\"Mask s > 3:\\n{mask}\\n\")\n",
    "print(f\"Filtered (s > 3):\\n{s[mask]}\\n\")\n"
   ]
  },
  {
   "cell_type": "markdown",
   "metadata": {
    "editable": true,
    "slideshow": {
     "slide_type": "skip"
    },
    "tags": []
   },
   "source": [
    "To get basic statistics and summaries:\n",
    "\n",
    "*Note* – there are many more options than the ones shown here."
   ]
  },
  {
   "cell_type": "code",
   "execution_count": 4,
   "metadata": {
    "editable": true,
    "slideshow": {
     "slide_type": "skip"
    },
    "tags": []
   },
   "outputs": [
    {
     "name": "stdout",
     "output_type": "stream",
     "text": [
      "Mean: 2.2666666666666666\n",
      "Std: 1.1676186592091329\n",
      "Min/Max: 1.0 / 3.3\n",
      "\n"
     ]
    }
   ],
   "source": [
    "print(f\"Mean: {s.mean()}\")\n",
    "print(f\"Std: {s.std()}\")\n",
    "print(f\"Min/Max: {s.min()} / {s.max()}\\n\")"
   ]
  },
  {
   "cell_type": "markdown",
   "metadata": {
    "editable": true,
    "slideshow": {
     "slide_type": "skip"
    },
    "tags": []
   },
   "source": [
    "It is also possible to sort, find and replace, and remove missing values – read the docs for more examples! "
   ]
  },
  {
   "cell_type": "markdown",
   "metadata": {
    "editable": true,
    "slideshow": {
     "slide_type": "skip"
    },
    "tags": []
   },
   "source": [
    "For tabular data then one would want to create a `DataFrame`"
   ]
  },
  {
   "cell_type": "code",
   "execution_count": 5,
   "metadata": {
    "editable": true,
    "slideshow": {
     "slide_type": "skip"
    },
    "tags": []
   },
   "outputs": [
    {
     "name": "stdout",
     "output_type": "stream",
     "text": [
      "Shape: (3, 3)\n",
      "Columns: ['Name', 'Age', 'Occupation']\n",
      "Index: [0, 1, 2]\n",
      "Data types:\n",
      "Name          object\n",
      "Age            int64\n",
      "Occupation    object\n",
      "dtype: object\n"
     ]
    }
   ],
   "source": [
    "# Create a DataFrame from a dictionary \n",
    "#(note - 2d data arrays can also be used, with column names separately specified)\n",
    "data = {\n",
    "    \"Name\": [\"Alice\", \"Bob\", \"Charlie\"],\n",
    "    \"Age\": [25, 30, 35],\n",
    "    \"Occupation\": [\"Engineer\", \"Doctor\", \"Artist\"]\n",
    "}\n",
    "\n",
    "df = pd.DataFrame(data)\n",
    "\n",
    "# Inspect basic attributes\n",
    "print(f\"Shape: {df.shape}\")\n",
    "print(f\"Columns: {df.columns.tolist()}\")\n",
    "print(f\"Index: {df.index.tolist()}\")\n",
    "print(f\"Data types:\\n{df.dtypes}\")\n"
   ]
  },
  {
   "cell_type": "markdown",
   "metadata": {
    "editable": true,
    "slideshow": {
     "slide_type": "skip"
    },
    "tags": []
   },
   "source": [
    "The `DataFrame` can be sliced and specific data can be extracted: "
   ]
  },
  {
   "cell_type": "code",
   "execution_count": 6,
   "metadata": {
    "editable": true,
    "slideshow": {
     "slide_type": "skip"
    },
    "tags": []
   },
   "outputs": [
    {
     "name": "stdout",
     "output_type": "stream",
     "text": [
      "Ages:\n",
      "0    25\n",
      "1    30\n",
      "2    35\n",
      "Name: Age, dtype: int64\n",
      "Subset:\n",
      "      Name Occupation\n",
      "0    Alice   Engineer\n",
      "1      Bob     Doctor\n",
      "2  Charlie     Artist\n",
      "First two rows:\n",
      "    Name  Age Occupation\n",
      "0  Alice   25   Engineer\n",
      "1    Bob   30     Doctor\n",
      "People older than 28:\n",
      "      Name  Age Occupation\n",
      "1      Bob   30     Doctor\n",
      "2  Charlie   35     Artist\n"
     ]
    }
   ],
   "source": [
    "# Select a single column\n",
    "ages = df[\"Age\"]\n",
    "print(f\"Ages:\\n{ages}\")\n",
    "\n",
    "# Select multiple columns\n",
    "subset = df[[\"Name\", \"Occupation\"]]\n",
    "print(f\"Subset:\\n{subset}\")\n",
    "\n",
    "# Select rows by index\n",
    "first_two = df.iloc[:2]\n",
    "print(f\"First two rows:\\n{first_two}\")\n",
    "\n",
    "# Conditional selection\n",
    "older_than_28 = df[df[\"Age\"] > 28]\n",
    "print(f\"People older than 28:\\n{older_than_28}\")\n"
   ]
  },
  {
   "cell_type": "markdown",
   "metadata": {
    "editable": true,
    "slideshow": {
     "slide_type": "skip"
    },
    "tags": []
   },
   "source": [
    "Basic statistics and summaries: "
   ]
  },
  {
   "cell_type": "code",
   "execution_count": 7,
   "metadata": {
    "editable": true,
    "slideshow": {
     "slide_type": "skip"
    },
    "tags": []
   },
   "outputs": [
    {
     "name": "stdout",
     "output_type": "stream",
     "text": [
      "Summary statistics:\n",
      "        Age\n",
      "count   3.0\n",
      "mean   30.0\n",
      "std     5.0\n",
      "min    25.0\n",
      "25%    27.5\n",
      "50%    30.0\n",
      "75%    32.5\n",
      "max    35.0\n",
      "Mean age: 30.00\n",
      "Number of unique occupations: 3\n"
     ]
    }
   ],
   "source": [
    "# Summary statistics\n",
    "summary = df.describe()\n",
    "print(f\"Summary statistics:\\n{summary}\")\n",
    "\n",
    "# Mean age\n",
    "mean_age = df[\"Age\"].mean()\n",
    "print(f\"Mean age: {mean_age:.2f}\")\n",
    "\n",
    "# Count of unique occupations\n",
    "unique_jobs = df[\"Occupation\"].nunique()\n",
    "print(f\"Number of unique occupations: {unique_jobs}\")\n"
   ]
  },
  {
   "cell_type": "markdown",
   "metadata": {
    "editable": true,
    "slideshow": {
     "slide_type": "skip"
    },
    "tags": []
   },
   "source": [
    "Columns can be modified and new columns can be added:"
   ]
  },
  {
   "cell_type": "code",
   "execution_count": 8,
   "metadata": {
    "editable": true,
    "slideshow": {
     "slide_type": "skip"
    },
    "tags": []
   },
   "outputs": [
    {
     "name": "stdout",
     "output_type": "stream",
     "text": [
      "DataFrame with new column:\n",
      "      Name  Age Occupation  Age in 10 Years\n",
      "0    Alice   25   Engineer               35\n",
      "1      Bob   30     Doctor               40\n",
      "2  Charlie   35     Artist               45\n",
      "Modified names:\n",
      "0      ALICE\n",
      "1        BOB\n",
      "2    CHARLIE\n",
      "Name: Name, dtype: object\n"
     ]
    }
   ],
   "source": [
    "# Add a new column\n",
    "df[\"Age in 10 Years\"] = df[\"Age\"] + 10\n",
    "print(f\"DataFrame with new column:\\n{df}\")\n",
    "\n",
    "# Modify an existing column\n",
    "df[\"Name\"] = df[\"Name\"].str.upper()\n",
    "print(f\"Modified names:\\n{df['Name']}\")\n"
   ]
  },
  {
   "cell_type": "markdown",
   "metadata": {
    "editable": true,
    "slideshow": {
     "slide_type": "skip"
    },
    "tags": []
   },
   "source": [
    "**Problem 0a**\n",
    "\n",
    "Read the SDSS data for Problem 4, stored in a csv file called `DSFP_SDSS_spec_train.csv`, into a `pandas` DataFrame called `sdss_spec`."
   ]
  },
  {
   "cell_type": "code",
   "execution_count": 9,
   "metadata": {
    "editable": true,
    "slideshow": {
     "slide_type": "skip"
    },
    "tags": []
   },
   "outputs": [
    {
     "data": {
      "text/html": [
       "<div>\n",
       "<style scoped>\n",
       "    .dataframe tbody tr th:only-of-type {\n",
       "        vertical-align: middle;\n",
       "    }\n",
       "\n",
       "    .dataframe tbody tr th {\n",
       "        vertical-align: top;\n",
       "    }\n",
       "\n",
       "    .dataframe thead th {\n",
       "        text-align: right;\n",
       "    }\n",
       "</style>\n",
       "<table border=\"1\" class=\"dataframe\">\n",
       "  <thead>\n",
       "    <tr style=\"text-align: right;\">\n",
       "      <th></th>\n",
       "      <th>specObjID</th>\n",
       "      <th>z</th>\n",
       "      <th>type</th>\n",
       "      <th>psfMag_u</th>\n",
       "      <th>psfMag_g</th>\n",
       "      <th>psfMag_r</th>\n",
       "      <th>psfMag_i</th>\n",
       "      <th>psfMag_z</th>\n",
       "      <th>modelMag_u</th>\n",
       "      <th>modelMag_g</th>\n",
       "      <th>...</th>\n",
       "      <th>extinction_i</th>\n",
       "      <th>extinction_z</th>\n",
       "      <th>w1mpro</th>\n",
       "      <th>w1snr</th>\n",
       "      <th>w2mpro</th>\n",
       "      <th>w2snr</th>\n",
       "      <th>w3mpro</th>\n",
       "      <th>w3snr</th>\n",
       "      <th>w4mpro</th>\n",
       "      <th>w4snr</th>\n",
       "    </tr>\n",
       "  </thead>\n",
       "  <tbody>\n",
       "    <tr>\n",
       "      <th>0</th>\n",
       "      <td>299567742770505728</td>\n",
       "      <td>0.071414</td>\n",
       "      <td>ext</td>\n",
       "      <td>20.88291</td>\n",
       "      <td>19.23907</td>\n",
       "      <td>18.56170</td>\n",
       "      <td>18.09715</td>\n",
       "      <td>17.76469</td>\n",
       "      <td>19.62189</td>\n",
       "      <td>18.03702</td>\n",
       "      <td>...</td>\n",
       "      <td>0.061267</td>\n",
       "      <td>0.045572</td>\n",
       "      <td>14.395</td>\n",
       "      <td>21.1</td>\n",
       "      <td>14.236</td>\n",
       "      <td>15.6</td>\n",
       "      <td>11.029</td>\n",
       "      <td>6.8</td>\n",
       "      <td>8.579</td>\n",
       "      <td>-0.9</td>\n",
       "    </tr>\n",
       "    <tr>\n",
       "      <th>1</th>\n",
       "      <td>299568017178650624</td>\n",
       "      <td>0.071380</td>\n",
       "      <td>ext</td>\n",
       "      <td>20.88291</td>\n",
       "      <td>19.23907</td>\n",
       "      <td>18.56170</td>\n",
       "      <td>18.09715</td>\n",
       "      <td>17.76469</td>\n",
       "      <td>19.62189</td>\n",
       "      <td>18.03702</td>\n",
       "      <td>...</td>\n",
       "      <td>0.061267</td>\n",
       "      <td>0.045572</td>\n",
       "      <td>14.395</td>\n",
       "      <td>21.1</td>\n",
       "      <td>14.236</td>\n",
       "      <td>15.6</td>\n",
       "      <td>11.029</td>\n",
       "      <td>6.8</td>\n",
       "      <td>8.579</td>\n",
       "      <td>-0.9</td>\n",
       "    </tr>\n",
       "    <tr>\n",
       "      <th>2</th>\n",
       "      <td>299566643258877952</td>\n",
       "      <td>0.088173</td>\n",
       "      <td>ext</td>\n",
       "      <td>20.84844</td>\n",
       "      <td>18.96040</td>\n",
       "      <td>18.08027</td>\n",
       "      <td>17.62953</td>\n",
       "      <td>17.31857</td>\n",
       "      <td>20.18508</td>\n",
       "      <td>18.26120</td>\n",
       "      <td>...</td>\n",
       "      <td>0.047582</td>\n",
       "      <td>0.035392</td>\n",
       "      <td>14.162</td>\n",
       "      <td>35.0</td>\n",
       "      <td>13.970</td>\n",
       "      <td>22.3</td>\n",
       "      <td>12.233</td>\n",
       "      <td>2.9</td>\n",
       "      <td>9.067</td>\n",
       "      <td>-0.3</td>\n",
       "    </tr>\n",
       "    <tr>\n",
       "      <th>3</th>\n",
       "      <td>299569116690278400</td>\n",
       "      <td>0.088161</td>\n",
       "      <td>ext</td>\n",
       "      <td>20.84844</td>\n",
       "      <td>18.96040</td>\n",
       "      <td>18.08027</td>\n",
       "      <td>17.62953</td>\n",
       "      <td>17.31857</td>\n",
       "      <td>20.18508</td>\n",
       "      <td>18.26120</td>\n",
       "      <td>...</td>\n",
       "      <td>0.047582</td>\n",
       "      <td>0.035392</td>\n",
       "      <td>14.162</td>\n",
       "      <td>35.0</td>\n",
       "      <td>13.970</td>\n",
       "      <td>22.3</td>\n",
       "      <td>12.233</td>\n",
       "      <td>2.9</td>\n",
       "      <td>9.067</td>\n",
       "      <td>-0.3</td>\n",
       "    </tr>\n",
       "    <tr>\n",
       "      <th>4</th>\n",
       "      <td>299568292056557568</td>\n",
       "      <td>0.066539</td>\n",
       "      <td>ext</td>\n",
       "      <td>21.28256</td>\n",
       "      <td>19.61427</td>\n",
       "      <td>18.98529</td>\n",
       "      <td>18.52956</td>\n",
       "      <td>18.26322</td>\n",
       "      <td>20.18081</td>\n",
       "      <td>18.47435</td>\n",
       "      <td>...</td>\n",
       "      <td>0.058709</td>\n",
       "      <td>0.043669</td>\n",
       "      <td>14.734</td>\n",
       "      <td>30.6</td>\n",
       "      <td>14.512</td>\n",
       "      <td>17.6</td>\n",
       "      <td>11.078</td>\n",
       "      <td>9.8</td>\n",
       "      <td>9.054</td>\n",
       "      <td>2.3</td>\n",
       "    </tr>\n",
       "  </tbody>\n",
       "</table>\n",
       "<p>5 rows × 26 columns</p>\n",
       "</div>"
      ],
      "text/plain": [
       "            specObjID         z type  psfMag_u  psfMag_g  psfMag_r  psfMag_i  \\\n",
       "0  299567742770505728  0.071414  ext  20.88291  19.23907  18.56170  18.09715   \n",
       "1  299568017178650624  0.071380  ext  20.88291  19.23907  18.56170  18.09715   \n",
       "2  299566643258877952  0.088173  ext  20.84844  18.96040  18.08027  17.62953   \n",
       "3  299569116690278400  0.088161  ext  20.84844  18.96040  18.08027  17.62953   \n",
       "4  299568292056557568  0.066539  ext  21.28256  19.61427  18.98529  18.52956   \n",
       "\n",
       "   psfMag_z  modelMag_u  modelMag_g  ...  extinction_i  extinction_z  w1mpro  \\\n",
       "0  17.76469    19.62189    18.03702  ...      0.061267      0.045572  14.395   \n",
       "1  17.76469    19.62189    18.03702  ...      0.061267      0.045572  14.395   \n",
       "2  17.31857    20.18508    18.26120  ...      0.047582      0.035392  14.162   \n",
       "3  17.31857    20.18508    18.26120  ...      0.047582      0.035392  14.162   \n",
       "4  18.26322    20.18081    18.47435  ...      0.058709      0.043669  14.734   \n",
       "\n",
       "   w1snr  w2mpro  w2snr  w3mpro  w3snr  w4mpro  w4snr  \n",
       "0   21.1  14.236   15.6  11.029    6.8   8.579   -0.9  \n",
       "1   21.1  14.236   15.6  11.029    6.8   8.579   -0.9  \n",
       "2   35.0  13.970   22.3  12.233    2.9   9.067   -0.3  \n",
       "3   35.0  13.970   22.3  12.233    2.9   9.067   -0.3  \n",
       "4   30.6  14.512   17.6  11.078    9.8   9.054    2.3  \n",
       "\n",
       "[5 rows x 26 columns]"
      ]
     },
     "execution_count": 9,
     "metadata": {},
     "output_type": "execute_result"
    }
   ],
   "source": [
    "sdss_spec = pd.read_csv(\"DSFP_SDSS_spec_train.csv\")\n",
    "sdss_spec.head()"
   ]
  },
  {
   "cell_type": "markdown",
   "metadata": {
    "slideshow": {
     "slide_type": "skip"
    }
   },
   "source": [
    "`pandas` provides many different methods for selecting columns from the DataFrame. Supposing you wanted `psfMag`, you could use any of the following:\n",
    "\n",
    "    sdss_spec['psfMag_g']\n",
    "    sdss_spec[['psfMag_r', 'psfMag_z']]\n",
    "    sdss_spec.psfMag_g\n",
    "\n",
    "(notice that selecting multiple columns requires a list within `[]`)"
   ]
  },
  {
   "cell_type": "markdown",
   "metadata": {
    "editable": true,
    "slideshow": {
     "slide_type": "skip"
    },
    "tags": []
   },
   "source": [
    "`pandas` can also be used to aggregate the results of a search.\n",
    "\n",
    "**Problem 0c**\n",
    "\n",
    "How many extended sources (`type` = `ext`) have `modelMag_i` between 19 and 20? Use as few lines as possible."
   ]
  },
  {
   "cell_type": "code",
   "execution_count": 10,
   "metadata": {
    "editable": true,
    "slideshow": {
     "slide_type": "skip"
    },
    "tags": []
   },
   "outputs": [
    {
     "data": {
      "text/plain": [
       "369"
      ]
     },
     "execution_count": 10,
     "metadata": {},
     "output_type": "execute_result"
    }
   ],
   "source": [
    "len(sdss_spec[(sdss_spec.type == 'ext') & \n",
    "              (sdss_spec.modelMag_i > 19) & \n",
    "              (sdss_spec.modelMag_i < 20)])"
   ]
  },
  {
   "cell_type": "markdown",
   "metadata": {
    "editable": true,
    "slideshow": {
     "slide_type": "skip"
    },
    "tags": []
   },
   "source": [
    "`pandas` also enables [`GROUP BY`](http://pandas.pydata.org/pandas-docs/stable/user_guide/groupby.html) operations, where the data are split based on some criterion, a function is then applied to the groups, and the results are then combined back into a data structure."
   ]
  },
  {
   "cell_type": "markdown",
   "metadata": {
    "editable": true,
    "slideshow": {
     "slide_type": "skip"
    },
    "tags": []
   },
   "source": [
    "**Problem 0d**\n",
    "\n",
    "Group the data by their `type` and then report the minimum, median, and maximum redshift of each group. Can you immediately tell anything about these sources based on these results?\n",
    "\n",
    "*Hint* - just execute the cell below."
   ]
  },
  {
   "cell_type": "code",
   "execution_count": 11,
   "metadata": {
    "slideshow": {
     "slide_type": "skip"
    }
   },
   "outputs": [
    {
     "name": "stdout",
     "output_type": "stream",
     "text": [
      "type\n",
      "ext   -0.005469\n",
      "ps    -0.010875\n",
      "Name: z, dtype: float64\n",
      "type\n",
      "ext    0.107352\n",
      "ps     0.000275\n",
      "Name: z, dtype: float64\n",
      "type\n",
      "ext    6.839257\n",
      "ps     6.687022\n",
      "Name: z, dtype: float64\n"
     ]
    }
   ],
   "source": [
    "grouped = sdss_spec.groupby([sdss_spec.type])\n",
    "print(grouped['z'].min())\n",
    "print(grouped['z'].median())\n",
    "print(grouped['z'].max())"
   ]
  },
  {
   "cell_type": "markdown",
   "metadata": {
    "editable": true,
    "slideshow": {
     "slide_type": "skip"
    },
    "tags": []
   },
   "source": [
    "Finally, we currently only have a single table, but `pandas` also has methods to join one or more tables (providing a lot of functionality similar to databases) which makes the [join or merge](https://pandas.pydata.org/pandas-docs/stable/user_guide/merging.html) extremely powerful."
   ]
  },
  {
   "cell_type": "markdown",
   "metadata": {
    "editable": true,
    "slideshow": {
     "slide_type": "slide"
    },
    "tags": []
   },
   "source": [
    "## Problem 1) The Sins of Our Predecessors"
   ]
  },
  {
   "cell_type": "markdown",
   "metadata": {
    "slideshow": {
     "slide_type": "slide"
    }
   },
   "source": [
    "If at any point in your career you need to access archival infrared data, you will likely need to retrieve that information from the [NASA IPAC InfraRed Science Archive](https://irsa.ipac.caltech.edu). IRSA houses the data for every major NASA IR mission, and several ground-based missions as well (e.g., 2MASS, IRTF). Whether you are sudying brown dwarfs, explosive transients, solar system objects, star-formation, galaxy evolution, Milky Way dust and the resulting extinction of extragalactic observations, or quasars (and much more) the IR plays a critical role."
   ]
  },
  {
   "cell_type": "markdown",
   "metadata": {
    "slideshow": {
     "slide_type": "slide"
    }
   },
   "source": [
    "Given the importance of IR observations, it stands to reason that IRSA would provide data in a simple to read format for modern machines, such as comma separated values or FITS binary tables...\n",
    "\n",
    "Right?..."
   ]
  },
  {
   "cell_type": "markdown",
   "metadata": {
    "slideshow": {
     "slide_type": "slide"
    }
   },
   "source": [
    "**Right?...**"
   ]
  },
  {
   "cell_type": "markdown",
   "metadata": {
    "slideshow": {
     "slide_type": "slide"
    }
   },
   "source": [
    "In fact, IRSA has created their own standard for storing data in a text file. The particulars of this format can be found in `irsa_catalog_WISE_iPTF14jg_search_results.tbl`, a file that is written in the standard IRSA format."
   ]
  },
  {
   "cell_type": "markdown",
   "metadata": {
    "editable": true,
    "slideshow": {
     "slide_type": "skip"
    },
    "tags": []
   },
   "source": [
    "*shameless plug alert!* iPTF14jg is a [really strange star](https://arxiv.org/pdf/1901.10693.pdf) that exhibited a large outburst that we still don't totally understand. The associated data file includes [NEOWISE](https://neowise.ipac.caltech.edu/) observations of the mid-IR evolution of this outburst."
   ]
  },
  {
   "cell_type": "markdown",
   "metadata": {
    "slideshow": {
     "slide_type": "slide"
    }
   },
   "source": [
    "**Problem 1a**\n",
    "\n",
    "Using `pandas` read the data in the IRSA table file into a `DataFrame` object.\n",
    "\n",
    "*Hint 1* - you absolutely should look at the text file to develop a strategy to accomplish this goal.\n",
    "\n",
    "*Hint 2* - you may want to manipulate the text file so that it can more easily be read by `pandas`. **If you do this** be sure to copy the file to another name as you will want to leave the original intact. "
   ]
  },
  {
   "cell_type": "code",
   "execution_count": 12,
   "metadata": {
    "slideshow": {
     "slide_type": "slide"
    }
   },
   "outputs": [
    {
     "data": {
      "text/html": [
       "<div>\n",
       "<style scoped>\n",
       "    .dataframe tbody tr th:only-of-type {\n",
       "        vertical-align: middle;\n",
       "    }\n",
       "\n",
       "    .dataframe tbody tr th {\n",
       "        vertical-align: top;\n",
       "    }\n",
       "\n",
       "    .dataframe thead th {\n",
       "        text-align: right;\n",
       "    }\n",
       "</style>\n",
       "<table border=\"1\" class=\"dataframe\">\n",
       "  <thead>\n",
       "    <tr style=\"text-align: right;\">\n",
       "      <th></th>\n",
       "      <th>ra</th>\n",
       "      <th>dec</th>\n",
       "      <th>sigra</th>\n",
       "      <th>sigdec</th>\n",
       "      <th>sigradec</th>\n",
       "      <th>w1mpro</th>\n",
       "      <th>w1sigmpro</th>\n",
       "      <th>w1snr</th>\n",
       "      <th>w1rchi2</th>\n",
       "      <th>w2mpro</th>\n",
       "      <th>...</th>\n",
       "      <th>w4sigmpro_allwise</th>\n",
       "      <th>tmass_key</th>\n",
       "      <th>j_m_2mass</th>\n",
       "      <th>j_msig_2mass</th>\n",
       "      <th>h_m_2mass</th>\n",
       "      <th>h_msig_2mass</th>\n",
       "      <th>k_m_2mass</th>\n",
       "      <th>k_msig_2mass</th>\n",
       "      <th>dist</th>\n",
       "      <th>angle</th>\n",
       "    </tr>\n",
       "  </thead>\n",
       "  <tbody>\n",
       "    <tr>\n",
       "      <th>0</th>\n",
       "      <td>40.125566</td>\n",
       "      <td>60.879306</td>\n",
       "      <td>0.0947</td>\n",
       "      <td>0.0936</td>\n",
       "      <td>-0.0337</td>\n",
       "      <td>13.251</td>\n",
       "      <td>0.038</td>\n",
       "      <td>28.8</td>\n",
       "      <td>0.8767</td>\n",
       "      <td>12.735</td>\n",
       "      <td>...</td>\n",
       "      <td>NaN</td>\n",
       "      <td>NaN</td>\n",
       "      <td>NaN</td>\n",
       "      <td>NaN</td>\n",
       "      <td>NaN</td>\n",
       "      <td>NaN</td>\n",
       "      <td>NaN</td>\n",
       "      <td>NaN</td>\n",
       "      <td>0.028668</td>\n",
       "      <td>242.330013</td>\n",
       "    </tr>\n",
       "    <tr>\n",
       "      <th>1</th>\n",
       "      <td>40.125574</td>\n",
       "      <td>60.879297</td>\n",
       "      <td>0.0925</td>\n",
       "      <td>0.0874</td>\n",
       "      <td>-0.0397</td>\n",
       "      <td>13.241</td>\n",
       "      <td>0.036</td>\n",
       "      <td>30.0</td>\n",
       "      <td>1.2610</td>\n",
       "      <td>12.629</td>\n",
       "      <td>...</td>\n",
       "      <td>NaN</td>\n",
       "      <td>NaN</td>\n",
       "      <td>NaN</td>\n",
       "      <td>NaN</td>\n",
       "      <td>NaN</td>\n",
       "      <td>NaN</td>\n",
       "      <td>NaN</td>\n",
       "      <td>NaN</td>\n",
       "      <td>0.048011</td>\n",
       "      <td>192.659014</td>\n",
       "    </tr>\n",
       "    <tr>\n",
       "      <th>2</th>\n",
       "      <td>40.125623</td>\n",
       "      <td>60.879318</td>\n",
       "      <td>0.0808</td>\n",
       "      <td>0.0794</td>\n",
       "      <td>0.0098</td>\n",
       "      <td>12.753</td>\n",
       "      <td>0.039</td>\n",
       "      <td>27.8</td>\n",
       "      <td>0.7640</td>\n",
       "      <td>11.901</td>\n",
       "      <td>...</td>\n",
       "      <td>NaN</td>\n",
       "      <td>NaN</td>\n",
       "      <td>NaN</td>\n",
       "      <td>NaN</td>\n",
       "      <td>NaN</td>\n",
       "      <td>NaN</td>\n",
       "      <td>NaN</td>\n",
       "      <td>NaN</td>\n",
       "      <td>0.079498</td>\n",
       "      <td>69.867298</td>\n",
       "    </tr>\n",
       "    <tr>\n",
       "      <th>3</th>\n",
       "      <td>40.125553</td>\n",
       "      <td>60.879286</td>\n",
       "      <td>0.0663</td>\n",
       "      <td>0.0608</td>\n",
       "      <td>-0.0156</td>\n",
       "      <td>12.774</td>\n",
       "      <td>0.028</td>\n",
       "      <td>38.6</td>\n",
       "      <td>1.3610</td>\n",
       "      <td>11.935</td>\n",
       "      <td>...</td>\n",
       "      <td>NaN</td>\n",
       "      <td>NaN</td>\n",
       "      <td>NaN</td>\n",
       "      <td>NaN</td>\n",
       "      <td>NaN</td>\n",
       "      <td>NaN</td>\n",
       "      <td>NaN</td>\n",
       "      <td>NaN</td>\n",
       "      <td>0.097389</td>\n",
       "      <td>209.287467</td>\n",
       "    </tr>\n",
       "    <tr>\n",
       "      <th>4</th>\n",
       "      <td>40.125572</td>\n",
       "      <td>60.879280</td>\n",
       "      <td>0.0645</td>\n",
       "      <td>0.0599</td>\n",
       "      <td>-0.0223</td>\n",
       "      <td>12.840</td>\n",
       "      <td>0.028</td>\n",
       "      <td>38.7</td>\n",
       "      <td>1.5550</td>\n",
       "      <td>11.897</td>\n",
       "      <td>...</td>\n",
       "      <td>NaN</td>\n",
       "      <td>NaN</td>\n",
       "      <td>NaN</td>\n",
       "      <td>NaN</td>\n",
       "      <td>NaN</td>\n",
       "      <td>NaN</td>\n",
       "      <td>NaN</td>\n",
       "      <td>NaN</td>\n",
       "      <td>0.107707</td>\n",
       "      <td>187.006050</td>\n",
       "    </tr>\n",
       "  </tbody>\n",
       "</table>\n",
       "<p>5 rows × 37 columns</p>\n",
       "</div>"
      ],
      "text/plain": [
       "          ra        dec   sigra  sigdec  sigradec  w1mpro  w1sigmpro  w1snr  \\\n",
       "0  40.125566  60.879306  0.0947  0.0936   -0.0337  13.251      0.038   28.8   \n",
       "1  40.125574  60.879297  0.0925  0.0874   -0.0397  13.241      0.036   30.0   \n",
       "2  40.125623  60.879318  0.0808  0.0794    0.0098  12.753      0.039   27.8   \n",
       "3  40.125553  60.879286  0.0663  0.0608   -0.0156  12.774      0.028   38.6   \n",
       "4  40.125572  60.879280  0.0645  0.0599   -0.0223  12.840      0.028   38.7   \n",
       "\n",
       "   w1rchi2  w2mpro  ...  w4sigmpro_allwise  tmass_key  j_m_2mass  \\\n",
       "0   0.8767  12.735  ...                NaN        NaN        NaN   \n",
       "1   1.2610  12.629  ...                NaN        NaN        NaN   \n",
       "2   0.7640  11.901  ...                NaN        NaN        NaN   \n",
       "3   1.3610  11.935  ...                NaN        NaN        NaN   \n",
       "4   1.5550  11.897  ...                NaN        NaN        NaN   \n",
       "\n",
       "   j_msig_2mass  h_m_2mass h_msig_2mass k_m_2mass  k_msig_2mass      dist  \\\n",
       "0           NaN        NaN          NaN       NaN           NaN  0.028668   \n",
       "1           NaN        NaN          NaN       NaN           NaN  0.048011   \n",
       "2           NaN        NaN          NaN       NaN           NaN  0.079498   \n",
       "3           NaN        NaN          NaN       NaN           NaN  0.097389   \n",
       "4           NaN        NaN          NaN       NaN           NaN  0.107707   \n",
       "\n",
       "        angle  \n",
       "0  242.330013  \n",
       "1  192.659014  \n",
       "2   69.867298  \n",
       "3  209.287467  \n",
       "4  187.006050  \n",
       "\n",
       "[5 rows x 37 columns]"
      ]
     },
     "execution_count": 12,
     "metadata": {},
     "output_type": "execute_result"
    }
   ],
   "source": [
    "# Solution 1 - pure python solution with pandas\n",
    "\n",
    "with open('irsa_catalog_WISE_iPTF14jg_search_results.tbl') as f:\n",
    "    ll = f.readlines()\n",
    "    for linenum, l in enumerate(ll):\n",
    "        if l[0] == '|':\n",
    "            header = l.replace('|', ',').replace(' ', '')\n",
    "            header = list(header[1:-2].split(','))\n",
    "            break\n",
    "            \n",
    "irsa_tbl = pd.read_csv(\"irsa_catalog_WISE_iPTF14jg_search_results.tbl\", \n",
    "            skiprows=linenum+4, delim_whitespace=True, \n",
    "            header=None, names=header)\n",
    "irsa_tbl.head(5)"
   ]
  },
  {
   "cell_type": "markdown",
   "metadata": {
    "slideshow": {
     "slide_type": "slide"
    }
   },
   "source": [
    "That pure python solution is a bit annoying as it requires a for loop with a break, and specific knowledge about how IRSA tables handle data headers (hence the use of `linenum + 4` for `skiprows`). Alternatively, one could  manipulate the data file to read in the data."
   ]
  },
  {
   "cell_type": "code",
   "execution_count": 13,
   "metadata": {
    "slideshow": {
     "slide_type": "slide"
    }
   },
   "outputs": [
    {
     "data": {
      "text/html": [
       "<div>\n",
       "<style scoped>\n",
       "    .dataframe tbody tr th:only-of-type {\n",
       "        vertical-align: middle;\n",
       "    }\n",
       "\n",
       "    .dataframe tbody tr th {\n",
       "        vertical-align: top;\n",
       "    }\n",
       "\n",
       "    .dataframe thead th {\n",
       "        text-align: right;\n",
       "    }\n",
       "</style>\n",
       "<table border=\"1\" class=\"dataframe\">\n",
       "  <thead>\n",
       "    <tr style=\"text-align: right;\">\n",
       "      <th></th>\n",
       "      <th>ra</th>\n",
       "      <th>dec</th>\n",
       "      <th>sigra</th>\n",
       "      <th>sigdec</th>\n",
       "      <th>sigradec</th>\n",
       "      <th>w1mpro</th>\n",
       "      <th>w1sigmpro</th>\n",
       "      <th>w1snr</th>\n",
       "      <th>w1rchi2</th>\n",
       "      <th>w2mpro</th>\n",
       "      <th>...</th>\n",
       "      <th>w4sigmpro_allwise</th>\n",
       "      <th>tmass_key</th>\n",
       "      <th>j_m_2mass</th>\n",
       "      <th>j_msig_2mass</th>\n",
       "      <th>h_m_2mass</th>\n",
       "      <th>h_msig_2mass</th>\n",
       "      <th>k_m_2mass</th>\n",
       "      <th>k_msig_2mass</th>\n",
       "      <th>dist</th>\n",
       "      <th>angle</th>\n",
       "    </tr>\n",
       "  </thead>\n",
       "  <tbody>\n",
       "    <tr>\n",
       "      <th>0</th>\n",
       "      <td>40.125566</td>\n",
       "      <td>60.879306</td>\n",
       "      <td>0.0947</td>\n",
       "      <td>0.0936</td>\n",
       "      <td>-0.0337</td>\n",
       "      <td>13.251</td>\n",
       "      <td>0.038</td>\n",
       "      <td>28.8</td>\n",
       "      <td>0.8767</td>\n",
       "      <td>12.735</td>\n",
       "      <td>...</td>\n",
       "      <td>NaN</td>\n",
       "      <td>NaN</td>\n",
       "      <td>NaN</td>\n",
       "      <td>NaN</td>\n",
       "      <td>NaN</td>\n",
       "      <td>NaN</td>\n",
       "      <td>NaN</td>\n",
       "      <td>NaN</td>\n",
       "      <td>0.028668</td>\n",
       "      <td>242.330013</td>\n",
       "    </tr>\n",
       "    <tr>\n",
       "      <th>1</th>\n",
       "      <td>40.125574</td>\n",
       "      <td>60.879297</td>\n",
       "      <td>0.0925</td>\n",
       "      <td>0.0874</td>\n",
       "      <td>-0.0397</td>\n",
       "      <td>13.241</td>\n",
       "      <td>0.036</td>\n",
       "      <td>30.0</td>\n",
       "      <td>1.2610</td>\n",
       "      <td>12.629</td>\n",
       "      <td>...</td>\n",
       "      <td>NaN</td>\n",
       "      <td>NaN</td>\n",
       "      <td>NaN</td>\n",
       "      <td>NaN</td>\n",
       "      <td>NaN</td>\n",
       "      <td>NaN</td>\n",
       "      <td>NaN</td>\n",
       "      <td>NaN</td>\n",
       "      <td>0.048011</td>\n",
       "      <td>192.659014</td>\n",
       "    </tr>\n",
       "    <tr>\n",
       "      <th>2</th>\n",
       "      <td>40.125623</td>\n",
       "      <td>60.879318</td>\n",
       "      <td>0.0808</td>\n",
       "      <td>0.0794</td>\n",
       "      <td>0.0098</td>\n",
       "      <td>12.753</td>\n",
       "      <td>0.039</td>\n",
       "      <td>27.8</td>\n",
       "      <td>0.7640</td>\n",
       "      <td>11.901</td>\n",
       "      <td>...</td>\n",
       "      <td>NaN</td>\n",
       "      <td>NaN</td>\n",
       "      <td>NaN</td>\n",
       "      <td>NaN</td>\n",
       "      <td>NaN</td>\n",
       "      <td>NaN</td>\n",
       "      <td>NaN</td>\n",
       "      <td>NaN</td>\n",
       "      <td>0.079498</td>\n",
       "      <td>69.867298</td>\n",
       "    </tr>\n",
       "    <tr>\n",
       "      <th>3</th>\n",
       "      <td>40.125553</td>\n",
       "      <td>60.879286</td>\n",
       "      <td>0.0663</td>\n",
       "      <td>0.0608</td>\n",
       "      <td>-0.0156</td>\n",
       "      <td>12.774</td>\n",
       "      <td>0.028</td>\n",
       "      <td>38.6</td>\n",
       "      <td>1.3610</td>\n",
       "      <td>11.935</td>\n",
       "      <td>...</td>\n",
       "      <td>NaN</td>\n",
       "      <td>NaN</td>\n",
       "      <td>NaN</td>\n",
       "      <td>NaN</td>\n",
       "      <td>NaN</td>\n",
       "      <td>NaN</td>\n",
       "      <td>NaN</td>\n",
       "      <td>NaN</td>\n",
       "      <td>0.097389</td>\n",
       "      <td>209.287467</td>\n",
       "    </tr>\n",
       "    <tr>\n",
       "      <th>4</th>\n",
       "      <td>40.125572</td>\n",
       "      <td>60.879280</td>\n",
       "      <td>0.0645</td>\n",
       "      <td>0.0599</td>\n",
       "      <td>-0.0223</td>\n",
       "      <td>12.840</td>\n",
       "      <td>0.028</td>\n",
       "      <td>38.7</td>\n",
       "      <td>1.5550</td>\n",
       "      <td>11.897</td>\n",
       "      <td>...</td>\n",
       "      <td>NaN</td>\n",
       "      <td>NaN</td>\n",
       "      <td>NaN</td>\n",
       "      <td>NaN</td>\n",
       "      <td>NaN</td>\n",
       "      <td>NaN</td>\n",
       "      <td>NaN</td>\n",
       "      <td>NaN</td>\n",
       "      <td>0.107707</td>\n",
       "      <td>187.006050</td>\n",
       "    </tr>\n",
       "  </tbody>\n",
       "</table>\n",
       "<p>5 rows × 37 columns</p>\n",
       "</div>"
      ],
      "text/plain": [
       "          ra        dec   sigra  sigdec  sigradec  w1mpro  w1sigmpro  w1snr  \\\n",
       "0  40.125566  60.879306  0.0947  0.0936   -0.0337  13.251      0.038   28.8   \n",
       "1  40.125574  60.879297  0.0925  0.0874   -0.0397  13.241      0.036   30.0   \n",
       "2  40.125623  60.879318  0.0808  0.0794    0.0098  12.753      0.039   27.8   \n",
       "3  40.125553  60.879286  0.0663  0.0608   -0.0156  12.774      0.028   38.6   \n",
       "4  40.125572  60.879280  0.0645  0.0599   -0.0223  12.840      0.028   38.7   \n",
       "\n",
       "   w1rchi2  w2mpro  ...  w4sigmpro_allwise  tmass_key  j_m_2mass  \\\n",
       "0   0.8767  12.735  ...                NaN        NaN        NaN   \n",
       "1   1.2610  12.629  ...                NaN        NaN        NaN   \n",
       "2   0.7640  11.901  ...                NaN        NaN        NaN   \n",
       "3   1.3610  11.935  ...                NaN        NaN        NaN   \n",
       "4   1.5550  11.897  ...                NaN        NaN        NaN   \n",
       "\n",
       "   j_msig_2mass  h_m_2mass h_msig_2mass k_m_2mass  k_msig_2mass      dist  \\\n",
       "0           NaN        NaN          NaN       NaN           NaN  0.028668   \n",
       "1           NaN        NaN          NaN       NaN           NaN  0.048011   \n",
       "2           NaN        NaN          NaN       NaN           NaN  0.079498   \n",
       "3           NaN        NaN          NaN       NaN           NaN  0.097389   \n",
       "4           NaN        NaN          NaN       NaN           NaN  0.107707   \n",
       "\n",
       "        angle  \n",
       "0  242.330013  \n",
       "1  192.659014  \n",
       "2   69.867298  \n",
       "3  209.287467  \n",
       "4  187.006050  \n",
       "\n",
       "[5 rows x 37 columns]"
      ]
     },
     "execution_count": 13,
     "metadata": {},
     "output_type": "execute_result"
    }
   ],
   "source": [
    "# solution 2 - edit the text file\n",
    "# !cp irsa_catalog_WISE_iPTF14jg_search_results.tbl tmp.tbl\n",
    "### delete lines 1-89, and 90-92\n",
    "### replace whitespace with commas (may require multiple operations)\n",
    "### replace '|' with commas\n",
    "### replace ',,' with single commas\n",
    "### replace ',\\n,' with '\\n'\n",
    "### delete the comma at the very beginning and very end of the file\n",
    "\n",
    "tedit_tbl = pd.read_csv('tmp.tbl')\n",
    "tedit_tbl.head(5)"
   ]
  },
  {
   "cell_type": "markdown",
   "metadata": {
    "editable": true,
    "slideshow": {
     "slide_type": "slide"
    },
    "tags": []
   },
   "source": [
    "That truly wasn't all that better - as it required a bunch of clicks/text editor edits. (There are programs such as `sed` and `awk` that could be used to execute all the necessary edits from the command line, but that too is cumbersome and somewhat like the initial all `python` solution). "
   ]
  },
  {
   "cell_type": "markdown",
   "metadata": {
    "editable": true,
    "slideshow": {
     "slide_type": "slide"
    },
    "tags": []
   },
   "source": [
    "Side note - if astronomers are creating data in a \"standard\" format, then it ought to be easy for other astronomers to access that data.\n",
    "\n",
    "Fortunately, in this particular case, there is an easy solution - [`astropy Tables`](http://docs.astropy.org/en/stable/table/). \n",
    "\n",
    "IRSA tables are so commonly used throughout the community, that the folks at `astropy` have created a convenience method for all of us to read in tables created in that particular (unusual?) format. I show an example here, but this will only be relevant for the astronomy students."
   ]
  },
  {
   "cell_type": "markdown",
   "metadata": {
    "slideshow": {
     "slide_type": "slide"
    }
   },
   "source": [
    "**Problem 1b**\n",
    "\n",
    "Use [`Table.read()`](http://docs.astropy.org/en/stable/api/astropy.table.Table.html#astropy.table.Table.read) to read in `irsa_catalog_WISE_iPTF14jg_search_results.tbl` to an `astropy Table` object."
   ]
  },
  {
   "cell_type": "code",
   "execution_count": 14,
   "metadata": {
    "slideshow": {
     "slide_type": "slide"
    }
   },
   "outputs": [
    {
     "data": {
      "text/html": [
       "<div><i>Table length=137</i>\n",
       "<table id=\"table4960959760\" class=\"table-striped table-bordered table-condensed\">\n",
       "<thead><tr><th>ra</th><th>dec</th><th>sigra</th><th>sigdec</th><th>sigradec</th><th>w1mpro</th><th>w1sigmpro</th><th>w1snr</th><th>w1rchi2</th><th>w2mpro</th><th>w2sigmpro</th><th>w2snr</th><th>w2rchi2</th><th>nb</th><th>na</th><th>cc_flags</th><th>ph_qual</th><th>qual_frame</th><th>mjd</th><th>allwise_cntr</th><th>w1mpro_allwise</th><th>w1sigmpro_allwise</th><th>w2mpro_allwise</th><th>w2sigmpro_allwise</th><th>w3mpro_allwise</th><th>w3sigmpro_allwise</th><th>w4mpro_allwise</th><th>w4sigmpro_allwise</th><th>tmass_key</th><th>j_m_2mass</th><th>j_msig_2mass</th><th>h_m_2mass</th><th>h_msig_2mass</th><th>k_m_2mass</th><th>k_msig_2mass</th><th>dist</th><th>angle</th></tr></thead>\n",
       "<thead><tr><th>deg</th><th>deg</th><th>arcsec</th><th>arcsec</th><th>arcsec</th><th>mag</th><th>mag</th><th></th><th></th><th>mag</th><th>mag</th><th></th><th></th><th></th><th></th><th></th><th></th><th></th><th>mjdate</th><th></th><th>mag</th><th>mag</th><th>mag</th><th>mag</th><th>mag</th><th>mag</th><th>mag</th><th>mag</th><th></th><th>mag</th><th>mag</th><th>mag</th><th>mag</th><th>mag</th><th>mag</th><th>arcsec</th><th>deg</th></tr></thead>\n",
       "<thead><tr><th>float64</th><th>float64</th><th>float64</th><th>float64</th><th>float64</th><th>float64</th><th>float64</th><th>float64</th><th>float64</th><th>float64</th><th>float64</th><th>float64</th><th>float64</th><th>int64</th><th>int64</th><th>str4</th><th>str2</th><th>int64</th><th>float64</th><th>int64</th><th>float64</th><th>float64</th><th>float64</th><th>float64</th><th>float64</th><th>float64</th><th>float64</th><th>float64</th><th>int64</th><th>float64</th><th>float64</th><th>float64</th><th>float64</th><th>float64</th><th>float64</th><th>float64</th><th>float64</th></tr></thead>\n",
       "<tr><td>40.1255655</td><td>60.8793063</td><td>0.0947</td><td>0.0936</td><td>-0.0337</td><td>13.251</td><td>0.038</td><td>28.8</td><td>0.8767</td><td>12.735</td><td>0.058</td><td>18.6</td><td>0.7135</td><td>1</td><td>0</td><td>0000</td><td>AA</td><td>10</td><td>57621.23501414</td><td>--</td><td>--</td><td>--</td><td>--</td><td>--</td><td>--</td><td>--</td><td>--</td><td>--</td><td>--</td><td>--</td><td>--</td><td>--</td><td>--</td><td>--</td><td>--</td><td>0.028668</td><td>242.330013</td></tr>\n",
       "<tr><td>40.125574</td><td>60.879297</td><td>0.0925</td><td>0.0874</td><td>-0.0397</td><td>13.241</td><td>0.036</td><td>30.0</td><td>1.261</td><td>12.629</td><td>0.051</td><td>21.2</td><td>1.121</td><td>1</td><td>0</td><td>0000</td><td>AA</td><td>5</td><td>57621.62810604</td><td>--</td><td>--</td><td>--</td><td>--</td><td>--</td><td>--</td><td>--</td><td>--</td><td>--</td><td>--</td><td>--</td><td>--</td><td>--</td><td>--</td><td>--</td><td>--</td><td>0.048011</td><td>192.659014</td></tr>\n",
       "<tr><td>40.1256226</td><td>60.8793176</td><td>0.0808</td><td>0.0794</td><td>0.0098</td><td>12.753</td><td>0.039</td><td>27.8</td><td>0.764</td><td>11.901</td><td>0.034</td><td>32.0</td><td>1.059</td><td>1</td><td>0</td><td>0000</td><td>AA</td><td>10</td><td>57063.79830186</td><td>--</td><td>--</td><td>--</td><td>--</td><td>--</td><td>--</td><td>--</td><td>--</td><td>--</td><td>--</td><td>--</td><td>--</td><td>--</td><td>--</td><td>--</td><td>--</td><td>0.079498</td><td>69.867298</td></tr>\n",
       "<tr><td>40.1255528</td><td>60.8792864</td><td>0.0663</td><td>0.0608</td><td>-0.0156</td><td>12.774</td><td>0.028</td><td>38.6</td><td>1.361</td><td>11.935</td><td>0.037</td><td>29.3</td><td>0.7133</td><td>1</td><td>0</td><td>0000</td><td>AA</td><td>10</td><td>57256.77485551</td><td>--</td><td>--</td><td>--</td><td>--</td><td>--</td><td>--</td><td>--</td><td>--</td><td>--</td><td>--</td><td>--</td><td>--</td><td>--</td><td>--</td><td>--</td><td>--</td><td>0.097389</td><td>209.287467</td></tr>\n",
       "<tr><td>40.1255725</td><td>60.8792803</td><td>0.0645</td><td>0.0599</td><td>-0.0223</td><td>12.84</td><td>0.028</td><td>38.7</td><td>1.555</td><td>11.897</td><td>0.031</td><td>35.1</td><td>1.045</td><td>1</td><td>0</td><td>0000</td><td>AA</td><td>5</td><td>57257.10275142</td><td>--</td><td>--</td><td>--</td><td>--</td><td>--</td><td>--</td><td>--</td><td>--</td><td>--</td><td>--</td><td>--</td><td>--</td><td>--</td><td>--</td><td>--</td><td>--</td><td>0.107707</td><td>187.00605</td></tr>\n",
       "<tr><td>40.1255736</td><td>60.8792799</td><td>0.1164</td><td>0.1059</td><td>-0.039</td><td>13.587</td><td>0.041</td><td>26.4</td><td>1.647</td><td>13.145</td><td>0.076</td><td>14.3</td><td>1.03</td><td>1</td><td>0</td><td>0000</td><td>AA</td><td>5</td><td>57987.97028435</td><td>--</td><td>--</td><td>--</td><td>--</td><td>--</td><td>--</td><td>--</td><td>--</td><td>--</td><td>--</td><td>--</td><td>--</td><td>--</td><td>--</td><td>--</td><td>--</td><td>0.108928</td><td>185.907602</td></tr>\n",
       "<tr><td>...</td><td>...</td><td>...</td><td>...</td><td>...</td><td>...</td><td>...</td><td>...</td><td>...</td><td>...</td><td>...</td><td>...</td><td>...</td><td>...</td><td>...</td><td>...</td><td>...</td><td>...</td><td>...</td><td>...</td><td>...</td><td>...</td><td>...</td><td>...</td><td>...</td><td>...</td><td>...</td><td>...</td><td>...</td><td>...</td><td>...</td><td>...</td><td>...</td><td>...</td><td>...</td><td>...</td><td>...</td></tr>\n",
       "<tr><td>40.1253594</td><td>60.8792163</td><td>0.0631</td><td>0.0675</td><td>-0.0093</td><td>12.791</td><td>0.03</td><td>36.6</td><td>1.13</td><td>11.972</td><td>0.039</td><td>27.5</td><td>0.6409</td><td>1</td><td>0</td><td>0000</td><td>AA</td><td>10</td><td>57422.73853115</td><td>--</td><td>--</td><td>--</td><td>--</td><td>--</td><td>--</td><td>--</td><td>--</td><td>--</td><td>--</td><td>--</td><td>--</td><td>--</td><td>--</td><td>--</td><td>--</td><td>0.512985</td><td>228.885562</td></tr>\n",
       "<tr><td>40.1252771</td><td>60.8793411</td><td>0.115</td><td>0.1078</td><td>-0.0397</td><td>13.511</td><td>0.041</td><td>26.2</td><td>1.299</td><td>12.668</td><td>0.061</td><td>17.8</td><td>0.6642</td><td>1</td><td>0</td><td>0000</td><td>AA</td><td>5</td><td>57790.01894558</td><td>--</td><td>--</td><td>--</td><td>--</td><td>--</td><td>--</td><td>--</td><td>--</td><td>--</td><td>--</td><td>--</td><td>--</td><td>--</td><td>--</td><td>--</td><td>--</td><td>0.542346</td><td>281.913746</td></tr>\n",
       "<tr><td>40.1253172</td><td>60.8792186</td><td>0.1035</td><td>0.1091</td><td>-0.0272</td><td>13.328</td><td>0.038</td><td>28.6</td><td>1.868</td><td>12.893</td><td>0.091</td><td>11.9</td><td>1.075</td><td>1</td><td>0</td><td>0000</td><td>AA</td><td>5</td><td>57790.21542903</td><td>--</td><td>--</td><td>--</td><td>--</td><td>--</td><td>--</td><td>--</td><td>--</td><td>--</td><td>--</td><td>--</td><td>--</td><td>--</td><td>--</td><td>--</td><td>--</td><td>0.565899</td><td>234.448038</td></tr>\n",
       "<tr><td>40.1256247</td><td>60.8791518</td><td>0.1463</td><td>0.1293</td><td>-0.0575</td><td>13.734</td><td>0.048</td><td>22.9</td><td>0.9954</td><td>13.257</td><td>0.122</td><td>8.9</td><td>0.5377</td><td>1</td><td>0</td><td>0000</td><td>AB</td><td>5</td><td>57988.36312131</td><td>--</td><td>--</td><td>--</td><td>--</td><td>--</td><td>--</td><td>--</td><td>--</td><td>--</td><td>--</td><td>--</td><td>--</td><td>--</td><td>--</td><td>--</td><td>--</td><td>0.574875</td><td>172.170603</td></tr>\n",
       "<tr><td>40.1252789</td><td>60.8792352</td><td>0.1174</td><td>0.1057</td><td>-0.0497</td><td>13.36</td><td>0.049</td><td>22.3</td><td>0.7856</td><td>12.729</td><td>0.06</td><td>18.1</td><td>0.7291</td><td>1</td><td>0</td><td>0000</td><td>AA</td><td>5</td><td>57787.33375567</td><td>--</td><td>--</td><td>--</td><td>--</td><td>--</td><td>--</td><td>--</td><td>--</td><td>--</td><td>--</td><td>--</td><td>--</td><td>--</td><td>--</td><td>--</td><td>--</td><td>0.59227</td><td>242.957045</td></tr>\n",
       "<tr><td>40.1260438</td><td>60.8791845</td><td>0.1911</td><td>0.1661</td><td>-0.0549</td><td>14.036</td><td>0.07</td><td>15.4</td><td>4.369</td><td>13.472</td><td>0.094</td><td>11.6</td><td>1.701</td><td>1</td><td>0</td><td>0000</td><td>AA</td><td>0</td><td>57988.49402461</td><td>--</td><td>--</td><td>--</td><td>--</td><td>--</td><td>--</td><td>--</td><td>--</td><td>--</td><td>--</td><td>--</td><td>--</td><td>--</td><td>--</td><td>--</td><td>--</td><td>0.929713</td><td>119.074968</td></tr>\n",
       "</table></div>"
      ],
      "text/plain": [
       "<Table length=137>\n",
       "    ra        dec      sigra   sigdec ... k_m_2mass k_msig_2mass   dist     angle   \n",
       "   deg        deg      arcsec  arcsec ...    mag        mag       arcsec     deg    \n",
       " float64    float64   float64 float64 ...  float64    float64    float64   float64  \n",
       "---------- ---------- ------- ------- ... --------- ------------ -------- ----------\n",
       "40.1255655 60.8793063  0.0947  0.0936 ...        --           -- 0.028668 242.330013\n",
       " 40.125574  60.879297  0.0925  0.0874 ...        --           -- 0.048011 192.659014\n",
       "40.1256226 60.8793176  0.0808  0.0794 ...        --           -- 0.079498  69.867298\n",
       "40.1255528 60.8792864  0.0663  0.0608 ...        --           -- 0.097389 209.287467\n",
       "40.1255725 60.8792803  0.0645  0.0599 ...        --           -- 0.107707  187.00605\n",
       "40.1255736 60.8792799  0.1164  0.1059 ...        --           -- 0.108928 185.907602\n",
       "       ...        ...     ...     ... ...       ...          ...      ...        ...\n",
       "40.1253594 60.8792163  0.0631  0.0675 ...        --           -- 0.512985 228.885562\n",
       "40.1252771 60.8793411   0.115  0.1078 ...        --           -- 0.542346 281.913746\n",
       "40.1253172 60.8792186  0.1035  0.1091 ...        --           -- 0.565899 234.448038\n",
       "40.1256247 60.8791518  0.1463  0.1293 ...        --           -- 0.574875 172.170603\n",
       "40.1252789 60.8792352  0.1174  0.1057 ...        --           --  0.59227 242.957045\n",
       "40.1260438 60.8791845  0.1911  0.1661 ...        --           -- 0.929713 119.074968"
      ]
     },
     "execution_count": 14,
     "metadata": {},
     "output_type": "execute_result"
    }
   ],
   "source": [
    "from astropy.table import Table\n",
    "\n",
    "Table.read('irsa_catalog_WISE_iPTF14jg_search_results.tbl', format='ipac')"
   ]
  },
  {
   "cell_type": "markdown",
   "metadata": {
    "slideshow": {
     "slide_type": "slide"
    }
   },
   "source": [
    "A benefit to using this method, as opposed to `pandas`, is that data typing and data units are naturally read from the IRSA table and included with the associated columns. Thus, if you are uncertain if some brightness measurement is in magnitudes or Janskys, the `astropy Table` can report on that information.\n",
    "\n",
    "Unfortunately, `astropy` does *not* know about every strange formating decision that every astronomer has made at some point in their lives (as we are about to see...) "
   ]
  },
  {
   "cell_type": "markdown",
   "metadata": {
    "slideshow": {
     "slide_type": "slide"
    }
   },
   "source": [
    "## Problem 2) The Sins of Our Journals"
   ]
  },
  {
   "cell_type": "markdown",
   "metadata": {
    "slideshow": {
     "slide_type": "slide"
    }
   },
   "source": [
    "Unlike IRSA/IPAC, which uses a weird but nevertheless consistent format for data tables, data retrieved from Journal articles essentially follows no rules. In principle, tables in Journal articles are supposed to be provided in a machine readable format. In practice, as we are about to see, this is far from the case.\n",
    "\n",
    "For this particular wrangling case study we will focus on supernova light curves, a simple thing to report: time, filter, brightness, uncertainty on that brightness, that the community has nevertheless managed to mangle into some truly wild and difficult to parse forms."
   ]
  },
  {
   "cell_type": "markdown",
   "metadata": {
    "slideshow": {
     "slide_type": "skip"
    }
   },
   "source": [
    "(Sorry for the heavy emphasis on time-domain examples - I'm pulling straight from my own life today, but the issues described here are not perfectly addressed by any subfield within the astro umbrella)"
   ]
  },
  {
   "cell_type": "markdown",
   "metadata": {
    "slideshow": {
     "slide_type": "slide"
    }
   },
   "source": [
    "Here is the LaTeX-formatted version of Table 4 from [Miller et al. 2011](https://iopscience.iop.org/article/10.1088/0004-637X/730/2/80/meta):\n",
    "\n",
    "<img style=\"display: block; margin-left: auto; margin-right: auto\" src=\"images/Miller11_tbl4.png\" width=\"350\" align=\"middle\">"
   ]
  },
  {
   "cell_type": "markdown",
   "metadata": {
    "slideshow": {
     "slide_type": "slide"
    }
   },
   "source": [
    "That is a very simple table to interpret, no?\n",
    "\n",
    "Have a look at the [\"machine-readible\" file](https://iopscience.iop.org/0004-637X/730/2/80/suppdata/apj382770t4_ascii.txt?doi=10.1088/0004-637X/730/2/80) that ApJ provides for readers that might want to evaluate these photometric measurements."
   ]
  },
  {
   "cell_type": "markdown",
   "metadata": {
    "editable": true,
    "slideshow": {
     "slide_type": "slide"
    },
    "tags": []
   },
   "source": [
    "**Problem 2a** \n",
    "\n",
    "Read the ApJ version of Table 4 from from Miller et al. 2011 – called `Miller_et_al2011_table4.txt` – into a `pandas DataFrame`."
   ]
  },
  {
   "cell_type": "code",
   "execution_count": 15,
   "metadata": {
    "editable": true,
    "slideshow": {
     "slide_type": "slide"
    },
    "tags": []
   },
   "outputs": [
    {
     "name": "stdout",
     "output_type": "stream",
     "text": [
      "       t_mid      J  J_unc     H  H_unc     K  K_unc\n",
      "0  55466.137  10.04   0.03  9.14   0.03  8.65   0.03\n",
      "1  55468.145   9.99   0.03  9.06   0.04  8.64   0.04\n",
      "2  55469.148  10.04   0.03  9.07   0.03  8.70   0.03\n",
      "3  55479.109  10.11   0.03  9.11   0.03  8.63   0.04\n",
      "4  55504.164  10.20   0.03  9.24   0.03  8.74   0.03\n",
      "5  55513.195  10.29   0.03  9.34   0.03  8.79   0.03\n",
      "6  55518.168  10.32   0.03  9.34   0.04  8.84   0.03\n",
      "7  55527.117  10.35   0.03  9.40   0.03  8.89   0.03\n",
      "8  55531.145  10.40   0.03  9.44   0.03  8.97   0.03\n",
      "9  55543.066  10.45   0.03  9.48   0.04  9.06   0.04\n"
     ]
    }
   ],
   "source": [
    "# pure python solution with pandas\n",
    "\n",
    "tbl4 = pd.read_csv('Miller_et_al2011_table4.txt', \n",
    "                   skiprows=5, delim_whitespace=True,\n",
    "                   skipfooter=3, engine='python',\n",
    "                   names=['t_mid', 'J', 'Jdum', 'J_unc', \n",
    "                                   'H', 'Hdum', 'H_unc',\n",
    "                                   'K', 'Kdum', 'K_unc'])\n",
    "tbl4.drop(columns=['Jdum', 'Hdum', 'Kdum'], inplace=True)\n",
    "\n",
    "print(tbl4)"
   ]
  },
  {
   "cell_type": "markdown",
   "metadata": {
    "slideshow": {
     "slide_type": "slide"
    }
   },
   "source": [
    "That wasn't too terrible. But what if we consider a more typical light curve table, where there are loads of missing data, such as Table 2 from [Foley et al. 2009](https://iopscience.iop.org/article/10.1088/0004-6256/138/2/376#aj309430t2):\n",
    "\n",
    "<img style=\"display: block; margin-left: auto; margin-right: auto\" src=\"images/Foley09_tbl2.png\" width=\"650\" align=\"middle\">"
   ]
  },
  {
   "cell_type": "markdown",
   "metadata": {
    "slideshow": {
     "slide_type": "slide"
    }
   },
   "source": [
    "Again, this table is straightforward to read, and it isn't hard to imagine how one could construct a machine-readable csv or other file from this information. But alas, this is not what is available from ApJ. So, we will need to figure out how to deal with both the missing data, \"...\", and the weird convention that many astronomers use where the uncertainties are (a) not reported in their own column, and (b) are not provided in the same units as the measurement itself. I can understand the former, but the later is somewhat baffling..."
   ]
  },
  {
   "cell_type": "markdown",
   "metadata": {
    "slideshow": {
     "slide_type": "slide"
    }
   },
   "source": [
    "**Problem 2b** \n",
    "\n",
    "Read the ApJ version of Table 2 from from Foley et al. 2009 – called `Foley_et_al2009_table2.txt` – into either a `pandas DataFrame` or an `astropy Table`."
   ]
  },
  {
   "cell_type": "code",
   "execution_count": 16,
   "metadata": {
    "slideshow": {
     "slide_type": "slide"
    }
   },
   "outputs": [
    {
     "data": {
      "text/html": [
       "<div>\n",
       "<style scoped>\n",
       "    .dataframe tbody tr th:only-of-type {\n",
       "        vertical-align: middle;\n",
       "    }\n",
       "\n",
       "    .dataframe tbody tr th {\n",
       "        vertical-align: top;\n",
       "    }\n",
       "\n",
       "    .dataframe thead th {\n",
       "        text-align: right;\n",
       "    }\n",
       "</style>\n",
       "<table border=\"1\" class=\"dataframe\">\n",
       "  <thead>\n",
       "    <tr style=\"text-align: right;\">\n",
       "      <th></th>\n",
       "      <th>JD</th>\n",
       "      <th>Bmag</th>\n",
       "      <th>Bmag_unc</th>\n",
       "      <th>Vmag</th>\n",
       "      <th>Vmag_unc</th>\n",
       "      <th>Rmag</th>\n",
       "      <th>Rmag_unc</th>\n",
       "      <th>Imag</th>\n",
       "      <th>Imag_unc</th>\n",
       "      <th>Unfiltmag</th>\n",
       "      <th>Unfiltmag_unc</th>\n",
       "      <th>Telescope</th>\n",
       "    </tr>\n",
       "  </thead>\n",
       "  <tbody>\n",
       "    <tr>\n",
       "      <th>0</th>\n",
       "      <td>2454764.80</td>\n",
       "      <td>-999.000</td>\n",
       "      <td>-999.000</td>\n",
       "      <td>-999.000</td>\n",
       "      <td>-999.000</td>\n",
       "      <td>-999.000</td>\n",
       "      <td>-999.000</td>\n",
       "      <td>-999.000</td>\n",
       "      <td>-999.000</td>\n",
       "      <td>19.500</td>\n",
       "      <td>-999.000</td>\n",
       "      <td>KAIT</td>\n",
       "    </tr>\n",
       "    <tr>\n",
       "      <th>1</th>\n",
       "      <td>2454778.69</td>\n",
       "      <td>-999.000</td>\n",
       "      <td>-999.000</td>\n",
       "      <td>-999.000</td>\n",
       "      <td>-999.000</td>\n",
       "      <td>-999.000</td>\n",
       "      <td>-999.000</td>\n",
       "      <td>-999.000</td>\n",
       "      <td>-999.000</td>\n",
       "      <td>18.069</td>\n",
       "      <td>0.092</td>\n",
       "      <td>KAIT</td>\n",
       "    </tr>\n",
       "    <tr>\n",
       "      <th>2</th>\n",
       "      <td>2454781.76</td>\n",
       "      <td>18.340</td>\n",
       "      <td>0.084</td>\n",
       "      <td>17.828</td>\n",
       "      <td>0.037</td>\n",
       "      <td>-999.000</td>\n",
       "      <td>-999.000</td>\n",
       "      <td>-999.000</td>\n",
       "      <td>-999.000</td>\n",
       "      <td>-999.000</td>\n",
       "      <td>-999.000</td>\n",
       "      <td>KAIT</td>\n",
       "    </tr>\n",
       "    <tr>\n",
       "      <th>3</th>\n",
       "      <td>2454783.74</td>\n",
       "      <td>18.229</td>\n",
       "      <td>0.062</td>\n",
       "      <td>17.718</td>\n",
       "      <td>0.042</td>\n",
       "      <td>17.509</td>\n",
       "      <td>0.041</td>\n",
       "      <td>17.377</td>\n",
       "      <td>0.054</td>\n",
       "      <td>-999.000</td>\n",
       "      <td>-999.000</td>\n",
       "      <td>KAIT</td>\n",
       "    </tr>\n",
       "    <tr>\n",
       "      <th>4</th>\n",
       "      <td>2454784.64</td>\n",
       "      <td>-999.000</td>\n",
       "      <td>-999.000</td>\n",
       "      <td>-999.000</td>\n",
       "      <td>-999.000</td>\n",
       "      <td>-999.000</td>\n",
       "      <td>-999.000</td>\n",
       "      <td>-999.000</td>\n",
       "      <td>-999.000</td>\n",
       "      <td>17.736</td>\n",
       "      <td>0.091</td>\n",
       "      <td>KAIT</td>\n",
       "    </tr>\n",
       "    <tr>\n",
       "      <th>5</th>\n",
       "      <td>2454784.71</td>\n",
       "      <td>18.230</td>\n",
       "      <td>0.030</td>\n",
       "      <td>17.635</td>\n",
       "      <td>0.030</td>\n",
       "      <td>17.570</td>\n",
       "      <td>0.030</td>\n",
       "      <td>17.392</td>\n",
       "      <td>0.030</td>\n",
       "      <td>-999.000</td>\n",
       "      <td>-999.000</td>\n",
       "      <td>Nickel</td>\n",
       "    </tr>\n",
       "    <tr>\n",
       "      <th>6</th>\n",
       "      <td>2454785.67</td>\n",
       "      <td>18.385</td>\n",
       "      <td>0.030</td>\n",
       "      <td>17.660</td>\n",
       "      <td>0.027</td>\n",
       "      <td>17.610</td>\n",
       "      <td>0.023</td>\n",
       "      <td>17.425</td>\n",
       "      <td>0.034</td>\n",
       "      <td>17.683</td>\n",
       "      <td>0.038</td>\n",
       "      <td>KAIT</td>\n",
       "    </tr>\n",
       "    <tr>\n",
       "      <th>7</th>\n",
       "      <td>2454786.80</td>\n",
       "      <td>18.415</td>\n",
       "      <td>0.030</td>\n",
       "      <td>17.710</td>\n",
       "      <td>0.030</td>\n",
       "      <td>17.544</td>\n",
       "      <td>0.030</td>\n",
       "      <td>17.358</td>\n",
       "      <td>0.030</td>\n",
       "      <td>-999.000</td>\n",
       "      <td>-999.000</td>\n",
       "      <td>Nickel</td>\n",
       "    </tr>\n",
       "    <tr>\n",
       "      <th>8</th>\n",
       "      <td>2454787.67</td>\n",
       "      <td>18.596</td>\n",
       "      <td>0.030</td>\n",
       "      <td>17.762</td>\n",
       "      <td>0.030</td>\n",
       "      <td>17.552</td>\n",
       "      <td>0.030</td>\n",
       "      <td>17.376</td>\n",
       "      <td>0.030</td>\n",
       "      <td>-999.000</td>\n",
       "      <td>-999.000</td>\n",
       "      <td>KAIT</td>\n",
       "    </tr>\n",
       "    <tr>\n",
       "      <th>9</th>\n",
       "      <td>2454789.68</td>\n",
       "      <td>18.904</td>\n",
       "      <td>0.030</td>\n",
       "      <td>17.827</td>\n",
       "      <td>0.014</td>\n",
       "      <td>17.573</td>\n",
       "      <td>0.011</td>\n",
       "      <td>17.353</td>\n",
       "      <td>0.030</td>\n",
       "      <td>17.732</td>\n",
       "      <td>0.028</td>\n",
       "      <td>KAIT</td>\n",
       "    </tr>\n",
       "    <tr>\n",
       "      <th>10</th>\n",
       "      <td>2454790.71</td>\n",
       "      <td>18.969</td>\n",
       "      <td>0.030</td>\n",
       "      <td>17.871</td>\n",
       "      <td>0.030</td>\n",
       "      <td>17.560</td>\n",
       "      <td>0.030</td>\n",
       "      <td>17.278</td>\n",
       "      <td>0.030</td>\n",
       "      <td>-999.000</td>\n",
       "      <td>-999.000</td>\n",
       "      <td>Nickel</td>\n",
       "    </tr>\n",
       "    <tr>\n",
       "      <th>11</th>\n",
       "      <td>2454792.70</td>\n",
       "      <td>19.563</td>\n",
       "      <td>0.054</td>\n",
       "      <td>18.127</td>\n",
       "      <td>0.022</td>\n",
       "      <td>17.689</td>\n",
       "      <td>0.016</td>\n",
       "      <td>17.443</td>\n",
       "      <td>0.030</td>\n",
       "      <td>-999.000</td>\n",
       "      <td>-999.000</td>\n",
       "      <td>KAIT</td>\n",
       "    </tr>\n",
       "    <tr>\n",
       "      <th>12</th>\n",
       "      <td>2454794.68</td>\n",
       "      <td>19.789</td>\n",
       "      <td>0.072</td>\n",
       "      <td>18.377</td>\n",
       "      <td>0.032</td>\n",
       "      <td>17.904</td>\n",
       "      <td>0.025</td>\n",
       "      <td>17.541</td>\n",
       "      <td>0.037</td>\n",
       "      <td>-999.000</td>\n",
       "      <td>-999.000</td>\n",
       "      <td>KAIT</td>\n",
       "    </tr>\n",
       "    <tr>\n",
       "      <th>13</th>\n",
       "      <td>2454795.78</td>\n",
       "      <td>20.297</td>\n",
       "      <td>0.216</td>\n",
       "      <td>-999.000</td>\n",
       "      <td>-999.000</td>\n",
       "      <td>-999.000</td>\n",
       "      <td>-999.000</td>\n",
       "      <td>-999.000</td>\n",
       "      <td>-999.000</td>\n",
       "      <td>18.009</td>\n",
       "      <td>0.103</td>\n",
       "      <td>KAIT</td>\n",
       "    </tr>\n",
       "    <tr>\n",
       "      <th>14</th>\n",
       "      <td>2454798.65</td>\n",
       "      <td>20.390</td>\n",
       "      <td>0.123</td>\n",
       "      <td>18.791</td>\n",
       "      <td>0.033</td>\n",
       "      <td>18.308</td>\n",
       "      <td>0.022</td>\n",
       "      <td>17.876</td>\n",
       "      <td>0.039</td>\n",
       "      <td>18.388</td>\n",
       "      <td>0.022</td>\n",
       "      <td>KAIT</td>\n",
       "    </tr>\n",
       "    <tr>\n",
       "      <th>15</th>\n",
       "      <td>2454799.66</td>\n",
       "      <td>-999.000</td>\n",
       "      <td>-999.000</td>\n",
       "      <td>18.921</td>\n",
       "      <td>0.046</td>\n",
       "      <td>18.343</td>\n",
       "      <td>0.029</td>\n",
       "      <td>17.919</td>\n",
       "      <td>0.050</td>\n",
       "      <td>18.468</td>\n",
       "      <td>0.040</td>\n",
       "      <td>KAIT</td>\n",
       "    </tr>\n",
       "    <tr>\n",
       "      <th>16</th>\n",
       "      <td>2454800.67</td>\n",
       "      <td>-999.000</td>\n",
       "      <td>-999.000</td>\n",
       "      <td>18.942</td>\n",
       "      <td>0.035</td>\n",
       "      <td>18.347</td>\n",
       "      <td>0.029</td>\n",
       "      <td>17.892</td>\n",
       "      <td>0.033</td>\n",
       "      <td>18.482</td>\n",
       "      <td>0.027</td>\n",
       "      <td>KAIT</td>\n",
       "    </tr>\n",
       "    <tr>\n",
       "      <th>17</th>\n",
       "      <td>2454801.64</td>\n",
       "      <td>-999.000</td>\n",
       "      <td>-999.000</td>\n",
       "      <td>19.004</td>\n",
       "      <td>0.044</td>\n",
       "      <td>18.438</td>\n",
       "      <td>0.026</td>\n",
       "      <td>17.964</td>\n",
       "      <td>0.036</td>\n",
       "      <td>18.589</td>\n",
       "      <td>0.031</td>\n",
       "      <td>KAIT</td>\n",
       "    </tr>\n",
       "    <tr>\n",
       "      <th>18</th>\n",
       "      <td>2454802.74</td>\n",
       "      <td>-999.000</td>\n",
       "      <td>-999.000</td>\n",
       "      <td>19.064</td>\n",
       "      <td>0.082</td>\n",
       "      <td>18.472</td>\n",
       "      <td>0.037</td>\n",
       "      <td>17.921</td>\n",
       "      <td>0.030</td>\n",
       "      <td>18.635</td>\n",
       "      <td>0.026</td>\n",
       "      <td>KAIT</td>\n",
       "    </tr>\n",
       "    <tr>\n",
       "      <th>19</th>\n",
       "      <td>2454803.63</td>\n",
       "      <td>-999.000</td>\n",
       "      <td>-999.000</td>\n",
       "      <td>19.130</td>\n",
       "      <td>0.054</td>\n",
       "      <td>18.569</td>\n",
       "      <td>0.031</td>\n",
       "      <td>18.087</td>\n",
       "      <td>0.047</td>\n",
       "      <td>18.589</td>\n",
       "      <td>0.030</td>\n",
       "      <td>KAIT</td>\n",
       "    </tr>\n",
       "    <tr>\n",
       "      <th>20</th>\n",
       "      <td>2454805.63</td>\n",
       "      <td>-999.000</td>\n",
       "      <td>-999.000</td>\n",
       "      <td>19.211</td>\n",
       "      <td>0.095</td>\n",
       "      <td>18.851</td>\n",
       "      <td>0.055</td>\n",
       "      <td>18.142</td>\n",
       "      <td>0.056</td>\n",
       "      <td>18.682</td>\n",
       "      <td>0.048</td>\n",
       "      <td>KAIT</td>\n",
       "    </tr>\n",
       "    <tr>\n",
       "      <th>21</th>\n",
       "      <td>2454809.67</td>\n",
       "      <td>-999.000</td>\n",
       "      <td>-999.000</td>\n",
       "      <td>19.288</td>\n",
       "      <td>0.206</td>\n",
       "      <td>19.104</td>\n",
       "      <td>0.135</td>\n",
       "      <td>-999.000</td>\n",
       "      <td>-999.000</td>\n",
       "      <td>18.909</td>\n",
       "      <td>0.078</td>\n",
       "      <td>KAIT</td>\n",
       "    </tr>\n",
       "    <tr>\n",
       "      <th>22</th>\n",
       "      <td>2454811.61</td>\n",
       "      <td>-999.000</td>\n",
       "      <td>-999.000</td>\n",
       "      <td>19.462</td>\n",
       "      <td>0.103</td>\n",
       "      <td>19.069</td>\n",
       "      <td>0.073</td>\n",
       "      <td>18.374</td>\n",
       "      <td>0.067</td>\n",
       "      <td>19.150</td>\n",
       "      <td>0.060</td>\n",
       "      <td>KAIT</td>\n",
       "    </tr>\n",
       "    <tr>\n",
       "      <th>23</th>\n",
       "      <td>2454812.62</td>\n",
       "      <td>-999.000</td>\n",
       "      <td>-999.000</td>\n",
       "      <td>19.458</td>\n",
       "      <td>0.207</td>\n",
       "      <td>19.118</td>\n",
       "      <td>0.065</td>\n",
       "      <td>18.482</td>\n",
       "      <td>0.077</td>\n",
       "      <td>19.070</td>\n",
       "      <td>0.049</td>\n",
       "      <td>KAIT</td>\n",
       "    </tr>\n",
       "    <tr>\n",
       "      <th>24</th>\n",
       "      <td>2454831.63</td>\n",
       "      <td>21.372</td>\n",
       "      <td>0.030</td>\n",
       "      <td>20.191</td>\n",
       "      <td>0.030</td>\n",
       "      <td>19.647</td>\n",
       "      <td>0.030</td>\n",
       "      <td>18.864</td>\n",
       "      <td>0.030</td>\n",
       "      <td>-999.000</td>\n",
       "      <td>-999.000</td>\n",
       "      <td>Nickel</td>\n",
       "    </tr>\n",
       "  </tbody>\n",
       "</table>\n",
       "</div>"
      ],
      "text/plain": [
       "            JD     Bmag  Bmag_unc     Vmag  Vmag_unc     Rmag  Rmag_unc  \\\n",
       "0   2454764.80 -999.000  -999.000 -999.000  -999.000 -999.000  -999.000   \n",
       "1   2454778.69 -999.000  -999.000 -999.000  -999.000 -999.000  -999.000   \n",
       "2   2454781.76   18.340     0.084   17.828     0.037 -999.000  -999.000   \n",
       "3   2454783.74   18.229     0.062   17.718     0.042   17.509     0.041   \n",
       "4   2454784.64 -999.000  -999.000 -999.000  -999.000 -999.000  -999.000   \n",
       "5   2454784.71   18.230     0.030   17.635     0.030   17.570     0.030   \n",
       "6   2454785.67   18.385     0.030   17.660     0.027   17.610     0.023   \n",
       "7   2454786.80   18.415     0.030   17.710     0.030   17.544     0.030   \n",
       "8   2454787.67   18.596     0.030   17.762     0.030   17.552     0.030   \n",
       "9   2454789.68   18.904     0.030   17.827     0.014   17.573     0.011   \n",
       "10  2454790.71   18.969     0.030   17.871     0.030   17.560     0.030   \n",
       "11  2454792.70   19.563     0.054   18.127     0.022   17.689     0.016   \n",
       "12  2454794.68   19.789     0.072   18.377     0.032   17.904     0.025   \n",
       "13  2454795.78   20.297     0.216 -999.000  -999.000 -999.000  -999.000   \n",
       "14  2454798.65   20.390     0.123   18.791     0.033   18.308     0.022   \n",
       "15  2454799.66 -999.000  -999.000   18.921     0.046   18.343     0.029   \n",
       "16  2454800.67 -999.000  -999.000   18.942     0.035   18.347     0.029   \n",
       "17  2454801.64 -999.000  -999.000   19.004     0.044   18.438     0.026   \n",
       "18  2454802.74 -999.000  -999.000   19.064     0.082   18.472     0.037   \n",
       "19  2454803.63 -999.000  -999.000   19.130     0.054   18.569     0.031   \n",
       "20  2454805.63 -999.000  -999.000   19.211     0.095   18.851     0.055   \n",
       "21  2454809.67 -999.000  -999.000   19.288     0.206   19.104     0.135   \n",
       "22  2454811.61 -999.000  -999.000   19.462     0.103   19.069     0.073   \n",
       "23  2454812.62 -999.000  -999.000   19.458     0.207   19.118     0.065   \n",
       "24  2454831.63   21.372     0.030   20.191     0.030   19.647     0.030   \n",
       "\n",
       "       Imag  Imag_unc  Unfiltmag  Unfiltmag_unc Telescope  \n",
       "0  -999.000  -999.000     19.500       -999.000      KAIT  \n",
       "1  -999.000  -999.000     18.069          0.092      KAIT  \n",
       "2  -999.000  -999.000   -999.000       -999.000      KAIT  \n",
       "3    17.377     0.054   -999.000       -999.000      KAIT  \n",
       "4  -999.000  -999.000     17.736          0.091      KAIT  \n",
       "5    17.392     0.030   -999.000       -999.000    Nickel  \n",
       "6    17.425     0.034     17.683          0.038      KAIT  \n",
       "7    17.358     0.030   -999.000       -999.000    Nickel  \n",
       "8    17.376     0.030   -999.000       -999.000      KAIT  \n",
       "9    17.353     0.030     17.732          0.028      KAIT  \n",
       "10   17.278     0.030   -999.000       -999.000    Nickel  \n",
       "11   17.443     0.030   -999.000       -999.000      KAIT  \n",
       "12   17.541     0.037   -999.000       -999.000      KAIT  \n",
       "13 -999.000  -999.000     18.009          0.103      KAIT  \n",
       "14   17.876     0.039     18.388          0.022      KAIT  \n",
       "15   17.919     0.050     18.468          0.040      KAIT  \n",
       "16   17.892     0.033     18.482          0.027      KAIT  \n",
       "17   17.964     0.036     18.589          0.031      KAIT  \n",
       "18   17.921     0.030     18.635          0.026      KAIT  \n",
       "19   18.087     0.047     18.589          0.030      KAIT  \n",
       "20   18.142     0.056     18.682          0.048      KAIT  \n",
       "21 -999.000  -999.000     18.909          0.078      KAIT  \n",
       "22   18.374     0.067     19.150          0.060      KAIT  \n",
       "23   18.482     0.077     19.070          0.049      KAIT  \n",
       "24   18.864     0.030   -999.000       -999.000    Nickel  "
      ]
     },
     "execution_count": 16,
     "metadata": {},
     "output_type": "execute_result"
    }
   ],
   "source": [
    "# a (not terribly satisfying) pure python solution\n",
    "# read the file in, parse and write another file that plays nice with pandas\n",
    "\n",
    "with open('Foley_et_al2009_for_pd.csv','w') as fw:\n",
    "    print('JD,Bmag,Bmag_unc,Vmag,Vmag_unc,Rmag,Rmag_unc,Imag,Imag_unc,Unfiltmag,Unfiltmag_unc,Telescope',file=fw)\n",
    "    with open('Foley_et_al2009_table2.txt') as f:\n",
    "        ll = f.readlines()\n",
    "        for l in ll:\n",
    "            if l[0] == '2':\n",
    "                print_str = l.split()[0] + ','\n",
    "                for col in l.split()[1:]:\n",
    "                    if col == 'sdotsdotsdot':\n",
    "                        print_str += '-999,-999,'\n",
    "                    elif col[0] == '>':\n",
    "                        print_str += '{},-999,'.format(col[1:])\n",
    "                    elif col == 'KAIT':\n",
    "                        print_str += 'KAIT'\n",
    "                    elif col == 'Nickel':\n",
    "                        print_str += 'Nickel'\n",
    "                    elif col[0] == '(':\n",
    "                        print_str += '0.{},'.format(col[1:-1])\n",
    "                    else:\n",
    "                        print_str += '{},'.format(col)\n",
    "\n",
    "                print(print_str,file=fw)\n",
    "\n",
    "pd.read_csv('Foley_et_al2009_for_pd.csv')"
   ]
  },
  {
   "cell_type": "markdown",
   "metadata": {
    "editable": true,
    "slideshow": {
     "slide_type": "slide"
    },
    "tags": []
   },
   "source": [
    "Okay - there is nothing elegant about that particular solution. But it works, and wranglin' ain't pretty. \n",
    "\n",
    "It is likely that you developed a solution that looks very different from this one, and that is fine. When data are provided in an unrulely format, the most important thing is to develop some method, any method, for converting the information into a useful format. Following whatever path you used above, it should now be easy to plot the light curve of SN 2008ha."
   ]
  }
 ],
 "metadata": {
  "celltoolbar": "Slideshow",
  "kernelspec": {
   "display_name": "Python 3 (ipykernel)",
   "language": "python",
   "name": "python3"
  },
  "language_info": {
   "codemirror_mode": {
    "name": "ipython",
    "version": 3
   },
   "file_extension": ".py",
   "mimetype": "text/x-python",
   "name": "python",
   "nbconvert_exporter": "python",
   "pygments_lexer": "ipython3",
   "version": "3.11.4"
  },
  "livereveal": {
   "scroll": true,
   "start_slideshow_at": "selected",
   "theme": "solarized"
  }
 },
 "nbformat": 4,
 "nbformat_minor": 4
}
