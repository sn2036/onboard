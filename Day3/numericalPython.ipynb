{
 "cells": [
  {
   "cell_type": "markdown",
   "id": "513770a0-8b83-436c-86fd-78fd024c48de",
   "metadata": {
    "editable": true,
    "slideshow": {
     "slide_type": ""
    },
    "tags": []
   },
   "source": [
    "# Solving some classic problems with numpy scipy  \n",
    "\n",
    "----\n",
    "\n",
    "By Adam A Miller (Northwestern/CIERA/SkAI)  \n",
    "10 Sept 2025"
   ]
  },
  {
   "cell_type": "markdown",
   "id": "d828c77c-e6a8-448d-9d36-4b283854d38f",
   "metadata": {
    "editable": true,
    "slideshow": {
     "slide_type": ""
    },
    "tags": []
   },
   "source": [
    "As a partial, but certainly not complete (!), example of the utility of `numpy` and `scipy`, this notebook includes some classic problems in physics and solves them numerically. There is also an introduction to random numbers and a brief discussion of monte carlo methods. "
   ]
  },
  {
   "cell_type": "code",
   "execution_count": null,
   "id": "00bdb7b9-bf94-41c8-afd9-35d812bb2a0e",
   "metadata": {
    "editable": true,
    "slideshow": {
     "slide_type": ""
    },
    "tags": []
   },
   "outputs": [],
   "source": [
    "import numpy as np"
   ]
  },
  {
   "cell_type": "markdown",
   "id": "e2efa28d-6c83-492e-b472-c6505a0452c4",
   "metadata": {
    "editable": true,
    "slideshow": {
     "slide_type": ""
    },
    "tags": []
   },
   "source": [
    "## Problem 1) The damped harmonic oscillator\n",
    "\n",
    "A damped harmonic oscillator can be described by three parameters: $m$ the mass of the oscillator, $k$ the spring constant, and $c$ the damping coefficient. \n",
    "\n",
    "The equation of motion for this system for this system is: \n",
    "\n",
    "$$mx'' + cx' + kx = 0$$\n",
    "\n",
    "We can solve this ordinary differential equation using scipy. If the initial conditions (i.e., the initial displacement and velocity) are known, then we can evolve the system in time to characterize its motion. "
   ]
  },
  {
   "cell_type": "markdown",
   "id": "88e7efbf-9f10-45aa-87b8-091529f093d7",
   "metadata": {
    "editable": true,
    "slideshow": {
     "slide_type": ""
    },
    "tags": []
   },
   "source": [
    "**Problem 1a**\n",
    "\n",
    "Write a function `damped_oscillator()` that will return the derivatives ($x'$ and $x''$) for the ODE at times t as a list $[dx/dt, dv/dt]$. The input for the function should be times `t` and a tuple `sv` that contains the state vector of the system (i.e., the position and velocity of the system). Assume that the three parameters $m, k, c$ are known. \n",
    "\n",
    "*Hint* – we must write the function in such a way that it can be solved as an initial value problem in `scipy` with [`solve_ivp`](https://docs.scipy.org/doc/scipy/reference/generated/scipy.integrate.solve_ivp.html)."
   ]
  },
  {
   "cell_type": "code",
   "execution_count": null,
   "id": "74bfda66-4c8e-46bf-a91a-335469aaba06",
   "metadata": {},
   "outputs": [],
   "source": [
    "def damped_oscillator( # complete\n",
    "    x, v = # complete\n",
    "    xdot = # complete\n",
    "    xdotdot = # complete\n",
    "    return [xdot, xdotdot]"
   ]
  },
  {
   "cell_type": "markdown",
   "id": "b1d44a05-bfe9-4ffd-a251-61f4fb891eef",
   "metadata": {
    "editable": true,
    "slideshow": {
     "slide_type": ""
    },
    "tags": []
   },
   "source": [
    "**Problem 1b**\n",
    "\n",
    "Use the initial conditions below to solve the initial value problem with `solve_ivp`. \n",
    "\n",
    "The inputs for `solve_ivp` are: `fun`: the function from above that will return the derivatives as a 1D array, `t_span`: a 2-tuple (t0, tf) giving the start and end times for the initial value problem, `sv0`: the initial displacement and velocity, and (optional argument) `t_eval` an array of times at which the solution will be reported."
   ]
  },
  {
   "cell_type": "code",
   "execution_count": null,
   "id": "40f8233a-f464-4d40-8f4e-7ce12bdcba43",
   "metadata": {
    "editable": true,
    "slideshow": {
     "slide_type": ""
    },
    "tags": []
   },
   "outputs": [],
   "source": [
    "from scipy.integrate import solve_ivp\n",
    "\n",
    "\n",
    "m = 1.0                       # kg\n",
    "f0 = 2.5                      # Hz (un-damped natural frequency in Hz)\n",
    "omega0 = 2*np.pi*f0           # rad/s\n",
    "k = m * omega0**2             # N/m\n",
    "zeta = 0.10                   # damping ratio (underdamped if 0 < zeta < 1)\n",
    "c = 2 * zeta * m * omega0     # N*s/m\n",
    "\n",
    "\n",
    "# Initial conditions\n",
    "sv0 = [1.0, 0.0]  # initial displacement and velocity\n",
    "t_span = (0, 20)\n",
    "t_eval = np.linspace(*t_span, 500)\n",
    "\n",
    "sol = solve_ivp( # complete"
   ]
  },
  {
   "cell_type": "markdown",
   "id": "703557ac-85bf-4d8c-8bd2-24b4cbe4eae5",
   "metadata": {},
   "source": [
    "**Problem 1c**\n",
    "\n",
    "Print the solution `sol` to determine its attributes. Did you successfully solve the ODE?"
   ]
  },
  {
   "cell_type": "code",
   "execution_count": null,
   "id": "20d3cb46-cbd0-4240-bca5-0056b991d221",
   "metadata": {},
   "outputs": [],
   "source": [
    "print(sol)"
   ]
  },
  {
   "cell_type": "markdown",
   "id": "639f495e-757f-4bea-ad9c-ddb9d99c900e",
   "metadata": {
    "editable": true,
    "slideshow": {
     "slide_type": ""
    },
    "tags": []
   },
   "source": [
    "**Problem 1d**\n",
    "\n",
    "Plot the numerical solution for the position as a function of time.\n",
    "\n",
    "Does the plot correspond with your expectation? Why or why not?\n",
    "\n",
    "*Note* – feel free to skip this, especially if you are not familiar with `matplotlib`."
   ]
  },
  {
   "cell_type": "code",
   "execution_count": null,
   "id": "a3468da5-83e4-4159-ba4a-f6e492acb2ce",
   "metadata": {
    "editable": true,
    "slideshow": {
     "slide_type": ""
    },
    "tags": []
   },
   "outputs": [],
   "source": [
    "import matplotlib.pyplot as plt\n",
    "\n",
    "# complete\n",
    "# complete\n",
    "# complete"
   ]
  },
  {
   "cell_type": "markdown",
   "id": "151a3c47-84eb-461b-b742-30759c04626f",
   "metadata": {
    "editable": true,
    "slideshow": {
     "slide_type": ""
    },
    "tags": []
   },
   "source": [
    "## Problem 2) Random number generation\n",
    "\n",
    "`numpy` has several built in modules to generate (psuedo) random numbers. These are extremely useful for different types of [monte carlo]() tests, where random numbers are drawn to assess different types of probabistic outcomes. "
   ]
  },
  {
   "cell_type": "markdown",
   "id": "72ef51dd-906c-4ecb-a4f0-f7d43855d425",
   "metadata": {
    "editable": true,
    "slideshow": {
     "slide_type": ""
    },
    "tags": []
   },
   "source": [
    "**Problem 2a** \n",
    "\n",
    "`numpy` can generate a random number over the interval $[0, 1)$ using the (`numpy.random.rand()`)[https://numpy.org/doc/stable/reference/random/generated/numpy.random.rand.html] method. The argument to this function is the dimensions of the array that you would like to be returned. \n",
    "\n",
    "Generate a single number between 0 and 1."
   ]
  },
  {
   "cell_type": "code",
   "execution_count": null,
   "id": "eb18c812-cd68-4a56-9b9c-4174b0e4fa96",
   "metadata": {},
   "outputs": [],
   "source": [
    "print(f'The random number is { # complete"
   ]
  },
  {
   "cell_type": "markdown",
   "id": "0133e61f-f22d-4e84-8a27-1081227a2792",
   "metadata": {},
   "source": [
    "**Problem 2b**\n",
    "\n",
    "Generate 100 random numbers. What is the minimum, maximum, and mean of the numbers that have been drawn? "
   ]
  },
  {
   "cell_type": "code",
   "execution_count": null,
   "id": "38cdd20a-4662-43cc-bd58-1ce65a411840",
   "metadata": {
    "editable": true,
    "slideshow": {
     "slide_type": ""
    },
    "tags": []
   },
   "outputs": [],
   "source": [
    "rns = # complete\n",
    "\n",
    "print(f'''The minimum is {np.min(rns):.3f}, \n",
    "the maximum is {np.max(rns):.3f}, \n",
    "and the mean is {np.mean(rns):.3f}''')"
   ]
  },
  {
   "cell_type": "markdown",
   "id": "88995dd4-4e1f-4824-a491-a13ccd65cf84",
   "metadata": {
    "editable": true,
    "slideshow": {
     "slide_type": ""
    },
    "tags": []
   },
   "source": [
    "**Problem 2c**\n",
    "\n",
    "If you instead generate 10,000 random numbers, do you get answers for the min, max, and mean that are closer to your expectations? "
   ]
  },
  {
   "cell_type": "code",
   "execution_count": null,
   "id": "541979e3-a5a3-4c07-a351-9e9c12d95560",
   "metadata": {
    "editable": true,
    "slideshow": {
     "slide_type": ""
    },
    "tags": []
   },
   "outputs": [],
   "source": [
    "# complete\n",
    "\n",
    "# complete\n",
    "# complete\n",
    "# complete"
   ]
  },
  {
   "cell_type": "markdown",
   "id": "572e42c3-df08-4c5c-a893-e0313fb7e874",
   "metadata": {
    "editable": true,
    "slideshow": {
     "slide_type": ""
    },
    "tags": []
   },
   "source": [
    "**Problem 2d**\n",
    "\n",
    "Using [`numpy.random.Generator.normal`](https://numpy.org/doc/stable/reference/random/generated/numpy.random.normal.html) generate 500 random numbers from a Gaussian distribution with a mean of $1851$ and a standard deviation of 6. \n",
    "\n",
    "What is the mean and the standard deviation for the randomly generated numbers? Are the answers consistent with your expectations? (what if you change the number of samples?)\n",
    "\n",
    "*Hint* – be sure that you calculate the *sample* standard deviation."
   ]
  },
  {
   "cell_type": "code",
   "execution_count": null,
   "id": "c038185b-989a-4e7b-bd34-17399653282b",
   "metadata": {
    "editable": true,
    "slideshow": {
     "slide_type": ""
    },
    "tags": []
   },
   "outputs": [],
   "source": [
    "rng = # complete\n",
    "\n",
    "# complete\n",
    "\n",
    "# complete\n",
    "# complete"
   ]
  },
  {
   "cell_type": "markdown",
   "id": "032365bf-6ac9-4c4d-b30d-91fed0076cfc",
   "metadata": {
    "editable": true,
    "slideshow": {
     "slide_type": ""
    },
    "tags": []
   },
   "source": [
    "## Problem 3) A random walk\n",
    "\n",
    "Many physical phenomena can be described via a random walk (essentially any process with a moderately high cross section in a moderate to high density medium). In this problem we will simulate a 2D random walk as a proxy for understanding diffusion.  "
   ]
  },
  {
   "cell_type": "markdown",
   "id": "a21ebce4-1d4b-4dd3-a712-53d6ddaa6c74",
   "metadata": {
    "editable": true,
    "slideshow": {
     "slide_type": ""
    },
    "tags": []
   },
   "source": [
    "**Problem 3a** \n",
    "\n",
    "To simulate a random walk, draw a random number for a 2D Gaussian distibution where the mean along both axes is 0 and the standard deviation along both axes is 1. (You may assume there is no covariance between the two axes)\n",
    "\n",
    "*Hint* – if you don't want to use `numpy.random.normal` you can use the [`numpy.Generator.random.multivariate_normal`](https://numpy.org/doc/stable/reference/random/generated/numpy.random.Generator.multivariate_normal.html#numpy.random.Generator.multivariate_normal) method."
   ]
  },
  {
   "cell_type": "code",
   "execution_count": null,
   "id": "322667dd-5135-4425-9e2c-6d7e291d3f39",
   "metadata": {
    "editable": true,
    "slideshow": {
     "slide_type": ""
    },
    "tags": []
   },
   "outputs": [],
   "source": [
    "rng = # complete\n",
    "\n",
    "# complete\n",
    "# complete\n",
    "# complete\n",
    "\n",
    "\n",
    "print( # complete"
   ]
  },
  {
   "cell_type": "markdown",
   "id": "658af738-6c4f-4e09-9bf9-36d16461f4c2",
   "metadata": {},
   "source": [
    "**Problem 3b**\n",
    "\n",
    "Create a walker that 100 steps. What is the final position of the walker? \n",
    "\n",
    "Has it moved more or less than you expected? "
   ]
  },
  {
   "cell_type": "code",
   "execution_count": null,
   "id": "c480f711-cf4f-4209-8e59-c32be0da206e",
   "metadata": {
    "editable": true,
    "slideshow": {
     "slide_type": ""
    },
    "tags": []
   },
   "outputs": [],
   "source": [
    "nsteps = # complete\n",
    "\n",
    "# complete\n",
    "# complete\n",
    "# complete\n",
    "\n",
    "\n",
    "# complete\n",
    "\n",
    "print(f'The walker has moved to ')  # complete"
   ]
  },
  {
   "cell_type": "markdown",
   "id": "0e5e2dae-cbc0-458c-8bc1-c0332870daa8",
   "metadata": {
    "editable": true,
    "slideshow": {
     "slide_type": ""
    },
    "tags": []
   },
   "source": [
    "**Problem 3c**\n",
    "\n",
    "Simulate 1000 different walkers that each proceed for 10 steps. \n",
    "\n",
    "Plot the final position of each walker after 10 steps. Calculate the average position of each walker after 10 steps. Calculate the average distance from the origin of each walker."
   ]
  },
  {
   "cell_type": "code",
   "execution_count": null,
   "id": "faf16b21-ef4e-4c5d-a1c8-fccb5a9f2fca",
   "metadata": {},
   "outputs": [],
   "source": [
    "# complete\n",
    "\n",
    "\n",
    "# complete\n",
    "# complete\n",
    "\n",
    "# complete"
   ]
  },
  {
   "cell_type": "code",
   "execution_count": null,
   "id": "577058cf-1dcd-4dc0-9744-ab4d3340051c",
   "metadata": {},
   "outputs": [],
   "source": [
    "fig, ax = plt.subplots()\n",
    "ax.plot( # complete"
   ]
  },
  {
   "cell_type": "markdown",
   "id": "e2198b40-15cf-4e7b-9aae-deaae0a4a8df",
   "metadata": {},
   "source": [
    "**Problem 3d**\n",
    "\n",
    "Repeat this problem for 1000 walkers and 100 steps. Same thing for 1000 steps. Make a single plot showing the results for all three of these runs. \n",
    "\n",
    "Do the results make sense? "
   ]
  },
  {
   "cell_type": "code",
   "execution_count": null,
   "id": "83ac442e-1dce-4686-ab18-9a231069581f",
   "metadata": {},
   "outputs": [],
   "source": [
    "# complete\n",
    "\n",
    "# complete\n",
    "# complete"
   ]
  },
  {
   "cell_type": "code",
   "execution_count": null,
   "id": "00fb1488-e2da-43ad-949d-f3f96beb5d6a",
   "metadata": {},
   "outputs": [],
   "source": [
    "# complete\n",
    "\n",
    "# complete\n",
    "# complete"
   ]
  },
  {
   "cell_type": "code",
   "execution_count": null,
   "id": "c63e01d2-d39a-4fb8-ae94-ccbd7d023dff",
   "metadata": {},
   "outputs": [],
   "source": [
    "fig, ax = plt.subplots()\n",
    "\n",
    "# complete\n",
    "\n",
    "# complete\n",
    "# complete\n",
    "\n",
    "fig.legend(loc=1)"
   ]
  }
 ],
 "metadata": {
  "kernelspec": {
   "display_name": "Python 3 (ipykernel)",
   "language": "python",
   "name": "python3"
  },
  "language_info": {
   "codemirror_mode": {
    "name": "ipython",
    "version": 3
   },
   "file_extension": ".py",
   "mimetype": "text/x-python",
   "name": "python",
   "nbconvert_exporter": "python",
   "pygments_lexer": "ipython3",
   "version": "3.11.4"
  }
 },
 "nbformat": 4,
 "nbformat_minor": 5
}
