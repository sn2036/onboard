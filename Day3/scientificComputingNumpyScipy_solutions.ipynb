{
 "cells": [
  {
   "cell_type": "markdown",
   "id": "1c2d79b4",
   "metadata": {
    "editable": true,
    "slideshow": {
     "slide_type": "slide"
    },
    "tags": []
   },
   "source": [
    "# Scientific Computing with NumPy and SciPy\n",
    "\n",
    "----\n",
    "\n",
    "By Adam A Miller (Northwestern/CIERA/SkAI)  \n",
    "10 Sept 2025"
   ]
  },
  {
   "cell_type": "markdown",
   "id": "41aa05b8",
   "metadata": {
    "editable": true,
    "slideshow": {
     "slide_type": "skip"
    },
    "tags": []
   },
   "source": [
    "## Learning Objectives\n",
    "By the end of this notebook, you will be able to:\n",
    "\n",
    "- Create and manipulate NumPy arrays (shapes, dtypes).\n",
    "- Use slicing, boolean masking, and fancy indexing.\n",
    "- Understand broadcasting and vectorized operations.\n",
    "- Distinguish views vs. copies, and know when to use `.copy()` safely.\n",
    "- Use selected SciPy submodules: `scipy.constants`, `scipy.integrate`, and `scipy.interpolate`.\n",
    "- Apply these tools to small, realistic scientific tasks."
   ]
  },
  {
   "cell_type": "markdown",
   "id": "1d817566-2e76-4d18-9aa1-ac92534045f1",
   "metadata": {
    "editable": true,
    "slideshow": {
     "slide_type": "slide"
    },
    "tags": []
   },
   "source": [
    "### Why Use NumPy for Scientific Computing?"
   ]
  },
  {
   "cell_type": "markdown",
   "id": "34700180-852b-4f2e-8c71-eda6ae391186",
   "metadata": {
    "editable": true,
    "slideshow": {
     "slide_type": "fragment"
    },
    "tags": []
   },
   "source": [
    "- NumPy is the **foundation of numerical computing** in Python.\n"
   ]
  },
  {
   "cell_type": "markdown",
   "id": "8ccc47d9-808c-43f6-9cd5-c4dcecee38dd",
   "metadata": {
    "editable": true,
    "slideshow": {
     "slide_type": "fragment"
    },
    "tags": []
   },
   "source": [
    "- Provides **efficient array operations** and **broadcasting**.\n"
   ]
  },
  {
   "cell_type": "markdown",
   "id": "af55fdd5-6e02-4e65-ba47-dff1748fb178",
   "metadata": {
    "editable": true,
    "slideshow": {
     "slide_type": "fragment"
    },
    "tags": []
   },
   "source": [
    "- Enables **vectorized computations** that are faster and more readable than pure Python loops.\n"
   ]
  },
  {
   "cell_type": "markdown",
   "id": "8bff5aa5-f6b2-456e-8c64-2a189cd8b719",
   "metadata": {
    "editable": true,
    "slideshow": {
     "slide_type": "slide"
    },
    "tags": []
   },
   "source": [
    "Consider my previously declared statement that python is not great at `for` loops. `NumPy` performs basic array operations much faster than a for loop or list comprehension."
   ]
  },
  {
   "cell_type": "code",
   "execution_count": 4,
   "id": "d1174fbf-2af4-485e-a4b9-1dc56eb5e8a4",
   "metadata": {
    "editable": true,
    "slideshow": {
     "slide_type": "slide"
    },
    "tags": []
   },
   "outputs": [
    {
     "name": "stdout",
     "output_type": "stream",
     "text": [
      "for loop time: 0.1781 seconds\n",
      "list comprehension time: 0.0266 seconds\n",
      "NumPy time: 0.0013 seconds\n"
     ]
    }
   ],
   "source": [
    "import numpy as np\n",
    "import time\n",
    "\n",
    "size = 1_000_000\n",
    "a = list(range(size))\n",
    "b = list(range(size))\n",
    "\n",
    "# Pure Python loop\n",
    "start = time.time()\n",
    "c = np.empty_like(a)\n",
    "for num, (a1, b1) in enumerate(zip(a, b)):\n",
    "    c[num] = a1 + b1\n",
    "end = time.time()\n",
    "print(f\"for loop time: {end - start:.4f} seconds\")\n",
    "\n",
    "# List comprehension\n",
    "start = time.time()\n",
    "c = [a[i] + b[i] for i in range(size)]\n",
    "end = time.time()\n",
    "print(f\"list comprehension time: {end - start:.4f} seconds\")\n",
    "\n",
    "# NumPy vectorized operation\n",
    "a_np = np.arange(size)\n",
    "b_np = np.arange(size)\n",
    "\n",
    "start = time.time()\n",
    "c_np = a_np + b_np\n",
    "end = time.time()\n",
    "print(f\"NumPy time: {end - start:.4f} seconds\")\n"
   ]
  },
  {
   "cell_type": "markdown",
   "id": "2e354d5b-8ec5-479d-8f3c-425a6a5f1785",
   "metadata": {
    "editable": true,
    "slideshow": {
     "slide_type": "slide"
    },
    "tags": []
   },
   "source": [
    "#### Vectorization\n",
    "\n",
    "`numpy` enables vector operations (i.e., perform the same operation on an entire array \"simultaneously\")."
   ]
  },
  {
   "cell_type": "markdown",
   "id": "7afb73b3-82d8-456e-a925-8819ace5ba4a",
   "metadata": {
    "editable": true,
    "slideshow": {
     "slide_type": "slide"
    },
    "tags": []
   },
   "source": [
    "Vectorization provides many improvements over the methods we have otherwise learned about this week: "
   ]
  },
  {
   "cell_type": "markdown",
   "id": "9667bc73-8289-416f-8ee5-3f1110e52ce5",
   "metadata": {
    "editable": true,
    "slideshow": {
     "slide_type": "fragment"
    },
    "tags": []
   },
   "source": [
    "- It eliminates explicit loops\n"
   ]
  },
  {
   "cell_type": "markdown",
   "id": "5edfb3c1-98d5-4315-82e9-a4c6de493dec",
   "metadata": {
    "editable": true,
    "slideshow": {
     "slide_type": "fragment"
    },
    "tags": []
   },
   "source": [
    "- It improves performance\n"
   ]
  },
  {
   "cell_type": "markdown",
   "id": "64331ca8-652e-44ad-9041-741c32359f0c",
   "metadata": {
    "editable": true,
    "slideshow": {
     "slide_type": "fragment"
    },
    "tags": []
   },
   "source": [
    "- It makes code more concise and readable\n"
   ]
  },
  {
   "cell_type": "code",
   "execution_count": 5,
   "id": "b79adb72-8008-4f9c-abd5-ac952c2c5884",
   "metadata": {
    "editable": true,
    "slideshow": {
     "slide_type": "slide"
    },
    "tags": []
   },
   "outputs": [],
   "source": [
    "# very quick example - suppose you wanted to plot a sine curve between 0 and 2*pi\n",
    "\n",
    "x = np.linspace(0, 2*np.pi, 1000)\n",
    "y = np.sin(x) # Done!"
   ]
  },
  {
   "cell_type": "markdown",
   "id": "9571591b-65c8-4d3b-aa40-3c1921ee1f64",
   "metadata": {
    "editable": true,
    "slideshow": {
     "slide_type": "slide"
    },
    "tags": []
   },
   "source": [
    "`numpy` can perform basic statistics on the data arrays:"
   ]
  },
  {
   "cell_type": "code",
   "execution_count": 6,
   "id": "855440c6-c10c-4ff1-b131-764d05e69c0f",
   "metadata": {
    "editable": true,
    "slideshow": {
     "slide_type": "fragment"
    },
    "tags": []
   },
   "outputs": [
    {
     "name": "stdout",
     "output_type": "stream",
     "text": [
      "Mean: 3.0, Std: 1.4142135623730951, Sum: 15\n"
     ]
    }
   ],
   "source": [
    "arr = np.array([1, 2, 3, 4, 5])\n",
    "\n",
    "# Basic stats\n",
    "print(f\"Mean: {arr.mean()}, Std: {arr.std()}, Sum: {arr.sum()}\")\n"
   ]
  },
  {
   "cell_type": "markdown",
   "id": "d525320f-30b7-4370-8131-e4ab27fb4683",
   "metadata": {
    "editable": true,
    "slideshow": {
     "slide_type": "slide"
    },
    "tags": []
   },
   "source": [
    "\n",
    "### NumPy for Linear Algebra\n",
    "\n",
    "(*Note* – can leverage duck typing to perform linear algebra on 2D arrays)"
   ]
  },
  {
   "cell_type": "markdown",
   "id": "8f0484fa-bae9-4d35-8b45-9c9220417d8f",
   "metadata": {
    "editable": true,
    "slideshow": {
     "slide_type": "fragment"
    },
    "tags": []
   },
   "source": [
    "- Efficient matrix operations: multiplication, transpose, inverse"
   ]
  },
  {
   "cell_type": "markdown",
   "id": "be1cfe3c-f7f0-4a48-a875-36b259a3f05f",
   "metadata": {
    "editable": true,
    "slideshow": {
     "slide_type": "fragment"
    },
    "tags": []
   },
   "source": [
    "- Solving systems of equations"
   ]
  },
  {
   "cell_type": "markdown",
   "id": "f7dba821-eb2f-4744-b255-ee990b8ace54",
   "metadata": {
    "editable": true,
    "slideshow": {
     "slide_type": "fragment"
    },
    "tags": []
   },
   "source": [
    "- Eigenvalue decomposition"
   ]
  },
  {
   "cell_type": "code",
   "execution_count": 7,
   "id": "62f5a321-0d21-458a-a5bf-ea8f73f87e4e",
   "metadata": {
    "editable": true,
    "slideshow": {
     "slide_type": "slide"
    },
    "tags": []
   },
   "outputs": [
    {
     "name": "stdout",
     "output_type": "stream",
     "text": [
      "Matrix product A @ B:\n",
      "[[ 4  4]\n",
      " [10  8]]\n",
      "Transpose of A:\n",
      "[[1 3]\n",
      " [2 4]]\n",
      "Determinant of A: -2.00\n",
      "Inverse of A:\n",
      "[[-2.   1. ]\n",
      " [ 1.5 -0.5]]\n",
      "Eigenvalues: [-0.37228132  5.37228132]\n",
      "Eigenvectors:\n",
      "[[-0.82456484 -0.41597356]\n",
      " [ 0.56576746 -0.90937671]]\n"
     ]
    }
   ],
   "source": [
    "# Define matrices\n",
    "A = np.array([[1, 2], [3, 4]])\n",
    "B = np.array([[2, 0], [1, 2]])\n",
    "\n",
    "# Matrix multiplication\n",
    "C = A @ B\n",
    "print(f\"Matrix product A @ B:\\n{C}\")\n",
    "\n",
    "# Transpose\n",
    "print(f\"Transpose of A:\\n{A.T}\")\n",
    "\n",
    "# Determinant\n",
    "det_A = np.linalg.det(A)\n",
    "print(f\"Determinant of A: {det_A:.2f}\")\n",
    "\n",
    "# Inverse\n",
    "inv_A = np.linalg.inv(A)\n",
    "print(f\"Inverse of A:\\n{inv_A}\")\n",
    "\n",
    "# Eigenvalues and eigenvectors\n",
    "eigvals, eigvecs = np.linalg.eig(A)\n",
    "print(f\"Eigenvalues: {eigvals}\")\n",
    "print(f\"Eigenvectors:\\n{eigvecs}\")\n"
   ]
  },
  {
   "cell_type": "markdown",
   "id": "5c95f477-a577-45f7-ab61-14bd4783995b",
   "metadata": {
    "editable": true,
    "slideshow": {
     "slide_type": "slide"
    },
    "tags": []
   },
   "source": [
    "Quick note - when manipulating `numpy` arrays it is very important to know the different between a view and a copy. "
   ]
  },
  {
   "cell_type": "markdown",
   "id": "1ca36714-7828-424d-87a2-e60457928410",
   "metadata": {
    "editable": true,
    "slideshow": {
     "slide_type": "fragment"
    },
    "tags": []
   },
   "source": [
    "\n",
    "- *view*: Shares memory with the original array. Changes to the view affect the original.\n",
    "- *copy*: Independent memory. Changes do **not** affect the original array."
   ]
  },
  {
   "cell_type": "markdown",
   "id": "a8c28d7a-4255-4548-90e2-2c7d330b3286",
   "metadata": {
    "editable": true,
    "slideshow": {
     "slide_type": "slide"
    },
    "tags": []
   },
   "source": [
    "- Views are **faster** and more memory-efficient.\n",
    "- Copies are **safer** when you need to preserve original data.\n",
    "\n",
    "Here's a weird thing: "
   ]
  },
  {
   "cell_type": "code",
   "execution_count": 8,
   "id": "c56ced09-39fb-44e0-8551-9b92fd6f986b",
   "metadata": {
    "editable": true,
    "slideshow": {
     "slide_type": "slide"
    },
    "tags": []
   },
   "outputs": [
    {
     "name": "stdout",
     "output_type": "stream",
     "text": [
      "Original array after modifying view: [10 99 30 40 50]\n",
      "View: [99 30 40]\n",
      "Original array after modifying copy: [10 99 30 40 50]\n",
      "Copy: [77 30 40]\n"
     ]
    }
   ],
   "source": [
    "a = np.array([10, 20, 30, 40, 50])\n",
    "\n",
    "# Create a view\n",
    "view = a[1:4]\n",
    "view[0] = 99\n",
    "\n",
    "print(f\"Original array after modifying view: {a}\")\n",
    "print(f\"View: {view}\")\n",
    "\n",
    "# Create a copy\n",
    "copy = a[1:4].copy()\n",
    "copy[0] = 77\n",
    "\n",
    "print(f\"Original array after modifying copy: {a}\")\n",
    "print(f\"Copy: {copy}\")\n"
   ]
  },
  {
   "cell_type": "markdown",
   "id": "fd7bc428",
   "metadata": {
    "editable": true,
    "slideshow": {
     "slide_type": "skip"
    },
    "tags": []
   },
   "source": [
    "(just as I did earlier today, I'm going to populate the notebook with several additional useful examples but will not go over all the syntax during this lecture)"
   ]
  },
  {
   "cell_type": "markdown",
   "id": "d1dee34f",
   "metadata": {
    "editable": true,
    "slideshow": {
     "slide_type": "skip"
    },
    "tags": []
   },
   "source": [
    "### Array Creation"
   ]
  },
  {
   "cell_type": "code",
   "execution_count": 10,
   "id": "15ecfb09",
   "metadata": {
    "editable": true,
    "slideshow": {
     "slide_type": "skip"
    },
    "tags": []
   },
   "outputs": [
    {
     "name": "stdout",
     "output_type": "stream",
     "text": [
      "a1: [1 2 3]\n",
      "a2: [[0. 0. 0.]\n",
      " [0. 0. 0.]]\n",
      "a3: [[1. 1. 1.]\n",
      " [1. 1. 1.]\n",
      " [1. 1. 1.]]\n",
      "a4: [0 2 4 6 8]\n",
      "a5: [0.   0.25 0.5  0.75 1.  ]\n",
      "a6 shape: (3, 4), dtype: float64\n"
     ]
    }
   ],
   "source": [
    "# Creating arrays\n",
    "a1 = np.array([1, 2, 3])\n",
    "a2 = np.zeros((2, 3))\n",
    "a3 = np.ones((3, 3), dtype=float)\n",
    "a4 = np.arange(0, 10, 2)\n",
    "a5 = np.linspace(0, 1, 5)\n",
    "a6 = np.random.default_rng(42).normal(size=(3,4))\n",
    "\n",
    "print(f'a1: {a1}')\n",
    "print(f'a2: {a2}')\n",
    "print(f'a3: {a3}')\n",
    "print(f'a4: {a4}')\n",
    "print(f'a5: {a5}')\n",
    "print(f'a6 shape: {a6.shape}, dtype: {a6.dtype}')"
   ]
  },
  {
   "cell_type": "markdown",
   "id": "a011c2d5",
   "metadata": {
    "editable": true,
    "slideshow": {
     "slide_type": "skip"
    },
    "tags": []
   },
   "source": [
    "### Slicing and Indexing"
   ]
  },
  {
   "cell_type": "code",
   "execution_count": 12,
   "id": "9e816999",
   "metadata": {
    "editable": true,
    "slideshow": {
     "slide_type": "skip"
    },
    "tags": []
   },
   "outputs": [
    {
     "name": "stdout",
     "output_type": "stream",
     "text": [
      "A = [[1 2 3]\n",
      " [4 5 6]\n",
      " [7 8 9]]\n",
      "First row: [1 2 3]\n",
      "Last column: [3 6 9]\n",
      "Center 2x2 block: [[2 3]\n",
      " [5 6]]\n",
      "Even mask: [[False  True False]\n",
      " [ True False  True]\n",
      " [False  True False]]\n",
      "Even elements: [2 4 6 8]\n",
      "After modifying B, A becomes: [[-99   2   3]\n",
      " [  4   5   6]\n",
      " [  7   8   9]]\n"
     ]
    }
   ],
   "source": [
    "A = np.arange(1, 10).reshape(3, 3)\n",
    "print('A =', A)\n",
    "\n",
    "# Basic slicing\n",
    "print('First row:', A[0])\n",
    "print('Last column:', A[:, -1])\n",
    "print('Center 2x2 block:', A[0:2, 1:3])\n",
    "\n",
    "# Boolean masking\n",
    "mask = A % 2 == 0\n",
    "print('Even mask:', mask)\n",
    "print('Even elements:', A[mask])\n",
    "\n",
    "# Note: slices create views (no copy), fancy/boolean indexing create copies\n",
    "B = A[:, :2]  # view\n",
    "B[0, 0] = -99\n",
    "print('After modifying B, A becomes:', A)"
   ]
  },
  {
   "cell_type": "markdown",
   "id": "c1088d2a",
   "metadata": {
    "editable": true,
    "slideshow": {
     "slide_type": "skip"
    },
    "tags": []
   },
   "source": [
    "### Broadcasting and Basic Operations"
   ]
  },
  {
   "cell_type": "code",
   "execution_count": 13,
   "id": "c7a8f891",
   "metadata": {
    "editable": true,
    "slideshow": {
     "slide_type": "skip"
    },
    "tags": []
   },
   "outputs": [
    {
     "name": "stdout",
     "output_type": "stream",
     "text": [
      "x + y = [[11. 12. 13.]\n",
      " [21. 22. 23.]\n",
      " [31. 32. 33.]]\n",
      "2*x = [2. 4. 6.]\n",
      "x**2 = [1. 4. 9.]\n",
      "Sum over rows of (x+y): [36. 66. 96.]\n"
     ]
    }
   ],
   "source": [
    "x = np.array([1., 2., 3.])\n",
    "y = np.array([[10.], [20.], [30.]])\n",
    "print('x + y =', x + y)\n",
    "print('2*x =', 2 * x)\n",
    "print('x**2 =', x**2)\n",
    "print('Sum over rows of (x+y):', (x+y).sum(axis=1))\n",
    "\n",
    "# Broadcasting pitfalls: shape alignment\n",
    "try:\n",
    "    _ = np.ones((3,1)) + np.ones((2,))\n",
    "except ValueError as e:\n",
    "    print('Broadcasting error example:', e)"
   ]
  },
  {
   "cell_type": "markdown",
   "id": "eac6ec0a-643d-467a-b3fd-af106e3f963c",
   "metadata": {
    "editable": true,
    "slideshow": {
     "slide_type": "slide"
    },
    "tags": []
   },
   "source": [
    "### Why Use SciPy for Scientific Computing?"
   ]
  },
  {
   "cell_type": "markdown",
   "id": "692b2af4-f0eb-4bf4-b933-ebb34e596a72",
   "metadata": {
    "editable": true,
    "slideshow": {
     "slide_type": "subslide"
    },
    "tags": []
   },
   "source": [
    "(especially when we already have NumPy...)"
   ]
  },
  {
   "cell_type": "markdown",
   "id": "15af503f-10c5-4d0d-a81e-e5d40c153024",
   "metadata": {
    "editable": true,
    "slideshow": {
     "slide_type": "slide"
    },
    "tags": []
   },
   "source": [
    "[`scipy`](https://scipy.org/) builds on NumPy to provide advanced scientific computing tools. This includes specialized (and faster) modules for: \n",
    "\n",
    "\n"
   ]
  },
  {
   "cell_type": "markdown",
   "id": "c4f98132-77a0-4937-9b21-ab95e6a3fe1b",
   "metadata": {
    "editable": true,
    "slideshow": {
     "slide_type": "fragment"
    },
    "tags": []
   },
   "source": [
    "  - Integration\n"
   ]
  },
  {
   "cell_type": "markdown",
   "id": "1a64fccb-94ab-468a-a1ae-cb786a73c158",
   "metadata": {
    "editable": true,
    "slideshow": {
     "slide_type": "fragment"
    },
    "tags": []
   },
   "source": [
    "  - Interpolation\n"
   ]
  },
  {
   "cell_type": "markdown",
   "id": "57f3b42c-7712-43cb-9a0b-26c71a057a53",
   "metadata": {
    "editable": true,
    "slideshow": {
     "slide_type": "fragment"
    },
    "tags": []
   },
   "source": [
    "  - Optimization (Friday!)\n"
   ]
  },
  {
   "cell_type": "markdown",
   "id": "aa15e4ad-b4fb-422d-8985-5913a0d68d4e",
   "metadata": {
    "editable": true,
    "slideshow": {
     "slide_type": "fragment"
    },
    "tags": []
   },
   "source": [
    "  - Signal processing\n"
   ]
  },
  {
   "cell_type": "markdown",
   "id": "e19eecc1-3221-4b22-988a-26fb5ec69031",
   "metadata": {
    "editable": true,
    "slideshow": {
     "slide_type": "fragment"
    },
    "tags": []
   },
   "source": [
    "  - Physical constants\n"
   ]
  },
  {
   "cell_type": "markdown",
   "id": "60067e8b-7cc0-4ead-9370-f67e8cd7a51e",
   "metadata": {
    "editable": true,
    "slideshow": {
     "slide_type": "slide"
    },
    "tags": []
   },
   "source": [
    "If you want to model, simulate, or analyze scientific data in python then `scipy` is for you!"
   ]
  },
  {
   "cell_type": "markdown",
   "id": "e5262b95-1a1c-4f75-bfac-3e27644e7066",
   "metadata": {
    "editable": true,
    "slideshow": {
     "slide_type": "slide"
    },
    "tags": []
   },
   "source": [
    "#### Physical constants\n",
    "\n",
    "- Provides **precise values** for hundreds of physical constants.\n",
    "- Includes **unit conversions** for pressure, energy, temperature, etc.\n"
   ]
  },
  {
   "cell_type": "code",
   "execution_count": 14,
   "id": "edce45d2-7dbd-4d42-a2da-c0af8748038e",
   "metadata": {
    "editable": true,
    "slideshow": {
     "slide_type": "slide"
    },
    "tags": []
   },
   "outputs": [
    {
     "name": "stdout",
     "output_type": "stream",
     "text": [
      "Speed of light: 299792458.0 m/s\n",
      "Planck constant: 6.62607015e-34 J·s\n",
      "Gravitational constant: 6.674e-11 m^3·kg^-1·s^-2\n",
      "1 electronvolt in joules: 1.602176634e-19 J\n",
      "1 atmosphere in pascals: 101325.0 Pa\n"
     ]
    }
   ],
   "source": [
    "from scipy import constants\n",
    "\n",
    "# Access physical constants\n",
    "print(f\"Speed of light: {constants.c} m/s\")\n",
    "print(f\"Planck constant: {constants.h} J·s\")\n",
    "print(f\"Gravitational constant: {constants.G:.3e} m^3·kg^-1·s^-2\") # update the Orrery!!\n",
    "\n",
    "# Convert units\n",
    "print(f\"1 electronvolt in joules: {constants.eV} J\")\n",
    "print(f\"1 atmosphere in pascals: {constants.atm} Pa\")\n"
   ]
  },
  {
   "cell_type": "markdown",
   "id": "ee49ab70-74bc-4f0c-a085-e8ba35e816a7",
   "metadata": {
    "editable": true,
    "slideshow": {
     "slide_type": "slide"
    },
    "tags": []
   },
   "source": [
    "### Interpolation\n",
    "\n",
    "`scipy.interpolate` provides multiple useful methods for interpolation: \n",
    "\n",
    "\n",
    "- `interp1d`: 1D interpolation (linear, cubic, etc.)\n",
    "- `griddata`: Interpolation on scattered data\n",
    "- `UnivariateSpline`: Spline fitting with smoothing\n"
   ]
  },
  {
   "cell_type": "code",
   "execution_count": 15,
   "id": "f6537438-035f-4be5-ac91-e3d003b87bea",
   "metadata": {
    "editable": true,
    "slideshow": {
     "slide_type": "skip"
    },
    "tags": []
   },
   "outputs": [
    {
     "name": "stdout",
     "output_type": "stream",
     "text": [
      "Interpolated values at x=6.283: 0.0006\n"
     ]
    }
   ],
   "source": [
    "from scipy import interpolate\n",
    "\n",
    "# Sample data\n",
    "x = np.linspace(0, 10, 10)\n",
    "y = np.sin(x)\n",
    "\n",
    "# Create interpolator\n",
    "f_interp = interpolate.interp1d(x, y, kind='cubic')\n",
    "\n",
    "# Evaluate at new points\n",
    "x_new = np.linspace(0, 10, 100)\n",
    "y_new = f_interp(x_new)\n",
    "\n",
    "print(f\"Interpolated values at x=6.283: {f_interp(6.283):.4f}\")\n"
   ]
  },
  {
   "cell_type": "markdown",
   "id": "be6af2a4-df63-4474-9d56-59df2a73ac96",
   "metadata": {
    "editable": true,
    "slideshow": {
     "slide_type": "slide"
    },
    "tags": []
   },
   "source": [
    "#### Integration\n",
    "\n",
    "`scipy.integration` enables basic (numeric) calculus:\n",
    "\n",
    "- `quad`: Integrate a function over a range\n",
    "- `dblquad`, `tplquad`: Double and triple integrals\n",
    "- `solve_ivp`: Solve initial value problems for OD\n"
   ]
  },
  {
   "cell_type": "code",
   "execution_count": 16,
   "id": "0e6258b0-ad2c-41bf-ab38-1238b92ad81a",
   "metadata": {
    "editable": true,
    "slideshow": {
     "slide_type": "skip"
    },
    "tags": []
   },
   "outputs": [
    {
     "name": "stdout",
     "output_type": "stream",
     "text": [
      "Integral of sin(x) from 0 to pi: 2.0000, error estimate: 2.22e-14\n"
     ]
    }
   ],
   "source": [
    "from scipy import integrate\n",
    "\n",
    "# Define a function to integrate\n",
    "def f(x):\n",
    "    return np.sin(x)\n",
    "\n",
    "result, error = integrate.quad(f, 0, np.pi) # Integrate from 0 to pi\n",
    "print(f\"Integral of sin(x) from 0 to pi: {result:.4f}, error estimate: {error:.2e}\")\n"
   ]
  }
 ],
 "metadata": {
  "kernelspec": {
   "display_name": "Python 3 (ipykernel)",
   "language": "python",
   "name": "python3"
  },
  "language_info": {
   "codemirror_mode": {
    "name": "ipython",
    "version": 3
   },
   "file_extension": ".py",
   "mimetype": "text/x-python",
   "name": "python",
   "nbconvert_exporter": "python",
   "pygments_lexer": "ipython3",
   "version": "3.11.4"
  }
 },
 "nbformat": 4,
 "nbformat_minor": 5
}
