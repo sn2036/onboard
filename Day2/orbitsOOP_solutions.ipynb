{
 "cells": [
  {
   "cell_type": "markdown",
   "metadata": {},
   "source": [
    "# Building a Digital Orrery\n",
    "\n",
    "----\n",
    "\n",
    "By Adam A Miller (Northwestern/CIERA/SkAI)  \n",
    "09 Sept 2025\n",
    "\n",
    "**Version 0.1**\n",
    "\n",
    "(based on a problem originally written by Jeff Oishi [for the DSFP](https://github.com/LSSTC-DSFP/LSSTC-DSFP-Sessions/blob/main/Sessions/Session08/Day1/OOP_problem.ipynb))"
   ]
  },
  {
   "cell_type": "markdown",
   "metadata": {},
   "source": [
    "In this problem you will construct a Digital Orrery. An [orrery](https://en.wikipedia.org/wiki/Orrery) is a mechanical model of the Solar System. Here, we will generalize this to anything that is mechanically similar to *the* solar system: a collection of things bound gravitationally. \n",
    "\n",
    "<img src=\"https://upload.wikimedia.org/wikipedia/commons/4/48/Grand_orrery_in_Putnam_Gallery%2C_2009-11-24.jpg\" alt=\"Orrery\" width=\"600\"/>\n",
    "(image: wikimedia)\n"
   ]
  },
  {
   "cell_type": "code",
   "execution_count": 1,
   "metadata": {},
   "outputs": [],
   "source": [
    "import numpy as np\n",
    "# import matplotlib.pyplot as plt"
   ]
  },
  {
   "cell_type": "markdown",
   "metadata": {},
   "source": [
    "## Problem 1) Building a basic set of objects\n",
    "\n",
    "Our first task is to map our problem onto a set of **objects** that we **instantiate** (that is, make **instances** of) in order to solve our problem.\n",
    "\n",
    "Let's outline the scope of our problem.\n",
    "\n",
    "A solar system exists in a Universe; here we can ignore the gravitational perturbation on the Solar System from the rest of the Universe (i.e., the Orrery can be treated as the only thing in the Universe). Our model will consist of a small number of bodies containing mass. It might also contain bodies without mass, so called \"test particles.\"\n",
    "\n",
    "The problem to be solved numerically is the gravitational N-body problem,\n",
    "\n",
    "$$\\ddot{\\mathbf{r}}_i = -G\\sum_{i \\ne j} \\frac{m_j \\mathbf{r}_{ij}}{r_{ij}^3},$$\n",
    "\n",
    "where $\\mathbf{r}_{ij} \\equiv \\mathbf{r_i} - \\mathbf{r_j}$. This task itself can be broken into two components: \n",
    "\n",
    "* the force calculation\n",
    "* the ODE integrator to advance $\\mathbf{r}_i$ and $\\dot{\\mathbf{r}}_i$ forward in time"
   ]
  },
  {
   "cell_type": "markdown",
   "metadata": {},
   "source": [
    "**Problem 1a**\n",
    "\n",
    "In disucssion with a classmate, sketch out a set of classes that you will need to complete this project. Don't worry about things like numerical integrators yet. \n",
    "\n",
    "Also, sketch out interfaces (start with the class constructor), but don't worry about writing code right now.\n",
    "\n",
    "*Hint* – what is the minimal number of classes you will need to perform the calculation?"
   ]
  },
  {
   "cell_type": "markdown",
   "metadata": {},
   "source": [
    "*write your response here*\n",
    "\n",
    "To build the Orrery we will need two classes. One called `Body`, which can be used to hold instances of the different objects that are gravitationally interacting. The important properties for a body are its mass, position, velocity, and acceleration. \n",
    "\n",
    "We also need a `Universe` class, which will include all the bodies that are present within the Universe. "
   ]
  },
  {
   "cell_type": "code",
   "execution_count": 2,
   "metadata": {},
   "outputs": [],
   "source": [
    "class Body():\n",
    "    pass\n",
    "\n",
    "class Universe():\n",
    "    pass"
   ]
  },
  {
   "cell_type": "markdown",
   "metadata": {},
   "source": [
    "**Problem 1b**\n",
    "\n",
    "Using `r0` and `rdot0` below create an instance of the `Body` class. \n",
    "\n",
    "*Hint* – if you did not fully create the `Body` class in the previous problem do that here."
   ]
  },
  {
   "cell_type": "code",
   "execution_count": 3,
   "metadata": {},
   "outputs": [],
   "source": [
    "class Body: \n",
    "    def __init__(self, m, r, rdot): \n",
    "        self.m = m \n",
    "        self.r = np.array(r, dtype=float) \n",
    "        self.rdot = np.array(rdot, dtype=float) \n",
    "        self.a = np.zeros_like(self.r)"
   ]
  },
  {
   "cell_type": "code",
   "execution_count": 4,
   "metadata": {},
   "outputs": [],
   "source": [
    "r0 = np.array([0,0,0])\n",
    "rdot0 = np.array([0,0,0])"
   ]
  },
  {
   "cell_type": "code",
   "execution_count": 5,
   "metadata": {},
   "outputs": [],
   "source": [
    "b = Body(1,r0, rdot0)"
   ]
  },
  {
   "cell_type": "markdown",
   "metadata": {},
   "source": [
    "## Problem 2\n",
    "\n",
    "Now, we code the numerical algorithms. We're going to do the most simple things possible: a *brute force* (\"direct N-Body\" if you're feeling fancy) force calculation, and a leapfrog time integrator.\n",
    "\n",
    "The leapfrog scheme is an explicit, second order scheme given by\n",
    "\n",
    "$$r_{i+1} = r_{i} + v_{i} \\Delta t + \\frac{\\Delta t^2}{2} a_{i}$$\n",
    "\n",
    "$$v_{i+1} = v_{i} + \\frac{\\Delta t}{2} (a_{i} + a_{i+1}),$$\n",
    "\n",
    "where $\\Delta t$ is the time step (which we'll just keep constant), and the subscript refers to the *iteration* number $i$. \n",
    "\n",
    "Note that this scheme requires a force update *in between* calculating $r_{i+1}$ and $v_{i+1}$. (In other words, the code should proceed a half time step to update the velocity of the bodies, then calculate the new position of the bodies using a full time step, compute the forces, and then proceed with an additional half time step to get the updated velocity.)"
   ]
  },
  {
   "cell_type": "markdown",
   "metadata": {},
   "source": [
    "**Problem 2a** \n",
    "\n",
    "Write a method that implements the force integrator. Test it on simple cases:\n",
    " * two equal 1 $M_\\odot$ objects in your universe, 1 AU apart\n",
    " * a $1\\ M_\\odot$ object and a $1\\ M_{\\oplus}$ object, 1 AU apart"
   ]
  },
  {
   "cell_type": "code",
   "execution_count": 8,
   "metadata": {},
   "outputs": [],
   "source": [
    "class Universe: \n",
    "    def __init__(self): \n",
    "        self.bodies = [] \n",
    "    \n",
    "    def add_body(self, body): \n",
    "        self.bodies.append(body)\n",
    "\n",
    "    def compute_forces(self): \n",
    "        G = 6.67430e-11 # gravitational constant \n",
    "        for body in self.bodies: \n",
    "            body.a = np.zeros_like(body.r) \n",
    "        for i, bi in enumerate(self.bodies): \n",
    "            for j, bj in enumerate(self.bodies): \n",
    "                if i != j: \n",
    "                    rij = bj.r - bi.r \n",
    "                    dist = sum(rij**2)**0.5 \n",
    "                    if dist > 0: \n",
    "                        bi.a += G * bj.m * rij / dist**3"
   ]
  },
  {
   "cell_type": "code",
   "execution_count": 9,
   "metadata": {},
   "outputs": [
    {
     "name": "stdout",
     "output_type": "stream",
     "text": [
      "Body 1: [6.6743e-11 0.0000e+00 0.0000e+00]\n",
      "Body 2: [-6.6743e-11  0.0000e+00  0.0000e+00]\n"
     ]
    }
   ],
   "source": [
    "# test case 1 two equal mass bodies separated by 1 AU\n",
    "\n",
    "body1 = Body(1.0, [0, 0, 0], [0, 0, 0])\n",
    "body2 = Body(1.0, [1, 0, 0], [0, 0, 0])\n",
    "em_uni = Universe()\n",
    "em_uni.add_body(body1)\n",
    "em_uni.add_body(body2)\n",
    "em_uni.compute_forces()\n",
    "print(\"Body 1:\", body1.a)\n",
    "print(\"Body 2:\", body2.a)\n"
   ]
  },
  {
   "cell_type": "code",
   "execution_count": 10,
   "metadata": {},
   "outputs": [
    {
     "name": "stdout",
     "output_type": "stream",
     "text": [
      "Sun: [2.00429229e-16 0.00000000e+00 0.00000000e+00]\n",
      "Earth: [-6.6743e-11  0.0000e+00  0.0000e+00]\n"
     ]
    }
   ],
   "source": [
    "# test case 2 - sun + earth system separated by 1 AU\n",
    "\n",
    "body_sun = Body(1.0, [0, 0, 0], [0, 0, 0])\n",
    "body_earth = Body(3.003e-6, [1, 0, 0], [0, 0, 0])\n",
    "se_uni = Universe()\n",
    "se_uni.add_body(body_sun)\n",
    "se_uni.add_body(body_earth)\n",
    "se_uni.compute_forces()\n",
    "print(\"Sun:\", body_sun.a)\n",
    "print(\"Earth:\", body_earth.a)"
   ]
  },
  {
   "cell_type": "markdown",
   "metadata": {
    "collapsed": true,
    "jupyter": {
     "outputs_hidden": true
    }
   },
   "source": [
    "**Problem 2b**\n",
    "Write the leapfrog integration as a method in the `Universe` class. Test it on one particle with no force (what should it do?)"
   ]
  },
  {
   "cell_type": "code",
   "execution_count": 21,
   "metadata": {},
   "outputs": [],
   "source": [
    "class Universe: \n",
    "    def __init__(self): \n",
    "        self.bodies = [] \n",
    "    \n",
    "    def add_body(self, body): \n",
    "        self.bodies.append(body)\n",
    "\n",
    "    def compute_forces(self): \n",
    "        G = 6.67430e-11 # gravitational constant \n",
    "        for body in self.bodies: \n",
    "            body.a = np.zeros_like(body.r) \n",
    "        for i, bi in enumerate(self.bodies): \n",
    "            for j, bj in enumerate(self.bodies): \n",
    "                if i != j: \n",
    "                    rij = bj.r - bi.r \n",
    "                    dist = sum(rij**2)**0.5 \n",
    "                    if dist > 0: \n",
    "                        bi.a += G * bj.m * rij / dist**3\n",
    "\n",
    "    def leapfrog_step(self, dt): \n",
    "        # First half-step for velocity \n",
    "        for body in self.bodies: \n",
    "            body.rdot += 0.5 * dt * body.a \n",
    "        # Full step for position \n",
    "        for body in self.bodies: \n",
    "            body.r += dt * body.rdot\n",
    "        \n",
    "        # Update forces \n",
    "        self.compute_forces() \n",
    "        \n",
    "        # Second half-step for velocity \n",
    "        for body in self.bodies: \n",
    "            body.rdot += 0.5 * dt * body.a"
   ]
  },
  {
   "cell_type": "code",
   "execution_count": 22,
   "metadata": {},
   "outputs": [
    {
     "name": "stdout",
     "output_type": "stream",
     "text": [
      "At timestep 0, the position is [60.  0.  0.]\n",
      "At timestep 1, the position is [120.   0.   0.]\n",
      "At timestep 2, the position is [180.   0.   0.]\n",
      "At timestep 3, the position is [240.   0.   0.]\n",
      "At timestep 4, the position is [300.   0.   0.]\n",
      "At timestep 5, the position is [360.   0.   0.]\n",
      "At timestep 6, the position is [420.   0.   0.]\n",
      "At timestep 7, the position is [480.   0.   0.]\n",
      "At timestep 8, the position is [540.   0.   0.]\n",
      "At timestep 9, the position is [600.   0.   0.]\n"
     ]
    }
   ],
   "source": [
    "# Test case: One particle with no force\n",
    "body = Body(1.0, [0, 0, 0], [1, 0, 0])\n",
    "no_force = Universe()\n",
    "no_force.add_body(body)\n",
    "\n",
    "for pos_num, pos in enumerate(range(10)):\n",
    "    no_force.leapfrog_step(60)\n",
    "    for b in no_force.bodies:\n",
    "        print(f'At timestep {pos_num}, the position is {b.r}')\n",
    "\n",
    "\n"
   ]
  },
  {
   "cell_type": "markdown",
   "metadata": {},
   "source": [
    "**Problem 2c** \n",
    " \n",
    "Wire it all up! Try a 3-body calculation of the Earth-Sun-Moon system. Try the Earth-Jupiter-Sun system! "
   ]
  },
  {
   "cell_type": "code",
   "execution_count": 32,
   "metadata": {},
   "outputs": [
    {
     "name": "stdout",
     "output_type": "stream",
     "text": [
      "After 1000 hours, the bodies have now moved to:\n",
      "The position of this body is [111900.43764608  27206.52992804      0.        ]\n",
      "The position of this body is [1.12793032e+11 9.83030251e+10 0.00000000e+00]\n",
      "The position of this body is [1.12440066e+11 9.81860844e+10 0.00000000e+00]\n"
     ]
    }
   ],
   "source": [
    "# Masses in kg (Note - this was set by the choice of G earlier)\n",
    "M_sun = 1.989e30 \n",
    "M_earth = 5.972e24 \n",
    "M_moon = 7.348e22 \n",
    "\n",
    "# Distances in meters \n",
    "AU = 1.496e11 \n",
    "moon_dist = 3.844e8 \n",
    "\n",
    "# Initial positions and velocities \n",
    "sun = Body(M_sun, [0, 0, 0], [0, 0, 0]) \n",
    "earth = Body(M_earth, [AU, 0, 0], [0, 29780, 0]) # 29.78 km/s \n",
    "moon = Body(M_moon, [AU + moon_dist, 0, 0], [0, 29780 + 1022, 0]) # Moon velocity \n",
    "\n",
    "u = Universe() \n",
    "u.add_body(sun) \n",
    "u.add_body(earth) \n",
    "u.add_body(moon) \n",
    "\n",
    "u.compute_forces() \n",
    "\n",
    "n_steps = 1000\n",
    "for step_num in range(n_steps): \n",
    "    u.leapfrog_step(3600) # 1 hour timestep\n",
    "\n",
    "print(f'After {n_steps} hours, the bodies have now moved to:')\n",
    "for b in u.bodies:\n",
    "    print(f'The position of this body is {b.r}')"
   ]
  },
  {
   "cell_type": "markdown",
   "metadata": {},
   "source": [
    "Note a few things that \"make sense\" in this instance. \n",
    "\n",
    "1. The sun has \"barely\" moved\n",
    "2. None of the bodies have any motion outside the orbital plane.\n",
    "3. The moon is being \"dragged\" by the Earth (i.e., the moon is clearly staying with the Earth)"
   ]
  },
  {
   "cell_type": "markdown",
   "metadata": {},
   "source": [
    "What about 1 year - if the system is advanced by $24 \\times 365.25 \\approx 8768\\,\\mathrm{hr}$ - do the bodies return to their original position?"
   ]
  },
  {
   "cell_type": "code",
   "execution_count": 33,
   "metadata": {},
   "outputs": [
    {
     "name": "stdout",
     "output_type": "stream",
     "text": [
      "After 8768 hours, the bodies have now moved to:\n",
      "The position of this body is [6.79131885e-13 1.91081260e-05 0.00000000e+00]\n",
      "The position of this body is [ 1.00005470e+00 -6.30019076e-04  0.00000000e+00]\n",
      "The position of this body is [ 0.99810544 -0.00218689  0.        ]\n"
     ]
    }
   ],
   "source": [
    "# Initial positions and velocities \n",
    "sun = Body(M_sun, [0, 0, 0], [0, 0, 0]) \n",
    "earth = Body(M_earth, [AU, 0, 0], [0, 29780, 0]) # 29.78 km/s \n",
    "moon = Body(M_moon, [AU + moon_dist, 0, 0], [0, 29780 + 1022, 0]) # Moon velocity \n",
    "\n",
    "u1 = Universe() \n",
    "u1.add_body(sun) \n",
    "u1.add_body(earth) \n",
    "u1.add_body(moon) \n",
    "\n",
    "u1.compute_forces() \n",
    "\n",
    "n_steps = 8768\n",
    "earth_pos = []\n",
    "for step_num in range(n_steps): \n",
    "    u1.leapfrog_step(3600) # 1 hour timestep\n",
    "\n",
    "\n",
    "print(f'After {n_steps} hours, the bodies have now moved to:')\n",
    "for b in u1.bodies:\n",
    "    print(f'The position of this body is {b.r/AU}')"
   ]
  },
  {
   "cell_type": "markdown",
   "metadata": {},
   "source": [
    "## Challenge Problem\n",
    "\n",
    "* Construct a visualization method for the `Universe` class\n",
    "* Read about the Fast Multipole Method (FMM) [here](https://math.nyu.edu/faculty/greengar/shortcourse_fmm.pdf) and implement one for the force calculation"
   ]
  },
  {
   "cell_type": "code",
   "execution_count": null,
   "metadata": {},
   "outputs": [],
   "source": [
    "# good luck!"
   ]
  }
 ],
 "metadata": {
  "kernelspec": {
   "display_name": "Python 3 (ipykernel)",
   "language": "python",
   "name": "python3"
  },
  "language_info": {
   "codemirror_mode": {
    "name": "ipython",
    "version": 3
   },
   "file_extension": ".py",
   "mimetype": "text/x-python",
   "name": "python",
   "nbconvert_exporter": "python",
   "pygments_lexer": "ipython3",
   "version": "3.11.4"
  }
 },
 "nbformat": 4,
 "nbformat_minor": 4
}
