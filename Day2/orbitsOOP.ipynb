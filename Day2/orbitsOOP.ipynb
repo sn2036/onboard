{
 "cells": [
  {
   "cell_type": "markdown",
   "metadata": {},
   "source": [
    "# Building a Digital Orrery\n",
    "\n",
    "----\n",
    "\n",
    "By Adam A Miller (Northwestern/CIERA/SkAI)  \n",
    "09 Sept 2025\n",
    "\n",
    "**Version 0.1**\n",
    "\n",
    "(based on a problem originally written by Jeff Oishi [for the DSFP](https://github.com/LSSTC-DSFP/LSSTC-DSFP-Sessions/blob/main/Sessions/Session08/Day1/OOP_problem.ipynb))"
   ]
  },
  {
   "cell_type": "markdown",
   "metadata": {},
   "source": [
    "In this problem you will construct a Digital Orrery. An [orrery](https://en.wikipedia.org/wiki/Orrery) is a mechanical model of the Solar System. Here, we will generalize this to anything that is mechanically similar to *the* solar system: a collection of things bound gravitationally. \n",
    "\n",
    "<img src=\"https://upload.wikimedia.org/wikipedia/commons/4/48/Grand_orrery_in_Putnam_Gallery%2C_2009-11-24.jpg\" alt=\"Orrery\" width=\"600\"/>\n",
    "(image: wikimedia)\n"
   ]
  },
  {
   "cell_type": "code",
   "execution_count": 54,
   "metadata": {},
   "outputs": [],
   "source": [
    "import numpy as np\n",
    "# import matplotlib.pyplot as plt"
   ]
  },
  {
   "cell_type": "markdown",
   "metadata": {},
   "source": [
    "## Problem 1) Building a basic set of objects\n",
    "\n",
    "Our first task is to map our problem onto a set of **objects** that we **instantiate** (that is, make **instances** of) in order to solve our problem.\n",
    "\n",
    "Let's outline the scope of our problem.\n",
    "\n",
    "A solar system exists in a Universe; here we can ignore the gravitational perturbation on the Solar System from the rest of the Universe (i.e., the Orrery can be treated as the only thing in the Universe). Our model will consist of a small number of bodies containing mass. It might also contain bodies without mass, so called \"test particles.\"\n",
    "\n",
    "The problem to be solved numerically is the gravitational N-body problem,\n",
    "\n",
    "$$\\ddot{\\mathbf{r}}_i = -G\\sum_{i \\ne j} \\frac{m_j \\mathbf{r}_{ij}}{r_{ij}^3},$$\n",
    "\n",
    "where $\\mathbf{r}_{ij} \\equiv \\mathbf{r_i} - \\mathbf{r_j}$. This task itself can be broken into two components: \n",
    "\n",
    "* the force calculation\n",
    "* the ODE integrator to advance $\\mathbf{r}_i$ and $\\dot{\\mathbf{r}}_i$ forward in time"
   ]
  },
  {
   "cell_type": "markdown",
   "metadata": {},
   "source": [
    "**Problem 1a**\n",
    "\n",
    "In disucssion with a classmate, sketch out a set of classes that you will need to complete this project. Don't worry about things like numerical integrators yet. \n",
    "\n",
    "Also, sketch out interfaces (start with the class constructor), but don't worry about writing code right now.\n",
    "\n",
    "*Hint* – what is the minimal number of classes you will need to perform the calculation?"
   ]
  },
  {
   "cell_type": "markdown",
   "metadata": {},
   "source": [
    "*write your response here*\n",
    "\n",
    "To build the Orrery we will need two classes. One called `Body`, which can be used to hold instances of the different objects that are gravitationally interacting. The important properties for a body are its mass, position, velocity, and acceleration. \n",
    "\n",
    "We also need a `Universe` class, which will include all the bodies that are present within the Universe. "
   ]
  },
  {
   "cell_type": "code",
   "execution_count": null,
   "metadata": {},
   "outputs": [],
   "source": []
  },
  {
   "cell_type": "markdown",
   "metadata": {},
   "source": [
    "**Problem 1b**\n",
    "\n",
    "Using `r0` and `rdot0` below create an instance of the `Body` class. \n",
    "\n",
    "*Hint* – if you did not fully create the `Body` class in the previous problem do that here."
   ]
  },
  {
   "cell_type": "code",
   "execution_count": 55,
   "metadata": {},
   "outputs": [],
   "source": [
    "# complete\n",
    "class Body(): \n",
    "    def __init__(self, mass, position, velocity):\n",
    "        self.mass = mass\n",
    "        self.position = position\n",
    "        self.velocity = velocity\n"
   ]
  },
  {
   "cell_type": "code",
   "execution_count": 56,
   "metadata": {},
   "outputs": [],
   "source": [
    "r0 = np.array([0.0,0.0,0.0])\n",
    "rdot0 = np.array([0.0,0.0,0.0])"
   ]
  },
  {
   "cell_type": "code",
   "execution_count": 57,
   "metadata": {},
   "outputs": [],
   "source": [
    "b = Body(1,r0, rdot0)"
   ]
  },
  {
   "cell_type": "markdown",
   "metadata": {},
   "source": [
    "## Problem 2\n",
    "\n",
    "Now, we code the numerical algorithms. We're going to do the most simple things possible: a *brute force* (\"direct N-Body\" if you're feeling fancy) force calculation, and a leapfrog time integrator.\n",
    "\n",
    "The leapfrog scheme is an explicit, second order scheme given by\n",
    "\n",
    "$$r_{i+1} = r_{i} + v_{i} \\Delta t + \\frac{\\Delta t^2}{2} a_{i}$$\n",
    "\n",
    "$$v_{i+1} = v_{i} + \\frac{\\Delta t}{2} (a_{i} + a_{i+1}),$$\n",
    "\n",
    "where $\\Delta t$ is the time step (which we'll just keep constant), and the subscript refers to the *iteration* number $i$. \n",
    "\n",
    "Note that this scheme requires a force update *in between* calculating $r_{i+1}$ and $v_{i+1}$. (In other words, the code should proceed a half time step to update the velocity of the bodies, then calculate the new position of the bodies using a full time step, compute the forces, and then proceed with an additional half time step to get the updated velocity.)"
   ]
  },
  {
   "cell_type": "markdown",
   "metadata": {},
   "source": [
    "**Problem 2a** \n",
    "\n",
    "Write a method that implements the force integrator. Test it on simple cases:\n",
    " * two equal 1 $M_\\odot$ objects in your universe, 1 AU apart\n",
    " * a $1\\ M_\\odot$ object and a $1\\ M_{\\oplus}$ object, 1 AU apart"
   ]
  },
  {
   "cell_type": "code",
   "execution_count": 58,
   "metadata": {},
   "outputs": [],
   "source": [
    "class Universe(): \n",
    "    def __init__(self, body_list): \n",
    "        self.body_list = body_list\n",
    "        self.size = len(self.body_list)\n",
    "    \n",
    "    def compute_forces(self): \n",
    "        G = 39.478 # in unit au^3 yr^-2 M_sun^-1\n",
    "        n = self.size\n",
    "        accel_list = np.zeros((n,3))\n",
    "        for i in range(n):\n",
    "            accel = 0\n",
    "            body1 = self.body_list[i]\n",
    "            for j in range(n):\n",
    "                if not i == j:\n",
    "                    body2 = self.body_list[j]\n",
    "                    distance_vector = body1.position - body2.position\n",
    "                    distance = np.linalg.norm(distance_vector)\n",
    "                    accel += -G*body2.mass/distance**3 * distance_vector\n",
    "            accel_list[i] = accel\n",
    "        return accel_list\n"
   ]
  },
  {
   "cell_type": "code",
   "execution_count": 59,
   "metadata": {},
   "outputs": [
    {
     "name": "stdout",
     "output_type": "stream",
     "text": [
      "[[ 39.478   0.      0.   ]\n",
      " [-39.478   0.      0.   ]]\n"
     ]
    }
   ],
   "source": [
    "# test case 1 two equal mass bodies separated by 1 AU\n",
    "\n",
    "# complete\n",
    "# complete\n",
    "sun1_r0 = np.array([0, 0, 0])\n",
    "sun1_v0 = np.array([0, 0, 0])\n",
    "sun1 = Body(1, sun1_r0, sun1_v0)\n",
    "sun2_r0 = np.array([1, 0, 0])\n",
    "sun2_v0 = np.array([0, 0, 0])\n",
    "sun2 = Body(1, sun2_r0, sun2_v0)\n",
    "\n",
    "universe_sun_sun = Universe([sun1, sun2])\n",
    "force = universe_sun_sun.compute_forces()\n",
    "print(force)\n",
    "# complete"
   ]
  },
  {
   "cell_type": "code",
   "execution_count": 60,
   "metadata": {},
   "outputs": [
    {
     "name": "stdout",
     "output_type": "stream",
     "text": [
      "[[ 1.18552553e-04  0.00000000e+00  0.00000000e+00]\n",
      " [-3.94780000e+01  0.00000000e+00  0.00000000e+00]]\n"
     ]
    }
   ],
   "source": [
    "# test case 2 - sun + earth system separated by 1 AU\n",
    "\n",
    "# complete\n",
    "# complete\n",
    "sun_r0 = np.array([0, 0, 0])\n",
    "sun_v0 = np.array([0, 0, 0])\n",
    "sun = Body(1, sun1_r0, sun1_v0)\n",
    "earth_r0 = np.array([1, 0, 0])\n",
    "earth_v0 = np.array([0, 0, 0])\n",
    "earth = Body(1/333000, earth_r0, earth_v0)\n",
    "\n",
    "universe_sun_earth = Universe([sun, earth])\n",
    "force = universe_sun_earth.compute_forces()\n",
    "print(force)\n",
    "\n",
    "# complete"
   ]
  },
  {
   "cell_type": "markdown",
   "metadata": {
    "collapsed": true,
    "jupyter": {
     "outputs_hidden": true
    }
   },
   "source": [
    "**Problem 2b**\n",
    "Write the leapfrog integration as a method in the `Universe` class. Test it on one particle with no force (what should it do?)"
   ]
  },
  {
   "cell_type": "code",
   "execution_count": null,
   "metadata": {},
   "outputs": [],
   "source": [
    "class Universe(): \n",
    "    # complete\n",
    "    def __init__(self, body_list): \n",
    "        self.body_list = body_list\n",
    "        self.size = len(self.body_list)\n",
    "    \n",
    "    def compute_forces(self): \n",
    "        G = 39.478 # in unit au^3 yr^-2 M_sun^-1\n",
    "        n = self.size\n",
    "        accel_list = np.zeros((n,3))\n",
    "        for i in range(n):\n",
    "            accel = 0\n",
    "            body1 = self.body_list[i]\n",
    "            for j in range(n):\n",
    "                if not i == j:\n",
    "                    body2 = self.body_list[j]\n",
    "                    distance_vector = body1.position - body2.position\n",
    "                    distance = np.linalg.norm(distance_vector)\n",
    "                    accel += -G*body2.mass/distance**3 * distance_vector\n",
    "            accel_list[i] = accel\n",
    "        return accel_list\n",
    "    \n",
    "    def leapfrog_step(self, dt):\n",
    "        n = self.size\n",
    "        accel_list = self.compute_forces()\n",
    "        for i in range(n): # Position Update\n",
    "            body = self.body_list[i]\n",
    "            accel = accel_list[i]\n",
    "            body.position += body.velocity*dt + dt**2/2*accel\n",
    "        accel_list = self.compute_forces() # Re-calculate the force for velocity update\n",
    "        for i in range(n): # Velocity Update\n",
    "            body = self.body_list[i]\n",
    "            accel_new = accel_list[i]\n",
    "            body.velocity += dt/2*(accel+accel_new)\n",
    "\n",
    "    def move(self, time, steps):\n",
    "        dt = time/steps\n",
    "        for i in range(steps):\n",
    "            self.leapfrog_step(dt)\n",
    " \n",
    "        # complete\n",
    "        # complete\n",
    "        \n",
    "        # complete"
   ]
  },
  {
   "cell_type": "code",
   "execution_count": 68,
   "metadata": {},
   "outputs": [
    {
     "name": "stdout",
     "output_type": "stream",
     "text": [
      "[0.3 0.5 0. ]\n",
      "[0.1 0.  0. ]\n"
     ]
    }
   ],
   "source": [
    "# Test case: One particle with no force\n",
    "\n",
    "# complete\n",
    "# complete\n",
    "particle = Body(1, np.array([0.0, 0.5, 0.0]), np.array([0.1, 0.0, 0.0]))\n",
    "\n",
    "universe_one_body = Universe([particle])\n",
    "universe_one_body.move(3, 20)\n",
    "print(particle.position)\n",
    "print(particle.velocity)\n",
    "\n",
    "# complete\n"
   ]
  },
  {
   "cell_type": "markdown",
   "metadata": {},
   "source": [
    "**Problem 2c** \n",
    " \n",
    "Wire it all up! Try a 3-body calculation of the Earth-Sun-Moon system. Try the Earth-Jupiter-Sun system! "
   ]
  },
  {
   "cell_type": "code",
   "execution_count": null,
   "metadata": {},
   "outputs": [],
   "source": [
    "# complete\n",
    "# complete\n",
    "\n",
    "# complete\n",
    "\n",
    "n_steps = 1000\n",
    "for step_num in range(n_steps): \n",
    "    u.leapfrog_step(3600) # 1 hour timestep\n",
    "\n",
    "print(f'After {n_steps} hours, the bodies have now moved to:')\n",
    "for b in u.bodies:\n",
    "    print(f'The position of this body is {b.r}')"
   ]
  },
  {
   "cell_type": "markdown",
   "metadata": {},
   "source": [
    "## Challenge Problem\n",
    "\n",
    "* Construct a visualization method for the `Universe` class\n",
    "* Read about the Fast Multipole Method (FMM) [here](https://math.nyu.edu/faculty/greengar/shortcourse_fmm.pdf) and implement one for the force calculation"
   ]
  },
  {
   "cell_type": "code",
   "execution_count": null,
   "metadata": {},
   "outputs": [],
   "source": [
    "# good luck!"
   ]
  }
 ],
 "metadata": {
  "kernelspec": {
   "display_name": "Python 3",
   "language": "python",
   "name": "python3"
  },
  "language_info": {
   "codemirror_mode": {
    "name": "ipython",
    "version": 3
   },
   "file_extension": ".py",
   "mimetype": "text/x-python",
   "name": "python",
   "nbconvert_exporter": "python",
   "pygments_lexer": "ipython3",
   "version": "3.12.3"
  }
 },
 "nbformat": 4,
 "nbformat_minor": 4
}
