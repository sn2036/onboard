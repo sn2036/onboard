{
 "cells": [
  {
   "cell_type": "markdown",
   "id": "adb1780a-8cd2-4d7f-92b6-b144a7393c67",
   "metadata": {
    "editable": true,
    "slideshow": {
     "slide_type": "slide"
    },
    "tags": []
   },
   "source": [
    "# An Introduction to Python for Scientific Computing  \n",
    "\n",
    "----\n",
    "\n",
    "By Adam A Miller (Northwestern/CIERA/SkAI)  \n",
    "09 Sept 2025"
   ]
  },
  {
   "cell_type": "markdown",
   "id": "51998bfe-523c-4516-8258-2ea5a413fd80",
   "metadata": {
    "editable": true,
    "slideshow": {
     "slide_type": "slide"
    },
    "tags": []
   },
   "source": [
    "### Why Python? "
   ]
  },
  {
   "cell_type": "markdown",
   "id": "9dbe821f-cd58-4000-bab3-cdb7ce24dc72",
   "metadata": {
    "editable": true,
    "slideshow": {
     "slide_type": "subslide"
    },
    "tags": []
   },
   "source": [
    "(because if this was anything else I wouldn't be able to teach it...)"
   ]
  },
  {
   "cell_type": "markdown",
   "id": "acc95b39-ddd2-4b3b-87f5-166163fc580c",
   "metadata": {
    "editable": true,
    "slideshow": {
     "slide_type": "fragment"
    },
    "tags": []
   },
   "source": [
    "  *  It is free (+history of being free)"
   ]
  },
  {
   "cell_type": "markdown",
   "id": "df8f6d7f-47eb-4c2a-b4c0-6c6d95d2d4a1",
   "metadata": {
    "editable": true,
    "slideshow": {
     "slide_type": "fragment"
    },
    "tags": []
   },
   "source": [
    "  *  Flexible with a large number of (scientifically relevant) packages"
   ]
  },
  {
   "cell_type": "markdown",
   "id": "9d541a1b-6a2b-421a-b6dd-cd38807d061e",
   "metadata": {
    "editable": true,
    "slideshow": {
     "slide_type": "fragment"
    },
    "tags": []
   },
   "source": [
    "  *  The world has decided that everything will be python\n",
    "\n",
    "<div style=\"text-align: center;\">\n",
    "<img src='./images/github-octoverse-2024-top-languages.webp' width='300' />"
   ]
  },
  {
   "cell_type": "markdown",
   "id": "8b5bbd85-544b-409a-a088-ac6ba054e14e",
   "metadata": {
    "editable": true,
    "slideshow": {
     "slide_type": "slide"
    },
    "tags": []
   },
   "source": [
    "The flexibility and breath of python provide a lot of strengths (and sometimes the expectation that everyone just \"knows\" python).\n",
    "\n",
    "Since we are not software engineers (and most of us are likely self-taught for programming) it is often the case that scientists are not aware of all the building blocks for python. "
   ]
  },
  {
   "cell_type": "markdown",
   "id": "cdec326a-87e3-4029-85cf-2cb9a91b5fc1",
   "metadata": {
    "editable": true,
    "slideshow": {
     "slide_type": "fragment"
    },
    "tags": []
   },
   "source": [
    "$~~~~~~~~\\longrightarrow$ Today we will attempt to fill in the basics"
   ]
  },
  {
   "cell_type": "markdown",
   "id": "cb5a6053-d31c-4806-b3a4-461ad082f7bc",
   "metadata": {
    "editable": true,
    "slideshow": {
     "slide_type": "slide"
    },
    "tags": []
   },
   "source": [
    "### 1) Logic and booleans"
   ]
  },
  {
   "cell_type": "markdown",
   "id": "44861671-1b72-461b-99b6-95bcec0dd283",
   "metadata": {
    "editable": true,
    "slideshow": {
     "slide_type": "slide"
    },
    "tags": []
   },
   "source": [
    "An old trope is that computers are just a bunch of ones and zeros. \n",
    "\n",
    "(forgiving the fact that I am not a computer scientist) Computers are nothing more than logic machines. "
   ]
  },
  {
   "cell_type": "markdown",
   "id": "8cbe3dc1-8d62-47e1-bec2-8dba300d43ae",
   "metadata": {
    "editable": true,
    "slideshow": {
     "slide_type": "subslide"
    },
    "tags": []
   },
   "source": [
    "(I will do my best to avoid tropes, but, as you will quickly learn, I'm a real sucker for bad jokes)"
   ]
  },
  {
   "cell_type": "markdown",
   "id": "6b2d8dda-86f3-4ece-bf3e-20f2a018aa08",
   "metadata": {
    "editable": true,
    "slideshow": {
     "slide_type": "fragment"
    },
    "tags": []
   },
   "source": [
    "$~~~~~~~~$ Software is a series of commands designed by the programmer to deliver a prescriptive response. "
   ]
  },
  {
   "cell_type": "markdown",
   "id": "9dbc2551-1b88-4acd-b000-998bc414254d",
   "metadata": {
    "editable": true,
    "slideshow": {
     "slide_type": "slide"
    },
    "tags": []
   },
   "source": [
    "Within python booleans (i.e., `True` or `False`) are central for assessing logic and determining how computational commands should proceed. \n",
    "\n",
    "Normally a boolean will be coupled with conditional statements (e.g., `if`) to control what the program does based on certain conditions."
   ]
  },
  {
   "cell_type": "markdown",
   "id": "f0ead637-ba38-4ddd-a277-58b95498b73e",
   "metadata": {
    "editable": true,
    "slideshow": {
     "slide_type": "slide"
    },
    "tags": []
   },
   "source": [
    "Boolean logic uses logical operators to combine or modify Boolean values:\n",
    "\n",
    "`and`: True if both conditions are `True`  \n",
    "`or`: True if at least one condition is `True`  \n",
    "`not`: Inverts the Boolean value\n"
   ]
  },
  {
   "cell_type": "markdown",
   "id": "6facd98a-1953-4841-9d6f-f003a6969f43",
   "metadata": {
    "editable": true,
    "slideshow": {
     "slide_type": "slide"
    },
    "tags": []
   },
   "source": [
    "Everyday you use similar logic regarding the weather and the clothing that you wear: \n",
    "\n",
    "```\n",
    "is_snowing = True\n",
    "is_summer = False\n",
    "\n",
    "if is_snowing:\n",
    "    put_on_parka = True\n",
    "elif not is_summer:\n",
    "    put_on_windbreaker = True\n",
    "```"
   ]
  },
  {
   "cell_type": "markdown",
   "id": "704257bd-c064-4901-b5ca-1d2b6c1b88ed",
   "metadata": {
    "editable": true,
    "slideshow": {
     "slide_type": "slide"
    },
    "tags": []
   },
   "source": [
    "### 2) Control flow"
   ]
  },
  {
   "cell_type": "markdown",
   "id": "289ef2f2-8281-4c25-9798-df9383d2eeb3",
   "metadata": {
    "editable": true,
    "slideshow": {
     "slide_type": "slide"
    },
    "tags": []
   },
   "source": [
    "In practice, logic is rarely limited to a single `if` statement. Control flow provides a pathway for the software to execute the logic chain that delivers the desired results.  "
   ]
  },
  {
   "cell_type": "markdown",
   "id": "dc04fbab-6639-4bf0-82ff-141a8cc96d5b",
   "metadata": {
    "editable": true,
    "slideshow": {
     "slide_type": "slide"
    },
    "tags": []
   },
   "source": [
    "The building blocks for control flow are: \n",
    "\n",
    "$~~~~~~~~$ `if`, `elif`, and `else` statements (basic logic)  \n",
    "$~~~~~~~~$ `for` loops (allow iterative operations)  \n",
    "$~~~~~~~~$ `while` loops (continuously run an operation until some condition is met)  "
   ]
  },
  {
   "cell_type": "markdown",
   "id": "cec26837-57a9-4d1c-9d6e-d9ffeb5aae22",
   "metadata": {
    "editable": true,
    "slideshow": {
     "slide_type": "slide"
    },
    "tags": []
   },
   "source": [
    "Here is a (boring!) example as related to the weather: "
   ]
  },
  {
   "cell_type": "markdown",
   "id": "2c11b37f-24e7-4002-a183-c3a54c524577",
   "metadata": {
    "editable": true,
    "slideshow": {
     "slide_type": "slide"
    },
    "tags": []
   },
   "source": [
    "```\n",
    "temperature = 10  # degrees Celsius\n",
    "is_raining = True\n",
    "\n",
    "# Obvious instructions for a human based on the weather\n",
    "if temperature < 0:\n",
    "    print(\"It's freezing! Watch out for ice.\")\n",
    "elif temperature < 15:\n",
    "    if is_raining:\n",
    "        print(\"It's cold and rainy. Wear a waterproof jacket.\")\n",
    "    else:\n",
    "        print(\"It's chilly but dry. A sweater should be enough.\")\n",
    "elif temperature < 25:\n",
    "    if is_raining:\n",
    "        print(\"Warm but wet. Maybe carry an umbrella.\")\n",
    "    else:\n",
    "        print(\"Nice weather! Perfect for outdoor experiments.\")\n",
    "elif not is_raining:\n",
    "    print(\"It's hot! Stay hydrated and avoid direct sunlight.\")\n",
    "```"
   ]
  },
  {
   "cell_type": "markdown",
   "id": "bbfcc48a-c3f7-4d1e-b0b0-cd33f51f499f",
   "metadata": {
    "editable": true,
    "slideshow": {
     "slide_type": "subslide"
    },
    "tags": []
   },
   "source": [
    "(For a less boring example imagine instrument control. You do not want to turn on your laser or open you telescope dome unless the conditions are absolutely correct, the results otherwise could be quite catastrophic! ... ask me later why one of the CCDs on the Dark Energy Camera does not work)"
   ]
  },
  {
   "cell_type": "markdown",
   "id": "31cc8975-6434-4ec4-bf79-185e9758c55a",
   "metadata": {
    "editable": true,
    "slideshow": {
     "slide_type": "slide"
    },
    "tags": []
   },
   "source": [
    "### 3) What's your type?"
   ]
  },
  {
   "cell_type": "markdown",
   "id": "ae86c2bc-92f1-4cf7-b088-b412d7489744",
   "metadata": {
    "editable": true,
    "slideshow": {
     "slide_type": "slide"
    },
    "tags": []
   },
   "source": [
    "Everything in Python is an object, and objects have types."
   ]
  },
  {
   "cell_type": "markdown",
   "id": "4ea175d2-3080-45f9-98b7-76b6f1485e1c",
   "metadata": {
    "editable": true,
    "slideshow": {
     "slide_type": "subslide"
    },
    "tags": []
   },
   "source": [
    "(we will come back to what it means to be an object, and object oriented programming, later this week)"
   ]
  },
  {
   "cell_type": "markdown",
   "id": "3bb0bce0-ce98-4785-840f-e2eb3392a15b",
   "metadata": {
    "editable": true,
    "slideshow": {
     "slide_type": "fragment"
    },
    "tags": []
   },
   "source": [
    "  *  The data type determines what operations you can perform.\n",
    "  *  The type affects performance and memory usage.\n",
    "  *  The type helps organize data logically for scientific problems."
   ]
  },
  {
   "cell_type": "markdown",
   "id": "426fb241-b1ac-495f-8871-7ac9366940d5",
   "metadata": {
    "editable": true,
    "slideshow": {
     "slide_type": "slide"
    },
    "tags": []
   },
   "source": [
    "The data types in python are familiar"
   ]
  },
  {
   "cell_type": "markdown",
   "id": "47e54e52-0501-4778-ac57-0e801a327564",
   "metadata": {
    "editable": true,
    "slideshow": {
     "slide_type": "subslide"
    },
    "tags": []
   },
   "source": [
    "(even if you have never thought about any of them in this way!)"
   ]
  },
  {
   "cell_type": "markdown",
   "id": "0786429b-5a91-44f0-9feb-d10595a27b6f",
   "metadata": {
    "editable": true,
    "slideshow": {
     "slide_type": "slide"
    },
    "tags": []
   },
   "source": [
    "There are **numbers**, which can be  \n",
    "\n",
    "$~~~~~~~~$ `int`   \n",
    "$~~~~~~~~$ `float`    \n",
    "$~~~~~~~~$ `complex`  \n",
    "\n",
    "If you are storing data or making calculations you'll want numbers."
   ]
  },
  {
   "cell_type": "markdown",
   "id": "525c4192-e685-438a-a27e-bf00cc354d84",
   "metadata": {
    "editable": true,
    "slideshow": {
     "slide_type": "slide"
    },
    "tags": []
   },
   "source": [
    "There are also **strings** (`str`), which are typically used to label data or files, and which are also used to store metadata. "
   ]
  },
  {
   "cell_type": "markdown",
   "id": "85fb0063-fb55-40ce-9728-072d2dcade9d",
   "metadata": {
    "editable": true,
    "slideshow": {
     "slide_type": "slide"
    },
    "tags": []
   },
   "source": [
    "**Lists** are flexible ordered collections typically used for small amounts of data or *mixed* data types. \n",
    "\n",
    "*Example*: `['today', 'I', 'ate', 11, 'bananas']`"
   ]
  },
  {
   "cell_type": "markdown",
   "id": "75935301-2f0f-4e7c-b1f1-41e4a649cb76",
   "metadata": {
    "editable": true,
    "slideshow": {
     "slide_type": "subslide"
    },
    "tags": []
   },
   "source": [
    "(as your data sets become large lists become less effective and powerful)"
   ]
  },
  {
   "cell_type": "markdown",
   "id": "06a750d5-05a2-4d39-ad35-2ba239d852a3",
   "metadata": {
    "editable": true,
    "slideshow": {
     "slide_type": "slide"
    },
    "tags": []
   },
   "source": [
    "**Tuples** are immutable sequences. They are particularly good for fixed data. \n",
    "\n",
    "For example, the coordinates of a star is represented by its right ascention and declination, which can be stored in a tuple: `coords = (175.2543, 23.6193)`."
   ]
  },
  {
   "cell_type": "markdown",
   "id": "fea7e330-5dbc-47b1-94a5-fcf76d20b864",
   "metadata": {
    "editable": true,
    "slideshow": {
     "slide_type": "slide"
    },
    "tags": []
   },
   "source": [
    "**Dictionaries** are key-value pairs. They are not ordered. They are especially useful for mixed data types and effectively map values to their associated name. \n",
    "\n",
    "*Example* –  \n",
    "`chicago_diet = {\"favorite food\": \"pizza\", \"favorite vegetable\": float('nan')}`"
   ]
  },
  {
   "cell_type": "code",
   "execution_count": 3,
   "id": "518dd570-0415-40c1-97d6-494fb5ad70aa",
   "metadata": {
    "editable": true,
    "slideshow": {
     "slide_type": "fragment"
    },
    "tags": []
   },
   "outputs": [
    {
     "name": "stdout",
     "output_type": "stream",
     "text": [
      "pizza\n"
     ]
    }
   ],
   "source": [
    "chicago_diet = {\"favorite food\": \"pizza\", \"favorite vegetable\": float('nan')}\n",
    "\n",
    "print(chicago_diet['favorite food'])"
   ]
  },
  {
   "cell_type": "markdown",
   "id": "47e8208a-1c44-4d5d-9fc5-e6578f5af3ad",
   "metadata": {
    "editable": true,
    "slideshow": {
     "slide_type": "slide"
    },
    "tags": []
   },
   "source": [
    "**Sets** contain unique elements which can be useful for identifying/removing duplicates within a data set. \n",
    "\n",
    "*Example* – {1, 2, 3}"
   ]
  },
  {
   "cell_type": "markdown",
   "id": "e70418a8-ae1b-447f-810b-f66bc07eb514",
   "metadata": {
    "editable": true,
    "slideshow": {
     "slide_type": "subslide"
    },
    "tags": []
   },
   "source": [
    "(now, let us never speak of `python` sets again $\\longrightarrow$ there are tools in numpy that can handle this a lot more efficiently)"
   ]
  },
  {
   "cell_type": "markdown",
   "id": "5fe25a9e-e98c-448b-a9d3-9f8411d75c65",
   "metadata": {
    "editable": true,
    "slideshow": {
     "slide_type": "slide"
    },
    "tags": []
   },
   "source": [
    "I think it is straightforward to imagine how you will use numbers and strings within python. We will now work through a couple examples to better understand lists, tuples, and dictionaries. "
   ]
  },
  {
   "cell_type": "markdown",
   "id": "537ae2b8-1fb3-48f2-8087-4fa339c2a729",
   "metadata": {
    "editable": true,
    "slideshow": {
     "slide_type": "slide"
    },
    "tags": []
   },
   "source": [
    "### 4) String formatting"
   ]
  },
  {
   "cell_type": "markdown",
   "id": "1cfb65a5-22c2-4164-8b33-c1b69ffa3196",
   "metadata": {
    "editable": true,
    "slideshow": {
     "slide_type": "slide"
    },
    "tags": []
   },
   "source": [
    "Manipulating strings is extremely important when analyzing text data, and also when producing output meant to be processed by humans. \n",
    "\n",
    "Consider the following (fake) observing log and the following operations that are useful for extracting information from it. \n",
    "\n",
    "*Note* – the triple quote `\"\"\"` allows one to create a multiline string in python"
   ]
  },
  {
   "cell_type": "code",
   "execution_count": 23,
   "id": "0bf4a2c5-7c5c-4fc5-aba7-dd04b4fd39c1",
   "metadata": {
    "editable": true,
    "slideshow": {
     "slide_type": "slide"
    },
    "tags": []
   },
   "outputs": [
    {
     "name": "stdout",
     "output_type": "stream",
     "text": [
      "\n",
      "# Instrument log — Night 2025-08-14\n",
      "OBJECT = 'M31'           / Andromeda Galaxy\n",
      "RA     = '00:42:44.3'    / hours:minutes:seconds\n",
      "DEC    = '+41:16:09'     / degrees:arcminutes:arcseconds\n",
      "EXPTIME= 1200            / seconds\n",
      "OBSERVER= 'A. Miller'\n",
      "NOTES  = 'Thin cirrus; seeing ~1.2\"'\n",
      "REDSHIFT  =  −0.001004\n",
      "LINES  =\n",
      "    Halpha 6562.80 Å  Int=120  SNR=58\n",
      "    [OIII] 5006.84 Å  Int=89   SNR=42\n",
      "    Na D   5891.58 Å  Int=34   SNR=12\n",
      "\n"
     ]
    }
   ],
   "source": [
    "\n",
    "obs_log = \"\"\"\n",
    "# Instrument log — Night 2025-08-14\n",
    "OBJECT = 'M31'           / Andromeda Galaxy\n",
    "RA     = '00:42:44.3'    / hours:minutes:seconds\n",
    "DEC    = '+41:16:09'     / degrees:arcminutes:arcseconds\n",
    "EXPTIME= 1200            / seconds\n",
    "OBSERVER= 'A. Miller'\n",
    "NOTES  = 'Thin cirrus; seeing ~1.2\"'\n",
    "REDSHIFT  =  −0.001004\n",
    "LINES  =\n",
    "    Halpha 6562.80 Å  Int=120  SNR=58\n",
    "    [OIII] 5006.84 Å  Int=89   SNR=42\n",
    "    Na D   5891.58 Å  Int=34   SNR=12\n",
    "\"\"\"\n",
    "print(obs_log)\n"
   ]
  },
  {
   "cell_type": "markdown",
   "id": "2768ae3f-b4fc-4f1c-928a-63b29283ffc6",
   "metadata": {
    "editable": true,
    "slideshow": {
     "slide_type": "slide"
    },
    "tags": []
   },
   "source": [
    "strings are indexed, and as a result they can be sliced:"
   ]
  },
  {
   "cell_type": "code",
   "execution_count": 24,
   "id": "c8b5902b-31fe-45d1-8eea-464de4adc943",
   "metadata": {
    "editable": true,
    "slideshow": {
     "slide_type": "fragment"
    },
    "tags": []
   },
   "outputs": [
    {
     "name": "stdout",
     "output_type": "stream",
     "text": [
      "H\n",
      "8\n",
      "Halpha \n",
      "562.80 Å\n",
      "85=RNS  021=tnI  Å 08.2656 ahplaH\n"
     ]
    }
   ],
   "source": [
    "s = \"Halpha 6562.80 Å  Int=120  SNR=58\"\n",
    "print(s[0])        # first character\n",
    "print(s[-1])       # last character\n",
    "print(s[:7])       # up to (not including) index 7\n",
    "print(s[8:16])     # a middle slice\n",
    "print(s[::-1])     # reversed\n"
   ]
  },
  {
   "cell_type": "markdown",
   "id": "70e4c2d6-18a9-4e77-ab10-a93350d261ee",
   "metadata": {
    "editable": true,
    "slideshow": {
     "slide_type": "slide"
    },
    "tags": []
   },
   "source": [
    "whitespace can easily be removed from strings:"
   ]
  },
  {
   "cell_type": "code",
   "execution_count": 25,
   "id": "403774b7-14eb-44e8-87c2-6ed3b76f2da6",
   "metadata": {
    "editable": true,
    "slideshow": {
     "slide_type": "fragment"
    },
    "tags": []
   },
   "outputs": [
    {
     "name": "stdout",
     "output_type": "stream",
     "text": [
      "'M31, Andromeda Galaxy'\n",
      "'M31, Andromeda Galaxy   \\n'\n",
      "'   \\tM31, Andromeda Galaxy'\n",
      "Halpha 6562.80 Å\n"
     ]
    }
   ],
   "source": [
    "\n",
    "line = \"   \\tM31, Andromeda Galaxy   \\n\"\n",
    "print(repr(line.strip()))       # remove leading & trailing whitespace\n",
    "print(repr(line.lstrip()))      # remove only leading whitespace\n",
    "print(repr(line.rstrip()))      # remove only trailing whitespace\n",
    "\n",
    "# Normalize multiple internal spaces to a single space:\n",
    "messy = \"Halpha    6562.80      Å\"\n",
    "clean = \" \".join(messy.split())\n",
    "print(clean)\n"
   ]
  },
  {
   "cell_type": "markdown",
   "id": "cda9d0e0-e779-46d7-8c28-0baeb28bfcea",
   "metadata": {
    "editable": true,
    "slideshow": {
     "slide_type": "slide"
    },
    "tags": []
   },
   "source": [
    "strings can be split and also joined: (e.g., searching for a specific keyword and the entry that always comes after it)"
   ]
  },
  {
   "cell_type": "code",
   "execution_count": 26,
   "id": "412b0964-09f0-46d6-9fbe-c4f865a6823d",
   "metadata": {
    "editable": true,
    "slideshow": {
     "slide_type": "fragment"
    },
    "tags": []
   },
   "outputs": [
    {
     "name": "stdout",
     "output_type": "stream",
     "text": [
      "['Na D', '5891.58', 'Int=34', 'SNR=12']\n",
      "Na D | 5891.58 | Int=34 | SNR=12\n"
     ]
    }
   ],
   "source": [
    "sodium = \"Na D,5891.58,Int=34,SNR=12\"\n",
    "parts = sodium.split(\",\")\n",
    "print(parts)\n",
    "\n",
    "# Join tokens back:\n",
    "rejoined = \" | \".join(parts)\n",
    "print(rejoined)\n"
   ]
  },
  {
   "cell_type": "markdown",
   "id": "9c869910-434c-49da-8a23-503082c047f7",
   "metadata": {
    "editable": true,
    "slideshow": {
     "slide_type": "slide"
    },
    "tags": []
   },
   "source": [
    "if no arguments are given to split, then the string is split on whitespace (which is super useful for \"real\" input text): "
   ]
  },
  {
   "cell_type": "code",
   "execution_count": 27,
   "id": "1c0e0ecd-f0d4-4fc3-b2d1-8a203ba89f9a",
   "metadata": {
    "editable": true,
    "slideshow": {
     "slide_type": "fragment"
    },
    "tags": []
   },
   "outputs": [
    {
     "name": "stdout",
     "output_type": "stream",
     "text": [
      "['Halpha', '6562.80', 'Å']\n"
     ]
    }
   ],
   "source": [
    "print(\"Halpha    6562.80    Å\".split()) "
   ]
  },
  {
   "cell_type": "markdown",
   "id": "032cd78c-7237-4dbb-b31b-7d936e805647",
   "metadata": {
    "editable": true,
    "slideshow": {
     "slide_type": "slide"
    },
    "tags": []
   },
   "source": [
    "membership within a string can be tested, with find/replace and counting also possible"
   ]
  },
  {
   "cell_type": "code",
   "execution_count": 28,
   "id": "2b35450c-2244-40be-a9b0-1e6b32511d50",
   "metadata": {
    "editable": true,
    "slideshow": {
     "slide_type": "fragment"
    },
    "tags": []
   },
   "outputs": [
    {
     "name": "stdout",
     "output_type": "stream",
     "text": [
      "True\n",
      "9\n",
      "Intensity=120  SNR=58\n",
      "1\n",
      "True\n",
      "True\n"
     ]
    }
   ],
   "source": [
    "s = \"Int=120  SNR=58\"\n",
    "print(\"SNR\" in s)           # membership\n",
    "print(s.find(\"SNR\"))        # index (or -1 if not found)\n",
    "print(s.replace(\"Int\", \"Intensity\"))\n",
    "print(s.count(\"0\"))         # count occurrences\n",
    "print(s.startswith(\"Int\"))\n",
    "print(s.endswith(\"58\"))\n"
   ]
  },
  {
   "cell_type": "markdown",
   "id": "bfbd1d5a-9b2f-465d-b79d-22aae385d888",
   "metadata": {
    "editable": true,
    "slideshow": {
     "slide_type": "slide"
    },
    "tags": []
   },
   "source": [
    "case handling allows input/outputs to be normalized: (e.g., logging is not done consistently)"
   ]
  },
  {
   "cell_type": "code",
   "execution_count": 29,
   "id": "d027ed22-08ae-46d8-b7a5-20df14a02bce",
   "metadata": {
    "editable": true,
    "slideshow": {
     "slide_type": "fragment"
    },
    "tags": []
   },
   "outputs": [
    {
     "name": "stdout",
     "output_type": "stream",
     "text": [
      "halpha\n",
      "HALPHA\n",
      "halpha\n",
      "True\n"
     ]
    }
   ],
   "source": [
    "label = \"hALpHa\"\n",
    "print(label.lower())\n",
    "print(label.upper())\n",
    "print(label.casefold())  # best for case-insensitive comparisons\n",
    "print(label.lower() == \"halpha\")\n"
   ]
  },
  {
   "cell_type": "markdown",
   "id": "f639f1b0-a022-407c-8f1d-25a245660075",
   "metadata": {
    "editable": true,
    "slideshow": {
     "slide_type": "slide"
    },
    "tags": []
   },
   "source": [
    "by default computers do not format numbers cleanly $\\longrightarrow$ string formatting provides far more readable text:"
   ]
  },
  {
   "cell_type": "code",
   "execution_count": 32,
   "id": "c72c3fdf-1bd6-438c-9444-dde0dd0aaf91",
   "metadata": {
    "editable": true,
    "slideshow": {
     "slide_type": "fragment"
    },
    "tags": []
   },
   "outputs": [
    {
     "name": "stdout",
     "output_type": "stream",
     "text": [
      "37.66129032258064\n"
     ]
    }
   ],
   "source": [
    "signal = 467\n",
    "noise = 12.4\n",
    "print(signal/noise)"
   ]
  },
  {
   "cell_type": "markdown",
   "id": "db92b0b7-1e69-4c2d-b0a0-379653263974",
   "metadata": {
    "editable": true,
    "slideshow": {
     "slide_type": "fragment"
    },
    "tags": []
   },
   "source": [
    "(that's a lot of decimals) format specs improve this"
   ]
  },
  {
   "cell_type": "code",
   "execution_count": 37,
   "id": "b1fbd1ce-3613-4c40-8dfd-a983e383bc18",
   "metadata": {
    "editable": true,
    "slideshow": {
     "slide_type": "fragment"
    },
    "tags": []
   },
   "outputs": [
    {
     "name": "stdout",
     "output_type": "stream",
     "text": [
      "37.661\n"
     ]
    }
   ],
   "source": [
    "print(f\"{signal/noise:.3f}\")"
   ]
  },
  {
   "cell_type": "markdown",
   "id": "ee10ec6e-6132-4f38-9ddd-2280fbfa20db",
   "metadata": {
    "editable": true,
    "slideshow": {
     "slide_type": "slide"
    },
    "tags": []
   },
   "source": [
    "The previous example also uses an `f` string, which allows the placement of python variables directly within a string block. (This dramatically improves readability over older versions of string formatting)"
   ]
  },
  {
   "cell_type": "code",
   "execution_count": 40,
   "id": "a89efac6-72a2-49e2-b0f5-554958cdb73a",
   "metadata": {
    "editable": true,
    "slideshow": {
     "slide_type": "fragment"
    },
    "tags": []
   },
   "outputs": [
    {
     "name": "stdout",
     "output_type": "stream",
     "text": [
      "Hα at λ = 6562.80 Å (SNR=37)\n",
      "Scientific notation: 6.563e+03\n",
      "Right-aligned width 12: |     6562.80|\n",
      "Centered label: |  Halpha  |\n"
     ]
    }
   ],
   "source": [
    "wavelength = 6562.8\n",
    "print(f\"Hα at λ = {wavelength:.2f} Å (SNR={int(signal/noise):d})\") # SNR as an integer\n",
    "print(f\"Scientific notation: {wavelength:.3e}\")\n",
    "print(f\"Right-aligned width 12: |{wavelength:12.2f}|\") # useful for fixed-width tables\n",
    "print(f\"Centered label: |{'Halpha':^10}|\") # useful for tables\n"
   ]
  },
  {
   "cell_type": "markdown",
   "id": "09260928-8b43-42d6-a465-84f343bc5f0f",
   "metadata": {
    "editable": true,
    "slideshow": {
     "slide_type": "slide"
    },
    "tags": []
   },
   "source": [
    "### 5) The utility of dictionaries"
   ]
  },
  {
   "cell_type": "markdown",
   "id": "14c9acca-51e3-4c1b-af32-b75dc66e3b65",
   "metadata": {
    "editable": true,
    "slideshow": {
     "slide_type": "slide"
    },
    "tags": []
   },
   "source": [
    "Each key-value pair within a dictionary is called an item. Every dictionary has methods to access the `.keys()`, `.values()`, and `.items()`."
   ]
  },
  {
   "cell_type": "code",
   "execution_count": 17,
   "id": "0fd8ef8c-5958-469c-b1bb-9931ed66a37d",
   "metadata": {
    "editable": true,
    "slideshow": {
     "slide_type": "fragment"
    },
    "tags": []
   },
   "outputs": [
    {
     "name": "stdout",
     "output_type": "stream",
     "text": [
      "c has a value of 29979000000.0\n",
      "h has a value of 6.626e-27\n",
      "G has a value of 6.673e-08\n"
     ]
    }
   ],
   "source": [
    "constants = {'c':2.9979e10, 'h':6.626e-27, 'G':6.673e-8}\n",
    "for key, value in constants.items(): \n",
    "    print(f'{key} has a value of {value}')"
   ]
  },
  {
   "cell_type": "markdown",
   "id": "90802410-0c3d-420c-8160-543b98d9f40c",
   "metadata": {
    "editable": true,
    "slideshow": {
     "slide_type": "slide"
    },
    "tags": []
   },
   "source": [
    "The `.get()` method can be used to retrieve values from a dictionary, similar to `dictionary[key]`, but `.get()` will return a default if the key is not present. "
   ]
  },
  {
   "cell_type": "code",
   "execution_count": 20,
   "id": "e4700061-fb92-4eab-9ff5-2ad9f1b5cf47",
   "metadata": {
    "editable": true,
    "slideshow": {
     "slide_type": "fragment"
    },
    "tags": []
   },
   "outputs": [
    {
     "name": "stdout",
     "output_type": "stream",
     "text": [
      "nan\n"
     ]
    },
    {
     "ename": "KeyError",
     "evalue": "'me'",
     "output_type": "error",
     "traceback": [
      "\u001b[0;31m---------------------------------------------------------------------------\u001b[0m",
      "\u001b[0;31mKeyError\u001b[0m                                  Traceback (most recent call last)",
      "Cell \u001b[0;32mIn[20], line 2\u001b[0m\n\u001b[1;32m      1\u001b[0m \u001b[38;5;28mprint\u001b[39m(constants\u001b[38;5;241m.\u001b[39mget(\u001b[38;5;124m'\u001b[39m\u001b[38;5;124mme\u001b[39m\u001b[38;5;124m'\u001b[39m, \u001b[38;5;28mfloat\u001b[39m(\u001b[38;5;124m'\u001b[39m\u001b[38;5;124mnan\u001b[39m\u001b[38;5;124m'\u001b[39m)))\n\u001b[0;32m----> 2\u001b[0m \u001b[38;5;28mprint\u001b[39m(\u001b[43mconstants\u001b[49m\u001b[43m[\u001b[49m\u001b[38;5;124;43m'\u001b[39;49m\u001b[38;5;124;43mme\u001b[39;49m\u001b[38;5;124;43m'\u001b[39;49m\u001b[43m]\u001b[49m)\n",
      "\u001b[0;31mKeyError\u001b[0m: 'me'"
     ]
    }
   ],
   "source": [
    "print(constants.get('me', float('nan')))\n",
    "print(constants['me'])"
   ]
  },
  {
   "cell_type": "markdown",
   "id": "90811795-e8b0-46b6-85c4-1d7998df52e1",
   "metadata": {
    "editable": true,
    "slideshow": {
     "slide_type": "slide"
    },
    "tags": []
   },
   "source": [
    "Dictionaries can be particularly useful for storing metadata, especially if it is not structured and may be different for every entry. Dictionaries can also be nested. "
   ]
  },
  {
   "cell_type": "code",
   "execution_count": 22,
   "id": "758eec96-8ce8-484b-82b0-ad482e9f7a01",
   "metadata": {
    "editable": true,
    "slideshow": {
     "slide_type": "slide"
    },
    "tags": []
   },
   "outputs": [
    {
     "name": "stdout",
     "output_type": "stream",
     "text": [
      "Adam's favorite animal is red panda\n"
     ]
    }
   ],
   "source": [
    "faculty = { 'andre':{'level': 'full', 'office': 'tech'}, \n",
    "            'adam':{'level': 'assistant', 'office': '1800 sherman', \n",
    "                    'favorite_animal': 'red panda'}\n",
    "          }\n",
    "\n",
    "print(f\"Adam's favorite animal is {faculty['adam']['favorite_animal']}\")"
   ]
  },
  {
   "cell_type": "markdown",
   "id": "dfa9436d-7857-4de6-b504-c08552c5f820",
   "metadata": {
    "editable": true,
    "slideshow": {
     "slide_type": "slide"
    },
    "tags": []
   },
   "source": [
    "As a highly practical example, dictionaries are extremely useful in plotting, especially when dealing with comparisons of categorical data.\n",
    "\n",
    "```\n",
    "plot_params = {'positive': {'color': 'red', 'linestyle': '-', 'markersize': 12},\n",
    "               'negative': {'color': 'green', 'linestyle': '-.', 'markersize': 7}\n",
    "                }\n",
    "```"
   ]
  },
  {
   "cell_type": "markdown",
   "id": "17a1b4d0-c80a-4f0e-a7ca-3b5660bbd256",
   "metadata": {
    "editable": true,
    "slideshow": {
     "slide_type": "slide"
    },
    "tags": []
   },
   "source": [
    "### 6) List comprehension"
   ]
  },
  {
   "cell_type": "markdown",
   "id": "4053b9b4-2bf0-431b-9de6-64ea9d3ab885",
   "metadata": {
    "editable": true,
    "slideshow": {
     "slide_type": "slide"
    },
    "tags": []
   },
   "source": [
    "List comprehension allows lists to be quickly created or maniupated within python. \n",
    "\n",
    "It is useful because for loops are typically slow in python. List comprehension can fast track this, typically with a single line of code. "
   ]
  },
  {
   "cell_type": "markdown",
   "id": "17b21523-083d-4702-8f63-664ee4f8e0ac",
   "metadata": {
    "editable": true,
    "slideshow": {
     "slide_type": "slide"
    },
    "tags": []
   },
   "source": [
    "\n",
    "As an overly simple example, suppose you wanted to cube every value within a list, list comprehension can do this quickly:  \n",
    "\n",
    "`nums = [2, 3, 5, 7, 11]`  \n",
    "`cube = [i**3 for i in nums]`"
   ]
  },
  {
   "cell_type": "markdown",
   "id": "0f08c386-d0c5-403b-bf6a-880213ff17e2",
   "metadata": {
    "editable": true,
    "slideshow": {
     "slide_type": "subslide"
    },
    "tags": []
   },
   "source": [
    "(if you ever really needed to do this, please just use `numpy`...)"
   ]
  },
  {
   "cell_type": "code",
   "execution_count": 8,
   "id": "2760168b-1408-4e8c-a895-ea586b915a3a",
   "metadata": {
    "editable": true,
    "slideshow": {
     "slide_type": "slide"
    },
    "tags": []
   },
   "outputs": [
    {
     "name": "stdout",
     "output_type": "stream",
     "text": [
      "[8, 27, 125, 343, 1331]\n"
     ]
    }
   ],
   "source": [
    "nums = [2, 3, 5, 7, 11]  \n",
    "cube = [i**3 for i in nums]\n",
    "print(cube)"
   ]
  },
  {
   "cell_type": "markdown",
   "id": "1d6992ec-aac7-4f02-939a-2e05aafdded2",
   "metadata": {
    "editable": true,
    "slideshow": {
     "slide_type": "slide"
    },
    "tags": []
   },
   "source": [
    "List comprehension can handle more complex logic.  \n",
    "\n",
    "Suppose you wanted to store the square of a bunch of numbers but only if they have a value greater than 1. \n",
    "\n",
    "`nums = [0.5, 1.2, 0.998, 0.12, 6.4, 8]`  \n",
    "`min_square = [i**2 if i > 1 else 1 for i in nums]`"
   ]
  },
  {
   "cell_type": "markdown",
   "id": "d3fa7615-4728-4c8b-8074-f028917d90ad",
   "metadata": {
    "editable": true,
    "slideshow": {
     "slide_type": "subslide"
    },
    "tags": []
   },
   "source": [
    "(yes this is an arbitrary example that is not immediately connected to reality)"
   ]
  },
  {
   "cell_type": "code",
   "execution_count": 9,
   "id": "00dd4b28-a6b4-4883-9ee1-ae1b7eddc4ee",
   "metadata": {
    "editable": true,
    "slideshow": {
     "slide_type": "slide"
    },
    "tags": []
   },
   "outputs": [
    {
     "name": "stdout",
     "output_type": "stream",
     "text": [
      "[1, 1.44, 1, 1, 40.96000000000001, 64]\n"
     ]
    }
   ],
   "source": [
    "nums = [0.5, 1.2, 0.998, 0.12, 6.4, 8]\n",
    "min_square = [i**2 if i > 1 else 1 for i in nums]\n",
    "print(min_square)"
   ]
  },
  {
   "cell_type": "markdown",
   "id": "42b00837-d05e-4baf-b2db-bf8e5f072c81",
   "metadata": {
    "editable": true,
    "slideshow": {
     "slide_type": "slide"
    },
    "tags": []
   },
   "source": [
    "As a more practical/useful example, list comprehension can be used to quickly calculate Taylor expansions with help from the built-in [`range()`](https://docs.python.org/3/library/functions.html#func-range) function.\n",
    "\n",
    "**Challenge problem** Estimate the value of 1/0.627 using a taylor expansion with 5 terms. How does this compare to 11 terms, and 101 terms? \n",
    "\n",
    "*Hint* – the taylor expansion for $\\frac{1}{1-x}$ is $\\sum_{n=0}^n x^n$."
   ]
  },
  {
   "cell_type": "code",
   "execution_count": 10,
   "id": "39bc2e0c-871d-4652-8ee9-fd6e4601ef6a",
   "metadata": {
    "editable": true,
    "slideshow": {
     "slide_type": ""
    },
    "tags": []
   },
   "outputs": [],
   "source": [
    "# complete"
   ]
  },
  {
   "cell_type": "markdown",
   "id": "eb7ed7f4-a195-43c6-af76-4ebdbe5e6385",
   "metadata": {
    "editable": true,
    "slideshow": {
     "slide_type": "slide"
    },
    "tags": []
   },
   "source": [
    "### 7) Indexing, slicing, and iterating over lists"
   ]
  },
  {
   "cell_type": "markdown",
   "id": "1c7bb046-1726-45f6-85ea-d2c85d5b48a9",
   "metadata": {
    "editable": true,
    "slideshow": {
     "slide_type": "slide"
    },
    "tags": []
   },
   "source": [
    "Data are often organized in regular structures (e.g., lists; later we will also discuss arrays and tables) and indexing, slicing, and iterating over these structures provide fast and efficient methods for data handling."
   ]
  },
  {
   "cell_type": "markdown",
   "id": "f1b8bbad-8a48-41d6-a034-a6aaec0a82fd",
   "metadata": {
    "editable": true,
    "slideshow": {
     "slide_type": "slide"
    },
    "tags": []
   },
   "source": [
    "It is possible to access specific elements:"
   ]
  },
  {
   "cell_type": "code",
   "execution_count": 41,
   "id": "353fb2b1-1474-4300-bc71-f860fd6c4fbe",
   "metadata": {
    "editable": true,
    "slideshow": {
     "slide_type": "fragment"
    },
    "tags": []
   },
   "outputs": [
    {
     "name": "stdout",
     "output_type": "stream",
     "text": [
      "Start time: 0.0\n",
      "End time: 4.8\n"
     ]
    }
   ],
   "source": [
    "times = [0.0, 1.2, 2.4, 3.6, 4.8]  # times in seconds\n",
    "print(\"Start time:\", times[0])\n",
    "print(\"End time:\", times[-1])\n"
   ]
  },
  {
   "cell_type": "markdown",
   "id": "aed7f218-9e36-4194-a545-2f9daa39d3c8",
   "metadata": {
    "editable": true,
    "slideshow": {
     "slide_type": "slide"
    },
    "tags": []
   },
   "source": [
    "Slicing allows multiple elements to be selected at once (this need not be limited to consecutive entries):"
   ]
  },
  {
   "cell_type": "code",
   "execution_count": 43,
   "id": "6d514e84-39dd-4997-8033-91ec2837e8a1",
   "metadata": {
    "editable": true,
    "slideshow": {
     "slide_type": "fragment"
    },
    "tags": []
   },
   "outputs": [
    {
     "name": "stdout",
     "output_type": "stream",
     "text": [
      "Selected velocities: [4, 6, 8]\n",
      "Selected velocities: [4, 8]\n"
     ]
    }
   ],
   "source": [
    "time = [0, 1, 2, 3, 4, 5]  # seconds\n",
    "velocity = [0, 2, 4, 6, 8, 10]  # m/s\n",
    "\n",
    "# Get velocities from t=2 to t=4\n",
    "print(\"Selected velocities:\", velocity[2:5])\n",
    "print(\"Selected velocities:\", velocity[2:5:2])"
   ]
  },
  {
   "cell_type": "markdown",
   "id": "8fdf50b0-d45f-47c8-9b2d-1ba705cbf4b7",
   "metadata": {
    "editable": true,
    "slideshow": {
     "slide_type": "slide"
    },
    "tags": []
   },
   "source": [
    "Data structures can also be reversed: "
   ]
  },
  {
   "cell_type": "code",
   "execution_count": 44,
   "id": "75450508-6cab-4ff6-9f11-175f3732f5d6",
   "metadata": {
    "editable": true,
    "slideshow": {
     "slide_type": "fragment"
    },
    "tags": []
   },
   "outputs": [
    {
     "name": "stdout",
     "output_type": "stream",
     "text": [
      "Reversed: [4.8, 3.6, 2.4, 1.2, 0.0]\n"
     ]
    }
   ],
   "source": [
    "print(\"Reversed:\", times[::-1])"
   ]
  },
  {
   "cell_type": "markdown",
   "id": "7c5831f7-07e3-412f-af0c-61be635e139b",
   "metadata": {
    "editable": true,
    "slideshow": {
     "slide_type": "slide"
    },
    "tags": []
   },
   "source": [
    "Iteration (typically done with a `for` loop) is an especially powerful tool that allows manipulation of every element within the data structure: "
   ]
  },
  {
   "cell_type": "code",
   "execution_count": 45,
   "id": "f424dd31-d573-44e7-9268-c850b49202b7",
   "metadata": {
    "editable": true,
    "slideshow": {
     "slide_type": "fragment"
    },
    "tags": []
   },
   "outputs": [
    {
     "name": "stdout",
     "output_type": "stream",
     "text": [
      "Energy: 5.0 MeV\n",
      "Energy: 10.0 MeV\n",
      "Energy: 15.0 MeV\n",
      "Energy: 20.0 MeV\n"
     ]
    }
   ],
   "source": [
    "energies = [5.0, 10.0, 15.0, 20.0]  # in MeV\n",
    "for energy in energies:\n",
    "    print(f\"Energy: {energy} MeV\")"
   ]
  },
  {
   "cell_type": "markdown",
   "id": "c9cd8680-fef4-4fdc-b12c-75becebb0705",
   "metadata": {
    "editable": true,
    "slideshow": {
     "slide_type": "slide"
    },
    "tags": []
   },
   "source": [
    "Python has built-ins that allow enumeration (useful for indexing) and zipping (useful for combining) for loops: "
   ]
  },
  {
   "cell_type": "code",
   "execution_count": 46,
   "id": "966d3c66-3707-40d1-a398-7833f1bd9f06",
   "metadata": {
    "editable": true,
    "slideshow": {
     "slide_type": "fragment"
    },
    "tags": []
   },
   "outputs": [
    {
     "name": "stdout",
     "output_type": "stream",
     "text": [
      "Time 0s: Energy = 5.0 MeV\n",
      "Time 1s: Energy = 10.0 MeV\n",
      "Time 2s: Energy = 15.0 MeV\n",
      "Time 3s: Energy = 20.0 MeV\n"
     ]
    }
   ],
   "source": [
    "for i, en in enumerate(energies):\n",
    "    print(f\"Time {i}s: Energy = {en} MeV\")\n"
   ]
  },
  {
   "cell_type": "code",
   "execution_count": 49,
   "id": "2208ec8f-3851-4e49-bd18-534580a67447",
   "metadata": {
    "editable": true,
    "slideshow": {
     "slide_type": "slide"
    },
    "tags": []
   },
   "outputs": [
    {
     "name": "stdout",
     "output_type": "stream",
     "text": [
      "Mass: 1.0 kg, Acceleration: 9.8 m/s², Force: 9.80 N\n",
      "Mass: 2.0 kg, Acceleration: 4.9 m/s², Force: 9.80 N\n",
      "Mass: 3.0 kg, Acceleration: 3.266 m/s², Force: 9.80 N\n"
     ]
    }
   ],
   "source": [
    "mass = [1.0, 2.0, 3.0]  # kg\n",
    "acceleration = [9.8, 4.9, 3.266]  # m/s²\n",
    "\n",
    "for m, a in zip(mass, acceleration):\n",
    "    force = m * a\n",
    "    print(f\"Mass: {m} kg, Acceleration: {a} m/s², Force: {force:.2f} N\")\n"
   ]
  },
  {
   "cell_type": "markdown",
   "id": "f7f4df3a-1a6e-4faa-9fec-b194486602bb",
   "metadata": {
    "editable": true,
    "slideshow": {
     "slide_type": "slide"
    },
    "tags": []
   },
   "source": [
    "### Conclusions\n",
    "\n",
    "This introduction to many of the basic building blocks for python has focused on methods and tricks that are especially important for scientific computing. \n",
    "\n",
    "We have discussed many \"basics\" that are not always explained (especially for those that are self-taught!)\n",
    "\n",
    "Using these basic tools it possible to get incredibly far (though we will demonstrate throughout this week that there are many many tools that provide significant improvements/speed ups relative to the \"basics\")."
   ]
  }
 ],
 "metadata": {
  "kernelspec": {
   "display_name": "Python 3 (ipykernel)",
   "language": "python",
   "name": "python3"
  },
  "language_info": {
   "codemirror_mode": {
    "name": "ipython",
    "version": 3
   },
   "file_extension": ".py",
   "mimetype": "text/x-python",
   "name": "python",
   "nbconvert_exporter": "python",
   "pygments_lexer": "ipython3",
   "version": "3.11.4"
  },
  "toc": {
   "base_numbering": 4
  }
 },
 "nbformat": 4,
 "nbformat_minor": 5
}
