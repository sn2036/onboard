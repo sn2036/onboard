{
 "cells": [
  {
   "cell_type": "markdown",
   "id": "7bee322d-84c0-430a-83f9-d36f91fe3c1b",
   "metadata": {
    "editable": true,
    "slideshow": {
     "slide_type": ""
    },
    "tags": []
   },
   "source": [
    "# Building a Basic Toolkit for Scientific Computing  \n",
    "\n",
    "----\n",
    "\n",
    "By Adam A Miller (Northwestern/CIERA/SkAI)  \n",
    "09 Sept 2025"
   ]
  },
  {
   "cell_type": "markdown",
   "id": "c511156f-3133-4ff3-a5bc-9488b645580a",
   "metadata": {
    "editable": true,
    "slideshow": {
     "slide_type": ""
    },
    "tags": []
   },
   "source": [
    "To build additional intuition and skills using a basic python toolkit, this problem will focus on using real observing logs. \n",
    "\n",
    "By the end of this problem set you will be able to:\n",
    "\n",
    " - Use logic and booleans to encode science-quality cuts.\n",
    " - Apply control flow (if/elif/else, loops) to make decisions.\n",
    " - Work comfortably with Python data types (str, int, float, bool, list, tuple, dict).\n",
    " - Create publication-friendly output using string formatting (f‑strings, format specs).\n",
    " - Build and query dictionaries for structured metadata.\n",
    " - Use list comprehensions to transform and filter collections.\n",
    " - Practice indexing, slicing, and iterating over lists and strings.\n"
   ]
  },
  {
   "cell_type": "markdown",
   "id": "a0bd7a6e-7dc1-41bf-94b2-86660a7108f9",
   "metadata": {
    "editable": true,
    "slideshow": {
     "slide_type": ""
    },
    "tags": []
   },
   "source": [
    "## 1) The Data\n",
    "\n",
    "Execute the cell below to store the telescope image metadata (called a fits header file, but that is not important right now) as a string named `hdr`. "
   ]
  },
  {
   "cell_type": "code",
   "execution_count": 2,
   "id": "f1e0b26d-678e-4253-9f4d-16a387e65ea1",
   "metadata": {
    "editable": true,
    "slideshow": {
     "slide_type": ""
    },
    "tags": []
   },
   "outputs": [],
   "source": [
    "hdr = \"\"\"\n",
    "SIMPLE  =                    T / file does conform to FITS standard             \n",
    "BITPIX  =                   16 / number of bits per data pixel                  \n",
    "NAXIS   =                    0 / number of data axes                            \n",
    "EXTEND  =                    T / FITS dataset may contain extensions            \n",
    "COMMENT   FITS (Flexible Image Transport System) format is defined in 'Astronomy\n",
    "COMMENT   and Astrophysics', volume 376, page 359; bibcode: 2001A&A...376..359H \n",
    "BZERO   =                32768 / offset data range to that of unsigned short    \n",
    "BSCALE  =                    1 / default scaling factor                         \n",
    "DATE    = '2020-10-12T02:12:13' / file creation date (YYYY-MM-DDThh:mm:ss UT)   \n",
    "COMMENT BEGIN observation-specific keywords written by write_image              \n",
    "COMMENT BEGIN keywords that came from KTL via watch_ccd                         \n",
    "TEMPDET =        -109.22288513                                                  \n",
    "TEMPSET =        -109.94863892                                                  \n",
    "UTBTEMP =           5.50000000                                                  \n",
    "UTBP30V =          34.78017426                                                  \n",
    "UTBP15V =          16.37276840                                                  \n",
    "UTBM15V =         -16.22767830                                                  \n",
    "UTBP5V  =           4.92421484                                                  \n",
    "SLITGRAB= 'deployed'                                                            \n",
    "SLITMASK=                    2                                                  \n",
    "SLITNAME= 'long_1.0'                                                            \n",
    "BLUFILT = 'clear   '                                                            \n",
    "BLUFNUM =                    5                                                  \n",
    "BLUFTRAN= 'stowed  '                                                            \n",
    "BTRAN   =                    0                                                  \n",
    "BLUFOCUS=       -3618.42919922                                                  \n",
    "DICHNAME= '560     '                                                            \n",
    "DICHROIC=                    4                                                  \n",
    "DICHTRAN= 'deployed'                                                            \n",
    "DTRAN   =                    1                                                  \n",
    "GRANAME = '400/8500'                                                            \n",
    "GRANGLE =          25.85552979                                                  \n",
    "GRATING =                    2                                                  \n",
    "GRISM   =                    3                                                  \n",
    "GRISNAME= '400/3400'                                                            \n",
    "GRISTRAN= 'deployed'                                                            \n",
    "GTRAN   =                    1                                                  \n",
    "INSTRUME= 'LRIS    '                                                            \n",
    "REDFILT = 'Clear   '                                                            \n",
    "REDFNUM =                    1                                                  \n",
    "REDFOCUS=          -0.63424122                                                  \n",
    "TRAPDOOR= 'closed  '                                                            \n",
    "TV1FILT =           -999999999                                                  \n",
    "TV2FILT =           -999999999                                                  \n",
    "TV1FPOS =         218.70066833                                                  \n",
    "MSWAVE  =        8300.98046875                                                  \n",
    "WAVELEN =        7829.41406250                                                  \n",
    "MERCURY = 'on      '                                                            \n",
    "NEON    = 'on      '                                                            \n",
    "ARGON   = 'on      '                                                            \n",
    "CADMIUM = 'on      '                                                            \n",
    "ZINC    = 'on      '                                                            \n",
    "HALOGEN = 'off     '                                                            \n",
    "KRYPTON = 'off     '                                                            \n",
    "XENON   = 'off     '                                                            \n",
    "FEARGON = 'off     '                                                            \n",
    "DEUTERI = 'off     '                                                            \n",
    "FLAMP1  = 'off     '                                                            \n",
    "FLAMP2  = 'off     '                                                            \n",
    "UTC     = '02:12:10.25'                                                         \n",
    "MJD-OBS = '59134.091785'                                                        \n",
    "ST      = '17:14:44.44'                                                         \n",
    "DATE-OBS= '2020-10-12'                                                          \n",
    "AIRMASS =          13.37481353                                                  \n",
    "AZ      =         230.00041965                                                  \n",
    "DEC     = '+00:02:19.3'                                                         \n",
    "EL      =          45.02325192                                                  \n",
    "EQUINOX =        2000.00000000                                                  \n",
    "HA      = '+00:00:00.00'                                                        \n",
    "PONAME  = 'REF     '                                                            \n",
    "RA      = '15:20:00.00'                                                         \n",
    "ROTMODE = 'stationary'                                                          \n",
    "ROTPOSN =          90.00001869                                                  \n",
    "ROTPPOSN=          89.38001871                                                  \n",
    "SECFOCUS=          -0.00224792                                                  \n",
    "SECTHETX=          -0.00228180                                                  \n",
    "SECTHETY=           0.00090705                                                  \n",
    "SIMULATE=                    F                                                  \n",
    "TARGNAME= 'unknown '                                                            \n",
    "TELESCOP= 'Keck I  '                                                            \n",
    "TELFOCUS=          -0.00061151                                                  \n",
    "TUBETEMP=           5.76858000                                                  \n",
    "DOMEPOSN=         140.37134019                                                  \n",
    "PMFM    =           0.00000000                                                  \n",
    "ADCBYP  =                    F                                                  \n",
    "ADCCAL  =                    T                                                  \n",
    "ADCCMT  = '        '                                                            \n",
    "ADCCON  =                    F                                                  \n",
    "ADCDCC  = 'hand paddle'                                                         \n",
    "ADCENC  =               112179                                                  \n",
    "ADCERR  =                    0                                                  \n",
    "ADCGTE  =                    0                                                  \n",
    "ADCLCK  = 'unlocked'                                                            \n",
    "ADCLIM  =                    0                                                  \n",
    "ADCMOD  =                    3                                                  \n",
    "ADCRAW  =             -2243312                                                  \n",
    "ADCRCD  = '        '                                                            \n",
    "ADCSTA  =                   10                                                  \n",
    "ADCSVA  =          -0.00020326                                                  \n",
    "ADCSVR  =                   -1                                                  \n",
    "ADCSVX  =          -0.00000010                                                  \n",
    "ADCTVA  =         989.89178467                                                  \n",
    "ADCTVX  =           0.78499234                                                  \n",
    "ADCVAL  =         989.89202881                                                  \n",
    "ADCVAX  =           0.78499246                                                  \n",
    "ADCVEL  =           0.00000000                                                  \n",
    "ADCVEX  =           0.00000000                                                  \n",
    "ADCWAVE0=        3400.00000000                                                  \n",
    "ADCWAVE1=        9000.00000000                                                  \n",
    "CTRL0ERR=                -5414                                                  \n",
    "CTRL0MSG= 'Software deadman switch activated (sent ST to axes), and has been cl'\n",
    "DISP0ERR=                    0                                                  \n",
    "DISP0STA=                    0                                                  \n",
    "POW24V  =          25.96766281                                                  \n",
    "TEMP1C  =        -100.00000000                                                  \n",
    "TEMP2C  =        -100.00000000                                                  \n",
    "TEMPELC =          21.10372162                                                  \n",
    "OBJECT  = 'arc     '                                                            \n",
    "OBSERVER= 'Lin Yan '                                                            \n",
    "AMPMODE = 'SINGLE:L'                                                            \n",
    "AMPLIST = '1,4,0,0 '                                                            \n",
    "AUTOERAS=                    T                                                  \n",
    "AUTOSHUT=                    T                                                  \n",
    "CCDGAIN = 'high    '                                                            \n",
    "CCDSPEED= 'normal  '                                                            \n",
    "ERASECNT=                    1                                                  \n",
    "FRAMENO =                   12                                                  \n",
    "MPPMODE =                    F                                                  \n",
    "NSUBINT =                    0                                                  \n",
    "OUTDIR  = '/sdata243/lris7/2020oct12'                                           \n",
    "OUTFILE = 'r201012_'                                                            \n",
    "TODISK  =                    T                                                  \n",
    "ROWSHFT =                    0                                                  \n",
    "TTIME   =                    1                                                  \n",
    "ELAPTIME=                    1                                                  \n",
    "EXPTIME =           1.20640004                                                  \n",
    "SHBLOPTM=           0.04320000                                                  \n",
    "SHBLCLTM=           0.02080000                                                  \n",
    "SHLATOPN=           0.01840000                                                  \n",
    "SHLATCLO=           0.03440000                                                  \n",
    "SHOPNCNT=                    1                                                  \n",
    "SHCLOCNT=                    1                                                  \n",
    "NUMAMPS =                    2                                                  \n",
    "NVIDINP =                    2                                                  \n",
    "VIDOFF1 =                 1611                                                  \n",
    "VIDOFF2 =                 1876                                                  \n",
    "VIDOFF3 =                 1540                                                  \n",
    "VIDOFF4 =                 1822                                                  \n",
    "OBSERVER= 'Lin Yan '                                                            \n",
    "OBJECT  = 'arc     '                                                            \n",
    "OBSTYPE = 'dark    '                                                            \n",
    "ANTIBLM = 'off     '                                                            \n",
    "ABFREQ  =                   20                                                  \n",
    "DETECTOR= 'LRIS-R Science mosaic Mark 2: CCD  #1: 19-3  CCD #2: 19-2'           \n",
    "LSERCLKD=                  160                                                  \n",
    "POSTPIX =                   80                                                  \n",
    "PANEFITS= '1HDU/pane/amp'                                                       \n",
    "PANELIST= 'PANE    '                                                            \n",
    "PANERROR= 'NO_ERROR'                                                            \n",
    "PANE    = '1500,0,1200,4096'                                                    \n",
    "PANE1   = '0,0,0,0 '                                                            \n",
    "PANE2   = '0,0,0,0 '                                                            \n",
    "PANE3   = '0,0,0,0 '                                                            \n",
    "PANE4   = '0,0,0,0 '                                                            \n",
    "PANE5   = '0,0,0,0 '                                                            \n",
    "PANE6   = '0,0,0,0 '                                                            \n",
    "PANE7   = '0,0,0,0 '                                                            \n",
    "PANE8   = '0,0,0,0 '                                                            \n",
    "PANE9   = '0,0,0,0 '                                                            \n",
    "PANE10  = '0,0,0,0 '                                                            \n",
    "PANE11  = '0,0,0,0 '                                                            \n",
    "PANE12  = '0,0,0,0 '                                                            \n",
    "PANE13  = '0,0,0,0 '                                                            \n",
    "PANE14  = '0,0,0,0 '                                                            \n",
    "PANE15  = '0,0,0,0 '                                                            \n",
    "PANE16  = '0,0,0,0 '                                                            \n",
    "DATE_BEG= '2020-10-12T02:12:09'                                                 \n",
    "DATE_END= '2020-10-12T02:12:21'                                                 \n",
    "UTC-END = '02:12:20.96'                                                         \n",
    "DATE-END= '2020-10-12'                                                          \n",
    "COMMENT END   keywords that came from KTL via watch_ccd                         \n",
    "COMMENT BEGIN keywords that came from CCD crate imparm structure                \n",
    "IMTYPE  = 'MOSAIC  '                                                            \n",
    "PRECOL  =                    7                                                  \n",
    "PREROW  =                    0                                                  \n",
    "PRELINE =                    0                                                  \n",
    "POSTLINE=                   20                                                  \n",
    "ERASLINE=                    0                                                  \n",
    "KEEPPREP=                    1                                                  \n",
    "PREFLUSH=                    0                                                  \n",
    "OVRFLUSH=                    0                                                  \n",
    "DETCNFID=                 2010                                                  \n",
    "VIDINACT=                    5                                                  \n",
    "BINNING = '2,1     '                                                            \n",
    "CCDSUM  = '2 1     '                                                            \n",
    "AMPPSIZE= '[1:2048,1:4096]'                                                     \n",
    "DETLSIZE= '[1:4096,1:4096]'                                                     \n",
    "COMMENT END   keywords that came from CCD crate imparm structure                \n",
    "COMMENT ...Generic comments for this instrument follow...                       \n",
    "COMMENT LRIS Red CCD                                                            \n",
    "COMMENT ...Comments specific to this run follow...                              \n",
    "COMMENT this is a run                                                           \n",
    "COMMENT ...Comments specific to this frame follow...                            \n",
    "COMMENT                                                                         \n",
    "COMMENT END   observation-specific keywords written by write_image              \n",
    "CHECKSUM= 'g3Chg19hg1Chg19h'   / HDU checksum updated 2020-10-12T02:14:05       \n",
    "DATASUM = '         0'         / data unit checksum updated 2020-10-12T02:14:05\n",
    "\"\"\""
   ]
  },
  {
   "cell_type": "markdown",
   "id": "20847b65-ce9f-4322-bd5e-7be76c60347d",
   "metadata": {
    "editable": true,
    "slideshow": {
     "slide_type": ""
    },
    "tags": []
   },
   "source": [
    "### 2) No Python\n",
    "\n",
    "Please answer the following questions without using python (i.e., read the text itself in order to answer all these queries). "
   ]
  },
  {
   "cell_type": "markdown",
   "id": "2ebd4337-cdf1-48a8-9ad3-a62d21f87f3a",
   "metadata": {
    "editable": true,
    "slideshow": {
     "slide_type": ""
    },
    "tags": []
   },
   "source": [
    "**Problem 2.1**\n",
    "\n",
    "What is the name of the observer for this data set? "
   ]
  },
  {
   "cell_type": "markdown",
   "id": "8b526be4-0d10-4ed1-9a02-20c593071dd4",
   "metadata": {
    "editable": true,
    "slideshow": {
     "slide_type": ""
    },
    "tags": []
   },
   "source": [
    "*write your answer here*\n",
    "\n",
    "Lin Yan\n",
    "\n"
   ]
  },
  {
   "cell_type": "markdown",
   "id": "15b4f887-a32d-4294-8136-47db6bd1781b",
   "metadata": {
    "editable": true,
    "slideshow": {
     "slide_type": ""
    },
    "tags": []
   },
   "source": [
    "**Problem 2.2**\n",
    "\n",
    "What telescope was used to conduct these observations? "
   ]
  },
  {
   "cell_type": "markdown",
   "id": "7d475128-6321-41e4-a9b2-0888279af888",
   "metadata": {
    "editable": true,
    "slideshow": {
     "slide_type": ""
    },
    "tags": []
   },
   "source": [
    "*write your answer here*\n",
    "\n",
    "Keck I"
   ]
  },
  {
   "cell_type": "markdown",
   "id": "4c5e1fda-495d-48be-9a9b-06e3c5e6604f",
   "metadata": {
    "editable": true,
    "slideshow": {
     "slide_type": ""
    },
    "tags": []
   },
   "source": [
    "**Problem 2.3**\n",
    "\n",
    "Is the wavelength of the observations included in the image metadata?\n",
    "\n",
    "*Hint* – you may assume that if it is present it is stored with a header keyword `WAVELEN`"
   ]
  },
  {
   "cell_type": "markdown",
   "id": "f1ce079a-1ea5-4d2d-bbaa-838c813e2b4e",
   "metadata": {
    "editable": true,
    "slideshow": {
     "slide_type": ""
    },
    "tags": []
   },
   "source": [
    "*write your answer here*\n",
    "\n",
    "7829.41406250"
   ]
  },
  {
   "cell_type": "markdown",
   "id": "7a2a23af-059f-49f0-b765-126f2353aae9",
   "metadata": {
    "editable": true,
    "slideshow": {
     "slide_type": ""
    },
    "tags": []
   },
   "source": [
    "**Problem 2.4**\n",
    "\n",
    "What is the exposure time for this specific image? "
   ]
  },
  {
   "cell_type": "markdown",
   "id": "642f90a2-027e-4699-bcd3-609d1f9d2ad7",
   "metadata": {
    "editable": true,
    "slideshow": {
     "slide_type": ""
    },
    "tags": []
   },
   "source": [
    "*write your answer here*\n",
    "\n",
    "1.20640004"
   ]
  },
  {
   "cell_type": "markdown",
   "id": "c750d35b-7047-42b8-b5fe-4b1bbabd1b36",
   "metadata": {
    "editable": true,
    "slideshow": {
     "slide_type": ""
    },
    "tags": []
   },
   "source": [
    "### Problem 3) Python\n",
    "\n",
    "Repeat the previous problem, but extract all the answers via python. You may use the \"header keywords\" that you learned about in the previous problem. "
   ]
  },
  {
   "cell_type": "markdown",
   "id": "4bdbdbac-ddea-483e-85ad-dca55c56accf",
   "metadata": {
    "editable": true,
    "slideshow": {
     "slide_type": ""
    },
    "tags": []
   },
   "source": [
    "**Problem 3.1**\n",
    "\n",
    "What is the name of the observer for this data set?"
   ]
  },
  {
   "cell_type": "code",
   "execution_count": null,
   "id": "514382b7-0232-4f4a-8ccc-3389d42daa04",
   "metadata": {
    "editable": true,
    "slideshow": {
     "slide_type": ""
    },
    "tags": []
   },
   "outputs": [
    {
     "name": "stdout",
     "output_type": "stream",
     "text": [
      "OBSERVER= 'Lin Yan '                                                            \n",
      "OBSERVER= 'Lin Yan '                                                            \n"
     ]
    }
   ],
   "source": [
    "# complete\n",
    "hdr_lines = hdr.split(\"\\n\")\n",
    "obs_exist = [\"OBSERVER\" in line for line in hdr_lines]\n",
    "for line, exist in zip(hdr_lines, obs_exist):\n",
    "    if exist == True:\n",
    "        print(line)\n",
    "    "
   ]
  },
  {
   "cell_type": "markdown",
   "id": "ce6813cf-f3c0-4d52-90ae-279ece3ee83e",
   "metadata": {
    "editable": true,
    "slideshow": {
     "slide_type": ""
    },
    "tags": []
   },
   "source": [
    "**Problem 3.2**\n",
    "\n",
    "What telescope was used to conduct these observations? "
   ]
  },
  {
   "cell_type": "code",
   "execution_count": 9,
   "id": "b8d5fbdd-8cd2-4bd6-9aa6-91fec417c54b",
   "metadata": {
    "editable": true,
    "slideshow": {
     "slide_type": ""
    },
    "tags": []
   },
   "outputs": [
    {
     "name": "stdout",
     "output_type": "stream",
     "text": [
      "TELESCOP= 'Keck I  '                                                            \n"
     ]
    }
   ],
   "source": [
    "# complete\n",
    "hdr_lines = hdr.split(\"\\n\")\n",
    "tele_exist = [\"TELE\" in line for line in hdr_lines]\n",
    "for line, exist in zip(hdr_lines, tele_exist):\n",
    "    if exist == True:\n",
    "        print(line)"
   ]
  },
  {
   "cell_type": "markdown",
   "id": "d219d2b8-8945-4ab1-a74d-32bb12d15f25",
   "metadata": {
    "editable": true,
    "slideshow": {
     "slide_type": ""
    },
    "tags": []
   },
   "source": [
    "**Problem 3.3**\n",
    "\n",
    "Is the wavelength of the observations included in the image metadata?"
   ]
  },
  {
   "cell_type": "code",
   "execution_count": null,
   "id": "4b931d64-1a0a-4c02-91f7-a085c10cf740",
   "metadata": {
    "editable": true,
    "slideshow": {
     "slide_type": ""
    },
    "tags": []
   },
   "outputs": [
    {
     "name": "stdout",
     "output_type": "stream",
     "text": [
      "True\n",
      "Yes, WAVELEN =        7829.41406250                                                  \n"
     ]
    }
   ],
   "source": [
    "# complete\n",
    "if \"WAVELEN\" in hdr:\n",
    "    hdr_lines = hdr.split(\"\\n\")\n",
    "    wavelen_exist = [\"WAVELEN\" in line for line in hdr_lines]\n",
    "    for line, exist in zip(hdr_lines, wavelen_exist):\n",
    "        if exist == True:\n",
    "            print(f\"Yes, {line}\")\n",
    "else:\n",
    "    print(\"No\")"
   ]
  },
  {
   "cell_type": "markdown",
   "id": "516a3ecc-3b89-4326-9425-f64baf3d29a9",
   "metadata": {
    "editable": true,
    "slideshow": {
     "slide_type": ""
    },
    "tags": []
   },
   "source": [
    "**Problem 3.4**\n",
    "\n",
    "What is the exposure time for this specific image? The clocks are not precise for fractions of a milisecond, so report this answer to the nearest milisecond."
   ]
  },
  {
   "cell_type": "code",
   "execution_count": 26,
   "id": "93a52fcd-c1e7-47d5-bf96-6080b7d8ce62",
   "metadata": {
    "editable": true,
    "slideshow": {
     "slide_type": ""
    },
    "tags": []
   },
   "outputs": [
    {
     "name": "stdout",
     "output_type": "stream",
     "text": [
      "The time is 1.206s\n"
     ]
    }
   ],
   "source": [
    "# complete\n",
    "hdr_lines = hdr.split(\"\\n\")\n",
    "exp_exist = [\"EXP\" in line for line in hdr_lines]\n",
    "for line, exist in zip(hdr_lines, exp_exist):\n",
    "    if exist == True:\n",
    "        entry = line.split(\"=\")[1]\n",
    "        print(f\"The time is {float(entry):.3f}s\")"
   ]
  },
  {
   "cell_type": "markdown",
   "id": "52d98f4c-14b9-4194-af6b-f7caafb794a5",
   "metadata": {
    "editable": true,
    "slideshow": {
     "slide_type": ""
    },
    "tags": []
   },
   "source": [
    "## Problem 4) Dictionaries\n",
    "\n",
    "The metadata in astronomical image headers is made up of several key value pairs. "
   ]
  },
  {
   "cell_type": "markdown",
   "id": "afe3a5c3-0d10-4510-aa6e-81f5b93dd39e",
   "metadata": {
    "editable": true,
    "slideshow": {
     "slide_type": ""
    },
    "tags": []
   },
   "source": [
    "**Problem 4.1**\n",
    "\n",
    "Convert all the pairs present in the image header into a dictionary named `hdr_dict`.\n",
    "\n",
    "*Hint* – there are many COMMENTs present in the header that are not key-value pairs."
   ]
  },
  {
   "cell_type": "code",
   "execution_count": null,
   "id": "5a4fdbfa-f898-47fe-827b-d1b75ab5670f",
   "metadata": {
    "editable": true,
    "slideshow": {
     "slide_type": ""
    },
    "tags": []
   },
   "outputs": [],
   "source": [
    "hdr_dict = {}\n",
    "\n",
    "# complete\n",
    "# complete\n",
    "# complete\n",
    "hdr_lines = hdr.split(\"\\n\")\n",
    "for line in hdr_lines:\n",
    "    if \"=\" in line:\n",
    "        line_split = line.split(\"=\")\n",
    "        key = line_split[0].strip()\n",
    "        value = line_split[1].strip()\n",
    "        hdr_dict[key] = value"
   ]
  },
  {
   "cell_type": "markdown",
   "id": "510e9470-78d8-44ef-bd3a-9f5fc1faa67e",
   "metadata": {
    "editable": true,
    "slideshow": {
     "slide_type": ""
    },
    "tags": []
   },
   "source": [
    "**Problem 4.2**\n",
    "\n",
    "Confirm that the dictionary was created correctly by retrieving the observer name, the exposure time, the telescope, and wavelength from `hdr_dict`."
   ]
  },
  {
   "cell_type": "code",
   "execution_count": 37,
   "id": "55e4d3d2-ed5f-4fa6-aff9-4cd558d3f240",
   "metadata": {
    "editable": true,
    "slideshow": {
     "slide_type": ""
    },
    "tags": []
   },
   "outputs": [
    {
     "name": "stdout",
     "output_type": "stream",
     "text": [
      "OBSERVER: 'Lin Yan '\n",
      "EXPTIME: 1.20640004\n",
      "TELESCOP: 'Keck I  '\n",
      "WAVELEN: 7829.41406250\n"
     ]
    }
   ],
   "source": [
    "# Print selected values\n",
    "for key in ['OBSERVER', 'EXPTIME', 'TELESCOP', 'WAVELEN']:\n",
    "    print(f\"{key}: {hdr_dict.get(key)}\")\n"
   ]
  },
  {
   "cell_type": "markdown",
   "id": "91b35691-297f-497a-94b2-0e06e93d2717",
   "metadata": {
    "editable": true,
    "slideshow": {
     "slide_type": ""
    },
    "tags": []
   },
   "source": [
    "**Problem 4.3**\n",
    "\n",
    "The header corresponds to a calibration observation in which some calibration lamps were `on` and others were `off`. Using `hdr_dict` determine which calibration lamps were used for this observation. "
   ]
  },
  {
   "cell_type": "code",
   "execution_count": 48,
   "id": "daf327f9-264e-46c6-9686-36cfa47949ce",
   "metadata": {
    "editable": true,
    "slideshow": {
     "slide_type": ""
    },
    "tags": []
   },
   "outputs": [
    {
     "name": "stdout",
     "output_type": "stream",
     "text": [
      "For this observation the ['MERCURY', 'NEON', 'ARGON', 'CADMIUM', 'ZINC'] lamps were turned on\n"
     ]
    }
   ],
   "source": [
    "lamps = [] # complete\n",
    "\n",
    "# complete\n",
    "# complete\n",
    "# complete\n",
    "for key, value in hdr_dict.items():\n",
    "    if \"on  \" in value:\n",
    "        lamps.append(key)\n",
    "\n",
    "print(f'For this observation the {lamps} lamps were turned on')\n"
   ]
  },
  {
   "cell_type": "markdown",
   "id": "6e9bb815-73b0-4789-888a-5a5d6241fb55",
   "metadata": {
    "editable": true,
    "slideshow": {
     "slide_type": ""
    },
    "tags": []
   },
   "source": [
    "**Problem 4.4**\n",
    "\n",
    "Check if any keywords are repeated within the header. If any keywords are repeated, print out their different entries. \n",
    "\n",
    "(This can lead to problems, especially if the entries do not agree!)"
   ]
  },
  {
   "cell_type": "code",
   "execution_count": null,
   "id": "482840ae-f20f-400b-9522-fa1c0c958a24",
   "metadata": {
    "editable": true,
    "slideshow": {
     "slide_type": ""
    },
    "tags": []
   },
   "outputs": [
    {
     "name": "stdout",
     "output_type": "stream",
     "text": [
      "There is a conflict with keyword OBSERVER, with values 'Lin Yan ' and 'Lin Yan '\n",
      "There is a conflict with keyword OBJECT, with values 'arc     ' and 'arc     '\n"
     ]
    }
   ],
   "source": [
    "# complete\n",
    "# complete\n",
    "# complete\n",
    "# complete\n",
    "keys = []\n",
    "values = []\n",
    "hdr_lines = hdr.split(\"\\n\")\n",
    "for line in hdr_lines:\n",
    "    if \"=\" in line:\n",
    "        line_split = line.split(\"=\")\n",
    "        key = line_split[0].strip()\n",
    "        value = line_split[1].strip()\n",
    "        if key in keys:\n",
    "            position = keys.index(key)\n",
    "            value_conflict = values[position]\n",
    "            print(f\"There is a conflict with the keyword {key}, with values {value_conflict} and {value}\")\n",
    "        else:\n",
    "            keys.append(key)\n",
    "            values.append(value)"
   ]
  },
  {
   "cell_type": "markdown",
   "id": "e0fbf166-4c5e-498e-82ca-a625ba7b68ab",
   "metadata": {
    "editable": true,
    "slideshow": {
     "slide_type": ""
    },
    "tags": []
   },
   "source": [
    "## Problem 5) Data"
   ]
  },
  {
   "cell_type": "markdown",
   "id": "cf3bc6ee-5bfb-4c9c-a5a8-b556b32d3a15",
   "metadata": {
    "editable": true,
    "slideshow": {
     "slide_type": ""
    },
    "tags": []
   },
   "source": [
    "Consider a system that measures the voltage in an instrument every 90 seconds, and supposed you collect data for half an hour.  "
   ]
  },
  {
   "cell_type": "markdown",
   "id": "086c353d-70dc-4dc2-a78d-19f2c5bd446f",
   "metadata": {
    "editable": true,
    "slideshow": {
     "slide_type": ""
    },
    "tags": []
   },
   "source": [
    "**Problem 5.1**\n",
    "\n",
    "Execute the cell below to create a list with all the voltage measurements."
   ]
  },
  {
   "cell_type": "code",
   "execution_count": 50,
   "id": "dbfd361e-5bae-44a3-bc37-faf183a7c4c7",
   "metadata": {
    "editable": true,
    "slideshow": {
     "slide_type": ""
    },
    "tags": []
   },
   "outputs": [],
   "source": [
    "voltages = [-7.89, 37.57, 10.82, 24.6, -3.34, 25.3, 20.65, -1.13, 26.28, -19.89,\n",
    "            -16.01, 22.5, 13.7, -1.63, 29.51, 39.72, -1.18, 12.15, 19.31, -4.54]"
   ]
  },
  {
   "cell_type": "markdown",
   "id": "f35e50b0-391e-462f-be8e-13da20d8174c",
   "metadata": {
    "editable": true,
    "slideshow": {
     "slide_type": ""
    },
    "tags": []
   },
   "source": [
    "**Problem 5.2**\n",
    "\n",
    "Create a list called `stable_voltages` that only includes measurements between 4 and 30 volts. \n",
    "\n",
    "With what frequency does the apparatus produce a stable voltage?"
   ]
  },
  {
   "cell_type": "code",
   "execution_count": 52,
   "id": "667c23a4-cf27-4ef1-ad7d-6a0672bc1a5b",
   "metadata": {
    "editable": true,
    "slideshow": {
     "slide_type": ""
    },
    "tags": []
   },
   "outputs": [
    {
     "name": "stdout",
     "output_type": "stream",
     "text": [
      "In 10 out of 20 measurements, the voltage is stable (50.00% of the time)\n"
     ]
    }
   ],
   "source": [
    "stable_voltages = [i for i in voltages if i >= 4 and i <= 30] # complete\n",
    "print(f'In {len(stable_voltages)} out of {len(voltages)} measurements, the voltage is stable ({100*len(stable_voltages)/len(voltages):.2f}% of the time)')"
   ]
  },
  {
   "cell_type": "markdown",
   "id": "fc7216df-ffc0-4347-a5c7-38d265c06ec0",
   "metadata": {
    "editable": true,
    "slideshow": {
     "slide_type": ""
    },
    "tags": []
   },
   "source": [
    "**Problem 5.3**\n",
    "\n",
    "An older grad student assures you that every 3rd measurement is stable. Quickly demonstrate whether or not this is true."
   ]
  },
  {
   "cell_type": "code",
   "execution_count": null,
   "id": "0fca18a4-d001-41bc-aa07-db189e480ad1",
   "metadata": {
    "editable": true,
    "slideshow": {
     "slide_type": ""
    },
    "tags": []
   },
   "outputs": [
    {
     "name": "stdout",
     "output_type": "stream",
     "text": [
      "True!\n"
     ]
    }
   ],
   "source": [
    "# complete\n",
    "# complete\n",
    "# complete\n",
    "stable_index = [voltages.index(volt) for volt in stable_voltages]\n",
    "stable_gap = [stable_index[i+1] - stable_index[i] for i in range(len(stable_index)-1)]\n",
    "large_gap = [i > 3 for i in stable_gap]\n",
    "if True in large_gap:\n",
    "    i = large_gap.index(True)\n",
    "    print(f\"False, 3 or more consecutive unstable measurements from trial {stable_index[i]} to {stable_index[i+1]}\")\n",
    "else:\n",
    "    print(\"True!\")"
   ]
  },
  {
   "cell_type": "markdown",
   "id": "622b6841-ce06-43d3-a4cc-45f5ffef46c6",
   "metadata": {
    "editable": true,
    "slideshow": {
     "slide_type": ""
    },
    "tags": []
   },
   "source": [
    "**Problem 5.4**\n",
    "\n",
    "Use list comprehension to calculate the rolling mean, over a 3 measurement window, for the measured voltages. \n",
    "\n",
    "*Hint* – ignore the first and the last entry to avoid edge effects."
   ]
  },
  {
   "cell_type": "code",
   "execution_count": 60,
   "id": "b6c28f96-ddc6-4369-a5da-10c3d5924001",
   "metadata": {
    "editable": true,
    "slideshow": {
     "slide_type": ""
    },
    "tags": []
   },
   "outputs": [],
   "source": [
    "rolling_mean = [ sum(voltages[i-1:i+1])/3 for i in range(1, len(voltages)-1) ] # complete "
   ]
  },
  {
   "cell_type": "markdown",
   "id": "8aa98d9d-6eaa-49c7-ac13-c9329c155301",
   "metadata": {
    "editable": true,
    "slideshow": {
     "slide_type": ""
    },
    "tags": []
   },
   "source": [
    "**Problem 5.5** Is the rolling mean more stable than the individual instrument measurements? "
   ]
  },
  {
   "cell_type": "code",
   "execution_count": 61,
   "id": "4fd106f8-2bdf-48a7-899c-3291b297dee7",
   "metadata": {
    "editable": true,
    "slideshow": {
     "slide_type": ""
    },
    "tags": []
   },
   "outputs": [
    {
     "name": "stdout",
     "output_type": "stream",
     "text": [
      "The SD for rolling mean is 7.134773911304556\n",
      "The SD for original data is 16.941089840975405\n"
     ]
    }
   ],
   "source": [
    "# complete\n",
    "# complete\n",
    "# complete\n",
    "import numpy as np \n",
    "rolling_mean_sd = np.std(rolling_mean)\n",
    "original_sd = np.std(voltages)\n",
    "print(f\"The SD for rolling mean is {rolling_mean_sd}\")\n",
    "print(f\"The SD for original data is {original_sd}\")"
   ]
  },
  {
   "cell_type": "markdown",
   "id": "0a24ed82-ff69-45b4-a202-ecd12804e614",
   "metadata": {
    "editable": true,
    "slideshow": {
     "slide_type": ""
    },
    "tags": []
   },
   "source": [
    "## Challenge Problem\n",
    "\n",
    "Consider the (simulated) observations of a planetary transit stored in three arrays below: `time` = time of the observations in minutes, `flux` = relative flux measurement, and `airmass` = the secant of the zenith angle for where the telescope is pointed at the time of the observations, and `quality` reports the QA for the individual observations. \n",
    "\n",
    " 1. Create a boolean list called `mask` that records observations that should be \"kept\" (i.e., those with `airmass` < 2 and \"good\" quality\n",
    " 2. Create lists called `good_time` and `good_flux` that only retain \"kept\" observations as given in the mask.\n",
    " 3. Estimate a baseline value from the first 70 observations in the good flux series and then normalize all flux measurements by this baseline estimate.\n",
    " 4. Calculate the running mean in a 5 observation window.\n",
    " 5. Use the running mean to determine the time when the transit occurs.\n",
    " 6. Is your result different from the minimum flux measurement?\n"
   ]
  },
  {
   "cell_type": "code",
   "execution_count": 63,
   "id": "618066d1-e525-4683-973f-724702aa78cc",
   "metadata": {
    "editable": true,
    "slideshow": {
     "slide_type": ""
    },
    "tags": []
   },
   "outputs": [],
   "source": [
    "time = [0, 1, 2, 3, 4, 5, 6, 7, 8, 9, 10, 11, 12, 13, 14, 15, 16, 17, 18, 19, 20, 21, 22, 23, 24, 25, 26, 27, 28, 29, 30, 31, 32, 33, 34, 35, 36, 37, 38, 39, 40, 41, 42, 43, 44, 45, 46, 47, 48, 49, 50, 51, 52, 53, 54, 55, 56, 57, 58, 59, 60, 61, 62, 63, 64, 65, 66, 67, 68, 69, 70, 71, 72, 73, 74, 75, 76, 77, 78, 79, 80, 81, 82, 83, 84, 85, 86, 87, 88, 89, 90, 91, 92, 93, 94, 95, 96, 97, 98, 99, 100, 101, 102, 103, 104, 105, 106, 107, 108, 109, 110, 111, 112, 113, 114, 115, 116, 117, 118, 119, 120, 121, 122, 123, 124, 125, 126, 127, 128, 129, 130, 131, 132, 133, 134, 135, 136, 137, 138, 139, 140, 141, 142, 143, 144, 145, 146, 147, 148, 149, 150, 151, 152, 153, 154, 155, 156, 157, 158, 159, 160, 161, 162, 163, 164, 165, 166, 167, 168, 169, 170, 171, 172, 173, 174, 175, 176, 177, 178, 179]\n",
    "\n",
    "flux = [1.0, 1.0005877852522924, 1.0009510565162951, 1.0009510565162951, 1.0005877852522924, 1.0, 0.9994122147477075, 0.9990489434837049, 0.9990489434837049, 0.9994122147477075, 1.0, 1.0005877852522924, 1.0009510565162951, 1.0009510565162951, 1.0005877852522924, 1.0, 0.9994122147477075, 0.9990489434837049, 0.9990489434837049, 0.9994122147477075, 1.0, 1.0005877852522924, 1.0009510565162951, 1.0009510565162951, 1.0005877852522924, 1.0, 0.9994122147477075, 0.9990489434837049, 0.9990489434837049, 0.9994122147477075, 1.0, 1.0005877852522924, 1.0009510565162951, 1.0009510565162951, 1.0005877852522924, 1.0, 0.9994122147477075, 0.9990489434837049, 0.9990489434837049, 0.9994122147477075, 1.0, 1.0005877852522924, 1.0009510565162951, 1.0009510565162951, 1.0005877852522924, 1.0, 0.9994122147477075, 0.9990489434837049, 0.9990489434837049, 0.9994122147477075, 1.0, 1.0005877852522924, 1.0009510565162951, 1.0009510565162951, 1.0005877852522924, 1.0, 0.9994122147477076, 0.9990489434837049, 0.9990489434837049, 0.9994122147477075, 1.0, 1.0005877852522924, 1.0009510565162951, 1.0009510565162951, 1.0005877852522924, 1.0, 0.9994122147477076, 0.9990489434837049, 0.9990489434837049, 0.9994122147477076, 1.0, 0.9986377852522925, 0.9971510565162951, 0.9954010565162951, 0.9933877852522925, 0.99125, 0.9892122147477076, 0.9874989434837049, 0.9862489434837048, 0.9854622147477076, 0.985, 0.9846377852522924, 0.9841510565162951, 0.9834010565162952, 0.9823877852522925, 0.98125, 0.9802122147477076, 0.9794989434837049, 0.9792489434837048, 0.9794622147477074, 0.98, 0.9806377852522924, 0.9811510565162951, 0.9814010565162952, 0.9813877852522924, 0.98125, 0.9812122147477076, 0.9814989434837049, 0.9822489434837048, 0.9834622147477075, 0.985, 0.9866377852522925, 0.9881510565162951, 0.9894010565162952, 0.9903877852522925, 0.99125, 0.9922122147477075, 0.9934989434837048, 0.9952489434837049, 0.9974622147477075, 1.0, 1.0005877852522924, 1.0009510565162951, 1.0009510565162951, 1.0005877852522924, 1.0, 0.9994122147477076, 0.9990489434837049, 0.9990489434837049, 0.9994122147477075, 1.0, 1.0005877852522924, 1.0009510565162951, 1.0009510565162951, 1.0005877852522924, 1.0, 0.9994122147477075, 0.9990489434837049, 0.9990489434837049, 0.9994122147477075, 1.0, 1.0005877852522924, 1.0009510565162951, 1.0009510565162951, 1.0005877852522924, 1.0, 0.9994122147477076, 0.9990489434837049, 0.9990489434837049, 0.9994122147477075, 1.0, 1.0005877852522924, 1.0009510565162951, 1.0009510565162951, 1.0005877852522924, 1.0, 0.9994122147477076, 0.9990489434837049, 0.9990489434837049, 0.9994122147477075, 1.0, 1.0005877852522924, 1.0009510565162951, 1.0009510565162951, 1.0005877852522924, 1.0, 0.9994122147477076, 0.9990489434837049, 0.9990489434837049, 0.9994122147477075, 1.0, 1.0005877852522924, 1.0009510565162951, 1.0009510565162951, 1.0005877852522924, 1.0, 0.9994122147477075, 0.9990489434837049, 0.9990489434837049, 0.9994122147477075, 1.0, 1.0005877852522924, 1.0009510565162951, 1.0009510565162951, 1.0005877852522924, 1.0, 0.9994122147477076, 0.9990489434837049, 0.9990489434837049, 0.9994122147477076]\n",
    "\n",
    "airmass = [1.1, 1.106145251396648, 1.112290502793296, 1.1184357541899441, 1.1245810055865924, 1.1307262569832404, 1.1368715083798884, 1.1430167597765364, 1.1491620111731844, 1.1553072625698324, 1.1614525139664806, 1.1675977653631286, 1.1737430167597767, 1.1798882681564247, 1.1860335195530727, 1.1921787709497207, 1.1983240223463687, 1.204469273743017, 1.210614525139665, 1.216759776536313, 1.222905027932961, 1.229050279329609, 1.235195530726257, 1.2413407821229052, 1.2474860335195532, 1.2536312849162012, 1.2597765363128492, 1.2659217877094973, 1.2720670391061453, 1.2782122905027933, 1.2843575418994415, 1.2905027932960895, 1.2966480446927375, 1.3027932960893855, 1.3089385474860336, 1.3150837988826816, 1.3212290502793298, 1.3273743016759778, 1.3335195530726258, 1.3396648044692738, 1.3458100558659218, 1.3519553072625698, 1.3581005586592179, 1.364245810055866, 1.370391061452514, 1.3765363128491621, 1.3826815642458101, 1.3888268156424581, 1.3949720670391064, 1.4011173184357544, 1.4072625698324024, 1.4134078212290504, 1.4195530726256984, 1.4256983240223464, 1.4318435754189944, 1.4379888268156427, 1.4441340782122907, 1.4502793296089387, 1.4564245810055867, 1.4625698324022347, 1.4687150837988827, 1.474860335195531, 1.481005586592179, 1.487150837988827, 1.493296089385475, 1.499441340782123, 1.505586592178771, 1.511731843575419, 1.517877094972067, 1.5240223463687153, 1.5301675977653633, 1.5363128491620113, 1.5424581005586593, 1.5486033519553075, 1.5547486033519555, 1.5608938547486035, 1.5670391061452515, 1.5731843575418996, 1.5793296089385476, 1.5854748603351956, 1.5916201117318436, 1.5977653631284918, 1.6039106145251398, 1.6100558659217878, 1.6162011173184359, 1.622346368715084, 1.628491620111732, 1.63463687150838, 1.6407821229050281, 1.6469273743016761, 1.6530726256983241, 1.6592178770949721, 1.6653631284916202, 1.6715083798882682, 1.6776536312849162, 1.6837988826815644, 1.6899441340782124, 1.6960893854748607, 1.7022346368715084, 1.7083798882681567, 1.7145251396648047, 1.7206703910614527, 1.7268156424581007, 1.7329608938547487, 1.7391061452513967, 1.7452513966480447, 1.751396648044693, 1.7575418994413408, 1.763687150837989, 1.769832402234637, 1.7759776536312852, 1.782122905027933, 1.7882681564245813, 1.7944134078212293, 1.8005586592178773, 1.8067039106145253, 1.8128491620111733, 1.8189944134078213, 1.8251396648044693, 1.8312849162011173, 1.8374301675977653, 1.8435754189944136, 1.8497206703910616, 1.8558659217877096, 1.8620111731843578, 1.8681564245810058, 1.8743016759776538, 1.8804469273743019, 1.8865921787709499, 1.8927374301675979, 1.8988826815642459, 1.905027932960894, 1.911173184357542, 1.9173184357541901, 1.9234636871508382, 1.9296089385474864, 1.9357541899441342, 1.9418994413407824, 1.9480446927374304, 1.9541899441340784, 1.9603351955307264, 1.9664804469273744, 1.9726256983240225, 1.9787709497206705, 1.9849162011173185, 1.9910614525139665, 1.9972067039106147, 2.003351955307263, 2.0094972067039105, 2.015642458100559, 2.021787709497207, 2.027932960893855, 2.034078212290503, 2.040223463687151, 2.046368715083799, 2.052513966480447, 2.058659217877095, 2.064804469273743, 2.070949720670391, 2.077094972067039, 2.0832402234636875, 2.089385474860335, 2.0955307262569836, 2.101675977653631, 2.1078212290502796, 2.1139664804469276, 2.1201117318435756, 2.1262569832402236, 2.1324022346368716, 2.1385474860335196, 2.1446927374301676, 2.150837988826816, 2.1569832402234637, 2.163128491620112, 2.1692737430167597, 2.175418994413408, 2.1815642458100557, 2.187709497206704, 2.193854748603352, 2.2]\n",
    "\n",
    "quality = ['trail', 'good', 'good', 'good', 'good', 'good', 'good', 'good', 'good', 'good', 'good', 'good', 'good', 'good', 'good', 'good', 'good', 'cloud', 'good', 'good', 'good', 'good', 'good', 'good', 'good', 'good', 'good', 'good', 'good', 'good', 'good', 'good', 'good', 'good', 'cloud', 'good', 'good', 'trail', 'good', 'good', 'good', 'good', 'good', 'good', 'good', 'good', 'good', 'good', 'good', 'good', 'good', 'cloud', 'good', 'good', 'good', 'good', 'good', 'good', 'good', 'good', 'good', 'good', 'good', 'good', 'good', 'good', 'good', 'good', 'cloud', 'good', 'good', 'good', 'good', 'good', 'trail', 'good', 'good', 'good', 'good', 'good', 'good', 'good', 'good', 'good', 'good', 'cloud', 'good', 'good', 'good', 'good', 'good', 'good', 'good', 'good', 'good', 'good', 'good', 'good', 'good', 'good', 'good', 'good', 'cloud', 'good', 'good', 'good', 'good', 'good', 'good', 'good', 'good', 'trail', 'good', 'good', 'good', 'good', 'good', 'good', 'good', 'cloud', 'good', 'good', 'good', 'good', 'good', 'good', 'good', 'good', 'good', 'good', 'good', 'good', 'good', 'good', 'good', 'good', 'cloud', 'good', 'good', 'good', 'good', 'good', 'good', 'good', 'good', 'good', 'good', 'good', 'trail', 'good', 'good', 'good', 'good', 'cloud', 'good', 'good', 'good', 'good', 'good', 'good', 'good', 'good', 'good', 'good', 'good', 'good', 'good', 'good', 'good', 'good', 'cloud', 'good', 'good', 'good', 'good', 'good', 'good', 'good', 'good', 'good']"
   ]
  },
  {
   "cell_type": "code",
   "execution_count": 65,
   "id": "a88937ae-ea51-4ca9-9df9-b2990d1efa17",
   "metadata": {
    "editable": true,
    "slideshow": {
     "slide_type": ""
    },
    "tags": []
   },
   "outputs": [],
   "source": [
    "# complete\n",
    "mask = [airmass[i] < 2 and quality[i] == 'good' for i in range(len(airmass))]\n",
    "\n",
    "# complete\n",
    "good_time = [time[i] for i in range(len(mask)) if mask[i]]\n",
    "good_flux = [flux[i] for i in range(len(mask)) if mask[i]]\n",
    "\n",
    "# complete\n",
    "# complete\n",
    "# complete\n",
    "baseline_flux = sum(good_flux[:70])/70\n",
    "flux_normalized = [flux_entry/baseline_flux for flux_entry in good_flux]\n",
    "rolling_mean = [ sum(flux_normalized[i-2:i+2])/5 for i in range(2, len(flux_normalized)-2) ]\n",
    "\n",
    "\n",
    "# complete"
   ]
  },
  {
   "cell_type": "code",
   "execution_count": null,
   "id": "5a574709-2590-447b-9531-6797bc041bff",
   "metadata": {
    "editable": true,
    "slideshow": {
     "slide_type": ""
    },
    "tags": []
   },
   "outputs": [],
   "source": []
  }
 ],
 "metadata": {
  "kernelspec": {
   "display_name": "Python 3",
   "language": "python",
   "name": "python3"
  },
  "language_info": {
   "codemirror_mode": {
    "name": "ipython",
    "version": 3
   },
   "file_extension": ".py",
   "mimetype": "text/x-python",
   "name": "python",
   "nbconvert_exporter": "python",
   "pygments_lexer": "ipython3",
   "version": "3.12.3"
  }
 },
 "nbformat": 4,
 "nbformat_minor": 5
}
