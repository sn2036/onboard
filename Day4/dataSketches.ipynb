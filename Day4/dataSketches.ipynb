{
 "cells": [
  {
   "cell_type": "markdown",
   "id": "f645592b-3519-445b-8344-0054d4d488d1",
   "metadata": {
    "editable": true,
    "slideshow": {
     "slide_type": ""
    },
    "tags": []
   },
   "source": [
    "# Data Sketches  \n",
    "\n",
    "----\n",
    "\n",
    "By Adam A Miller (Northwestern/CIERA/SkAI)  \n",
    "11 Sept 2025"
   ]
  },
  {
   "cell_type": "markdown",
   "id": "c7ecd3e5-8f3b-44d0-8a89-c24f44bf030b",
   "metadata": {
    "editable": true,
    "slideshow": {
     "slide_type": ""
    },
    "tags": []
   },
   "source": [
    "## Problem 1) Brainstorm\n",
    "\n",
    "Start out by thinking about some datasets that exhibit sufficient complexity to reward a visualization. (Bonus points if it is a data set that you have analyzed previously.)"
   ]
  },
  {
   "cell_type": "markdown",
   "id": "15bba26f-4fd6-4e9a-bc32-363beced2f23",
   "metadata": {
    "editable": true,
    "slideshow": {
     "slide_type": ""
    },
    "tags": []
   },
   "source": [
    "## Problem 2) What Type of Plot?\n",
    "\n",
    "What types of plot may be useful for visualizing your data? \n",
    "\n",
    "Which of these would you include either in the discovery or the communication step in your visualization? How do you show the range of scales in your data? How do you allow for in depth exploration? What plots characterize or fit nicely with the type of data you're visualizing? What structure fits your data best? \n",
    "\n",
    "These questions will guide your sketch and form the basis for your visualization concept.\n",
    "\n",
    "If you need inspiration check out the matplotlib gallery:\n",
    "\n",
    "https://matplotlib.org/stable/plot_types/index.html"
   ]
  },
  {
   "cell_type": "markdown",
   "id": "bb8f09f6-b69e-428c-9708-5e90233eb146",
   "metadata": {
    "editable": true,
    "slideshow": {
     "slide_type": ""
    },
    "tags": []
   },
   "source": [
    "## Problem 3) Sketch!\n",
    "\n",
    "Using the available art supplies - create a sketch of your planned visualization. \n",
    "\n",
    "Will your sketch be interactive? How will people interact with it? \n",
    "\n",
    "What barriers might be present (intentional or otherwise)? \n",
    "\n",
    "What role do beauty and attention play in your concept?"
   ]
  },
  {
   "cell_type": "markdown",
   "id": "72d6210a-490c-468d-8174-8efa45c3d564",
   "metadata": {
    "editable": true,
    "slideshow": {
     "slide_type": ""
    },
    "tags": []
   },
   "source": [
    "## 4) Palette\n",
    "\n",
    "What colors will you choose for each part of your sketch? Which symbols? How will you ensure visual separation or treat hierarchies that might be present in your data? Do your choices of colors or symbols impact accessibility?"
   ]
  },
  {
   "cell_type": "markdown",
   "id": "e3ecb0c2-63fc-438f-a206-1866745d5ebc",
   "metadata": {
    "editable": true,
    "slideshow": {
     "slide_type": ""
    },
    "tags": []
   },
   "source": [
    "## 5) Reflect\n",
    "\n",
    "Finally, reflect on your visualization or visualizations. Is this something that you can actually build? Is this useful? If so, is it useful to communicate or to discover?"
   ]
  }
 ],
 "metadata": {
  "kernelspec": {
   "display_name": "Python 3 (ipykernel)",
   "language": "python",
   "name": "python3"
  },
  "language_info": {
   "codemirror_mode": {
    "name": "ipython",
    "version": 3
   },
   "file_extension": ".py",
   "mimetype": "text/x-python",
   "name": "python",
   "nbconvert_exporter": "python",
   "pygments_lexer": "ipython3",
   "version": "3.11.4"
  }
 },
 "nbformat": 4,
 "nbformat_minor": 5
}
